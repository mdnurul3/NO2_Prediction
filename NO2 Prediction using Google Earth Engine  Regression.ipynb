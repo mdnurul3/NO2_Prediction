{
 "cells": [
  {
   "cell_type": "code",
   "execution_count": 4,
   "id": "a2418929",
   "metadata": {},
   "outputs": [],
   "source": [
    "import ee\n",
    "import geemap"
   ]
  },
  {
   "cell_type": "code",
   "execution_count": 5,
   "id": "9d2fb9a1",
   "metadata": {},
   "outputs": [
    {
     "data": {
      "application/vnd.jupyter.widget-view+json": {
       "model_id": "fcd8bcc3817841418611def496e836c0",
       "version_major": 2,
       "version_minor": 0
      },
      "text/plain": [
       "Map(center=[40, -100], controls=(WidgetControl(options=['position'], widget=HBox(children=(ToggleButton(value=…"
      ]
     },
     "metadata": {},
     "output_type": "display_data"
    }
   ],
   "source": [
    "Map_S5P = geemap.Map()\n",
    "Map_S5P"
   ]
  },
  {
   "cell_type": "code",
   "execution_count": 6,
   "id": "c3d76329",
   "metadata": {},
   "outputs": [],
   "source": [
    "point_S5P = ee.Geometry.Rectangle([-122.8003, 37.4831, -122.8036, 37.8288])\n",
    "\n",
    "image_S5P = ee.ImageCollection(\"COPERNICUS/S5P/NRTI/L3_NO2\") \\\n",
    "    .filterBounds(point_S5P) \\\n",
    "    .filterDate('2018-07-11', '2019-06-30') \\\n",
    "    .sort('ALGORITHM_VERSION') \\\n",
    "    .first() \\\n",
    "    .select('NO2_column_number_density')\n",
    "\n",
    "vis_params = {\n",
    "    'min': 0,\n",
    "    'max': 0.0002,\n",
    "    'bands': ['NO2_column_number_density'],\n",
    "    'palette': ['black', 'blue', 'purple', 'cyan', 'green', 'yellow', 'red']\n",
    "}\n",
    "Map_S5P.centerObject(point_S5P, 8)\n",
    "Map_S5P.addLayer(image_S5P, vis_params, \"Sentinel-5P TROPIMI NO2\")\n"
   ]
  },
  {
   "cell_type": "code",
   "execution_count": 7,
   "id": "15d8c928",
   "metadata": {},
   "outputs": [
    {
     "data": {
      "application/vnd.jupyter.widget-view+json": {
       "model_id": "550eb5c6456a4f40b7844918b03dd613",
       "version_major": 2,
       "version_minor": 0
      },
      "text/plain": [
       "Map(center=[40, -100], controls=(WidgetControl(options=['position'], widget=HBox(children=(ToggleButton(value=…"
      ]
     },
     "metadata": {},
     "output_type": "display_data"
    }
   ],
   "source": [
    "Map_LANDSAT8 = geemap.Map()\n",
    "Map_LANDSAT8"
   ]
  },
  {
   "cell_type": "code",
   "execution_count": 8,
   "id": "eb473209",
   "metadata": {},
   "outputs": [],
   "source": [
    "point_LANDSAT8 = ee.Geometry.Point([-122.4439, 37.7538])\n",
    "\n",
    "image_LANDSAT8 = ee.ImageCollection('LANDSAT/LC08/C01/T1_SR') \\\n",
    "    .filterBounds(point_LANDSAT8) \\\n",
    "    .filterDate('2018-07-01', '2019-06-30') \\\n",
    "    .sort('CLOUD_COVER') \\\n",
    "    .first() \\\n",
    "    .select('B[1-7]')\n",
    "\n",
    "vis_params = {\n",
    "    'min': 0,\n",
    "    'max': 3000,\n",
    "    'bands': ['B5', 'B4', 'B3']\n",
    "}\n",
    "\n",
    "Map_LANDSAT8.centerObject(point_LANDSAT8, 8)\n",
    "Map_LANDSAT8.addLayer(image_LANDSAT8, vis_params, \"Landsat-8\")\n"
   ]
  },
  {
   "cell_type": "code",
   "execution_count": 9,
   "id": "98cd2f41",
   "metadata": {},
   "outputs": [
    {
     "data": {
      "text/plain": [
       "'2018-11-08'"
      ]
     },
     "execution_count": 9,
     "metadata": {},
     "output_type": "execute_result"
    }
   ],
   "source": [
    "ee.Date(image_LANDSAT8.get('system:time_start')).format('YYYY-MM-dd').getInfo()"
   ]
  },
  {
   "cell_type": "code",
   "execution_count": 11,
   "id": "f5921eb8",
   "metadata": {},
   "outputs": [],
   "source": [
    "#image.get('ALGORITHM_VERSION').getInfo()"
   ]
  },
  {
   "cell_type": "code",
   "execution_count": 12,
   "id": "9623c573",
   "metadata": {},
   "outputs": [
    {
     "data": {
      "application/vnd.jupyter.widget-view+json": {
       "model_id": "550eb5c6456a4f40b7844918b03dd613",
       "version_major": 2,
       "version_minor": 0
      },
      "text/plain": [
       "Map(bottom=25636.0, center=[37.75379999999999, -122.44390000000001], controls=(WidgetControl(options=['positio…"
      ]
     },
     "metadata": {},
     "output_type": "display_data"
    }
   ],
   "source": [
    "#tropimi = ee.Image('USGS/NLCD/NLCD2016').select('landcover').clip(image_S5P.geometry())\n",
    "Map_LANDSAT8.addLayer(image_S5P, {}, 'TROPIMI')\n",
    "Map_LANDSAT8"
   ]
  },
  {
   "cell_type": "code",
   "execution_count": 13,
   "id": "6897890d",
   "metadata": {},
   "outputs": [],
   "source": [
    "# Make the training dataset.\n",
    "points = image_S5P.sample(**{\n",
    "    'region': image_LANDSAT8.geometry(),\n",
    "    'scale': 30,\n",
    "    'numPixels': 5000,\n",
    "    'seed': 0,\n",
    "    'geometries': True  # Set this to False to ignore geometries\n",
    "})\n",
    "\n",
    "Map_LANDSAT8.addLayer(points, {}, 'training', False)"
   ]
  },
  {
   "cell_type": "code",
   "execution_count": 14,
   "id": "6bbce41c",
   "metadata": {},
   "outputs": [
    {
     "name": "stdout",
     "output_type": "stream",
     "text": [
      "5000\n"
     ]
    }
   ],
   "source": [
    "print(points.size().getInfo())"
   ]
  },
  {
   "cell_type": "code",
   "execution_count": 15,
   "id": "7988c2c5",
   "metadata": {},
   "outputs": [
    {
     "name": "stdout",
     "output_type": "stream",
     "text": [
      "{'type': 'Feature', 'geometry': {'type': 'Point', 'coordinates': [-121.68730640159825, 37.86722226931812]}, 'id': '0', 'properties': {'NO2_column_number_density': 0.00011661837197607383}}\n"
     ]
    }
   ],
   "source": [
    "print(points.first().getInfo())"
   ]
  },
  {
   "cell_type": "code",
   "execution_count": 19,
   "id": "f62e1a11",
   "metadata": {},
   "outputs": [],
   "source": [
    "# Use these bands for prediction.\n",
    "bands = ['B1', 'B2', 'B3', 'B4', 'B5', 'B6', 'B7']\n",
    "\n",
    "\n",
    "# This property of the table stores the land cover labels.\n",
    "label = 'NO2_column_number_density'\n",
    "\n",
    "# Overlay the points on the imagery to get training.\n",
    "training = image_LANDSAT8.select(bands).sampleRegions(**{\n",
    "  'collection': points,\n",
    "  'properties': [label],\n",
    "  'scale': 30\n",
    "})\n",
    "\n",
    "# Train a CART classifier with default parameters.\n",
    "trained = ee.Classifier.smileCart().setOutputMode('REGRESSION').train(training, label, bands)"
   ]
  },
  {
   "cell_type": "code",
   "execution_count": 20,
   "id": "82c5609d",
   "metadata": {},
   "outputs": [
    {
     "name": "stdout",
     "output_type": "stream",
     "text": [
      "{'type': 'Feature', 'geometry': None, 'id': '0_0', 'properties': {'B1': 652, 'B2': 889, 'B3': 1427, 'B4': 2152, 'B5': 3359, 'B6': 3883, 'B7': 2410, 'NO2_column_number_density': 0.00011661837197607383}}\n"
     ]
    }
   ],
   "source": [
    "print(training.first().getInfo())"
   ]
  },
  {
   "cell_type": "code",
   "execution_count": 21,
   "id": "3630d8d4",
   "metadata": {},
   "outputs": [
    {
     "data": {
      "application/vnd.jupyter.widget-view+json": {
       "model_id": "550eb5c6456a4f40b7844918b03dd613",
       "version_major": 2,
       "version_minor": 0
      },
      "text/plain": [
       "Map(bottom=25636.0, center=[37.75379999999999, -122.44390000000001], controls=(WidgetControl(options=['positio…"
      ]
     },
     "metadata": {},
     "output_type": "display_data"
    }
   ],
   "source": [
    "# Classify the image with the same bands used for training.\n",
    "result = image_LANDSAT8.select(bands).classify(trained)\n",
    "\n",
    "# # Display the clusters with random colors.\n",
    "Map_LANDSAT8.addLayer(result.randomVisualizer(), {}, 'classfied')\n",
    "Map_LANDSAT8"
   ]
  },
  {
   "cell_type": "code",
   "execution_count": null,
   "id": "40700972",
   "metadata": {},
   "outputs": [],
   "source": []
  }
 ],
 "metadata": {
  "kernelspec": {
   "display_name": "Python 3",
   "language": "python",
   "name": "python3"
  },
  "language_info": {
   "codemirror_mode": {
    "name": "ipython",
    "version": 3
   },
   "file_extension": ".py",
   "mimetype": "text/x-python",
   "name": "python",
   "nbconvert_exporter": "python",
   "pygments_lexer": "ipython3",
   "version": "3.8.8"
  }
 },
 "nbformat": 4,
 "nbformat_minor": 5
}
