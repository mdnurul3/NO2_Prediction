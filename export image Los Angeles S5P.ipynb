{
 "cells": [
  {
   "cell_type": "code",
   "execution_count": 11,
   "id": "206c22d7",
   "metadata": {},
   "outputs": [],
   "source": [
    "import ee\n",
    "import geemap\n",
    "import os"
   ]
  },
  {
   "cell_type": "code",
   "execution_count": 12,
   "id": "bca8304a",
   "metadata": {},
   "outputs": [
    {
     "data": {
      "application/vnd.jupyter.widget-view+json": {
       "model_id": "6b9b49564a61491da10614ad12b5582a",
       "version_major": 2,
       "version_minor": 0
      },
      "text/plain": [
       "Map(center=[40, -100], controls=(WidgetControl(options=['position'], widget=HBox(children=(ToggleButton(value=…"
      ]
     },
     "metadata": {},
     "output_type": "display_data"
    }
   ],
   "source": [
    "Map = geemap.Map()\n",
    "Map"
   ]
  },
  {
   "cell_type": "code",
   "execution_count": 13,
   "id": "8288ba1c",
   "metadata": {},
   "outputs": [],
   "source": [
    "# Create a common region of interest (Los Angeles)\n",
    "roi = ee.Geometry.Polygon([[[-121.39140625, 35.650331512181495],\n",
    "          [-121.39140625, 30.687240701629882],\n",
    "          [-112.7341796875, 30.687240701629882],\n",
    "          [-112.7341796875, 35.650331512181495]]])"
   ]
  },
  {
   "cell_type": "code",
   "execution_count": 14,
   "id": "2830aaa6",
   "metadata": {},
   "outputs": [],
   "source": [
    "# Data COllection for July\n",
    "image_S5P = ee.ImageCollection(\"COPERNICUS/S5P/NRTI/L3_NO2\") \\\n",
    "    .filterBounds(roi) \\\n",
    "    .filterDate('2018-07-01', '2018-07-31') \\\n",
    "    .sort('ALGORITHM_VERSION') \\\n",
    "    .select('NO2_column_number_density') \\\n",
    "    .median() \\\n",
    "    .clip(roi)\n",
    "\n",
    "vis_params_S5P = {\n",
    "    'min': 0,\n",
    "    'max': 0.0002,\n",
    "    'bands': ['NO2_column_number_density'],\n",
    "    'palette': ['black', 'blue', 'purple', 'cyan', 'green', 'yellow', 'red']\n",
    "}\n",
    "\n",
    "Map.addLayer(image_S5P, vis_params_S5P, \"Sentinel-5P TROPOMI NO2\")\n"
   ]
  },
  {
   "cell_type": "code",
   "execution_count": 16,
   "id": "3b968fa2",
   "metadata": {},
   "outputs": [
    {
     "name": "stdout",
     "output_type": "stream",
     "text": [
      "The ee_object must be an ee.ImageCollection.\n"
     ]
    }
   ],
   "source": [
    "geemap.ee_export_image_collection(image_S5P, out_dir='/Users/mdnhuda/Desktop/PARC IEM Data/Correlation for Month with Scatter')"
   ]
  },
  {
   "cell_type": "code",
   "execution_count": 17,
   "id": "b636dd31",
   "metadata": {},
   "outputs": [
    {
     "data": {
      "text/plain": [
       "<ee.image.Image at 0x7f9b7609d2b0>"
      ]
     },
     "execution_count": 17,
     "metadata": {},
     "output_type": "execute_result"
    }
   ],
   "source": [
    "image_S5P"
   ]
  },
  {
   "cell_type": "code",
   "execution_count": 20,
   "id": "4b53e36d",
   "metadata": {},
   "outputs": [
    {
     "ename": "AttributeError",
     "evalue": "'str' object has no attribute 'shape'",
     "output_type": "error",
     "traceback": [
      "\u001b[0;31m---------------------------------------------------------------------------\u001b[0m",
      "\u001b[0;31mAttributeError\u001b[0m                            Traceback (most recent call last)",
      "\u001b[0;32m<ipython-input-20-1f933fdc3d61>\u001b[0m in \u001b[0;36m<module>\u001b[0;34m\u001b[0m\n\u001b[0;32m----> 1\u001b[0;31m \u001b[0mfilename\u001b[0m\u001b[0;34m.\u001b[0m\u001b[0mshape\u001b[0m\u001b[0;34m\u001b[0m\u001b[0;34m\u001b[0m\u001b[0m\n\u001b[0m",
      "\u001b[0;31mAttributeError\u001b[0m: 'str' object has no attribute 'shape'"
     ]
    }
   ],
   "source": [
    "filename.shape"
   ]
  },
  {
   "cell_type": "code",
   "execution_count": null,
   "id": "1dfcfe03",
   "metadata": {},
   "outputs": [],
   "source": []
  }
 ],
 "metadata": {
  "kernelspec": {
   "display_name": "Python 3",
   "language": "python",
   "name": "python3"
  },
  "language_info": {
   "codemirror_mode": {
    "name": "ipython",
    "version": 3
   },
   "file_extension": ".py",
   "mimetype": "text/x-python",
   "name": "python",
   "nbconvert_exporter": "python",
   "pygments_lexer": "ipython3",
   "version": "3.8.8"
  }
 },
 "nbformat": 4,
 "nbformat_minor": 5
}
