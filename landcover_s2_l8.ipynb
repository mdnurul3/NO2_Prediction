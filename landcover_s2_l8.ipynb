{
 "cells": [
  {
   "cell_type": "code",
   "execution_count": 1,
   "id": "630b5437",
   "metadata": {},
   "outputs": [],
   "source": [
    "import ee\n",
    "import geemap\n",
    "import pandas as pd\n",
    "import numpy as np\n",
    "import os"
   ]
  },
  {
   "cell_type": "code",
   "execution_count": 2,
   "id": "6ae532c7",
   "metadata": {},
   "outputs": [],
   "source": [
    "from sklearn import preprocessing\n",
    "le = preprocessing.LabelEncoder()"
   ]
  },
  {
   "cell_type": "code",
   "execution_count": 3,
   "id": "9e525667",
   "metadata": {},
   "outputs": [],
   "source": [
    "from sklearn.model_selection import RepeatedKFold, train_test_split\n",
    "from sklearn.ensemble import RandomForestRegressor, GradientBoostingRegressor\n",
    "from sklearn.tree import DecisionTreeRegressor\n",
    "import matplotlib.pyplot as plt\n",
    "from sklearn.inspection import permutation_importance\n",
    "from sklearn.neural_network import MLPRegressor"
   ]
  },
  {
   "cell_type": "code",
   "execution_count": 4,
   "id": "ab7c8c08",
   "metadata": {},
   "outputs": [],
   "source": [
    "ee.Initialize()"
   ]
  },
  {
   "cell_type": "code",
   "execution_count": 5,
   "id": "1ddca4b6",
   "metadata": {},
   "outputs": [],
   "source": [
    "# Create a common region of interest (San Francisco)\n",
    "roi = ee.Geometry.Polygon([[[-123.28736502403991,36.53106212747138],\n",
    "        [-120.57374197716491,36.53106212747138],\n",
    "        [-120.57374197716491,38.629116592353306],\n",
    "        [-123.28736502403991,38.629116592353306],\n",
    "        [-123.28736502403991,36.53106212747138]]])"
   ]
  },
  {
   "cell_type": "code",
   "execution_count": 6,
   "id": "81fb5aa1",
   "metadata": {},
   "outputs": [],
   "source": [
    "# Data COllection for July\n",
    "image_S5P = ee.ImageCollection(\"COPERNICUS/S5P/NRTI/L3_NO2\") \\\n",
    "    .filterBounds(roi) \\\n",
    "    .filterDate('2018-07-01', '2018-07-31') \\\n",
    "    .sort('ALGORITHM_VERSION') \\\n",
    "    .select('NO2_column_number_density') \\\n",
    "    .median() \\\n",
    "    .clip(roi)\n",
    "\n",
    "\n",
    "image_LANDSAT8 = ee.ImageCollection('LANDSAT/LC08/C01/T1_SR') \\\n",
    "    .filterBounds(roi) \\\n",
    "    .filterDate('2018-07-01', '2018-07-31') \\\n",
    "    .sort('CLOUD_COVER') \\\n",
    "    .select('B1', 'B2', 'B3', 'B4', 'B5', 'B6', 'B7', 'B10', 'B11', 'sr_aerosol') \\\n",
    "    .median() \\\n",
    "    .clip(roi)\n",
    "\n",
    "\n",
    "image_S2_SR = ee.ImageCollection(\"COPERNICUS/S2\") \\\n",
    "  .filterBounds(roi) \\\n",
    "  .filterDate('2018-07-01', '2018-07-31'); \n",
    "\n",
    "# This tells us what images are inside the collection\n",
    "# These are the bands that we want to be displayed\n",
    "S2_bands = ['B1', 'B2', 'B3', 'B4', 'B5', 'B6', 'B7','B8','B8A','B9', 'B11', 'B12']\n",
    "bands=['B4', 'B3', 'B2']\n",
    "\n",
    "# This turns the whole S2 collection into one image, finding the middle value for each pixel\n",
    "image_S2_SR = image_S2_SR.median().select(S2_bands).clip(roi)\n"
   ]
  },
  {
   "cell_type": "code",
   "execution_count": 8,
   "id": "6cee2448",
   "metadata": {},
   "outputs": [
    {
     "name": "stdout",
     "output_type": "stream",
     "text": [
      "The input shapefile could not be found.\n",
      "expected str, bytes or os.PathLike object, not NoneType\n"
     ]
    },
    {
     "ename": "EEException",
     "evalue": "Parameter 'collection' is required.",
     "output_type": "error",
     "traceback": [
      "\u001b[0;31m---------------------------------------------------------------------------\u001b[0m",
      "\u001b[0;31mHttpError\u001b[0m                                 Traceback (most recent call last)",
      "\u001b[0;32m~/opt/anaconda3/lib/python3.8/site-packages/ee/data.py\u001b[0m in \u001b[0;36m_execute_cloud_call\u001b[0;34m(call, num_retries)\u001b[0m\n\u001b[1;32m    333\u001b[0m   \u001b[0;32mtry\u001b[0m\u001b[0;34m:\u001b[0m\u001b[0;34m\u001b[0m\u001b[0;34m\u001b[0m\u001b[0m\n\u001b[0;32m--> 334\u001b[0;31m     \u001b[0;32mreturn\u001b[0m \u001b[0mcall\u001b[0m\u001b[0;34m.\u001b[0m\u001b[0mexecute\u001b[0m\u001b[0;34m(\u001b[0m\u001b[0mnum_retries\u001b[0m\u001b[0;34m=\u001b[0m\u001b[0mnum_retries\u001b[0m\u001b[0;34m)\u001b[0m\u001b[0;34m\u001b[0m\u001b[0;34m\u001b[0m\u001b[0m\n\u001b[0m\u001b[1;32m    335\u001b[0m   \u001b[0;32mexcept\u001b[0m \u001b[0mgoogleapiclient\u001b[0m\u001b[0;34m.\u001b[0m\u001b[0merrors\u001b[0m\u001b[0;34m.\u001b[0m\u001b[0mHttpError\u001b[0m \u001b[0;32mas\u001b[0m \u001b[0me\u001b[0m\u001b[0;34m:\u001b[0m\u001b[0;34m\u001b[0m\u001b[0;34m\u001b[0m\u001b[0m\n",
      "\u001b[0;32m~/opt/anaconda3/lib/python3.8/site-packages/googleapiclient/_helpers.py\u001b[0m in \u001b[0;36mpositional_wrapper\u001b[0;34m(*args, **kwargs)\u001b[0m\n\u001b[1;32m    133\u001b[0m                     \u001b[0mlogger\u001b[0m\u001b[0;34m.\u001b[0m\u001b[0mwarning\u001b[0m\u001b[0;34m(\u001b[0m\u001b[0mmessage\u001b[0m\u001b[0;34m)\u001b[0m\u001b[0;34m\u001b[0m\u001b[0;34m\u001b[0m\u001b[0m\n\u001b[0;32m--> 134\u001b[0;31m             \u001b[0;32mreturn\u001b[0m \u001b[0mwrapped\u001b[0m\u001b[0;34m(\u001b[0m\u001b[0;34m*\u001b[0m\u001b[0margs\u001b[0m\u001b[0;34m,\u001b[0m \u001b[0;34m**\u001b[0m\u001b[0mkwargs\u001b[0m\u001b[0;34m)\u001b[0m\u001b[0;34m\u001b[0m\u001b[0;34m\u001b[0m\u001b[0m\n\u001b[0m\u001b[1;32m    135\u001b[0m \u001b[0;34m\u001b[0m\u001b[0m\n",
      "\u001b[0;32m~/opt/anaconda3/lib/python3.8/site-packages/googleapiclient/http.py\u001b[0m in \u001b[0;36mexecute\u001b[0;34m(self, http, num_retries)\u001b[0m\n\u001b[1;32m    914\u001b[0m         \u001b[0;32mif\u001b[0m \u001b[0mresp\u001b[0m\u001b[0;34m.\u001b[0m\u001b[0mstatus\u001b[0m \u001b[0;34m>=\u001b[0m \u001b[0;36m300\u001b[0m\u001b[0;34m:\u001b[0m\u001b[0;34m\u001b[0m\u001b[0;34m\u001b[0m\u001b[0m\n\u001b[0;32m--> 915\u001b[0;31m             \u001b[0;32mraise\u001b[0m \u001b[0mHttpError\u001b[0m\u001b[0;34m(\u001b[0m\u001b[0mresp\u001b[0m\u001b[0;34m,\u001b[0m \u001b[0mcontent\u001b[0m\u001b[0;34m,\u001b[0m \u001b[0muri\u001b[0m\u001b[0;34m=\u001b[0m\u001b[0mself\u001b[0m\u001b[0;34m.\u001b[0m\u001b[0muri\u001b[0m\u001b[0;34m)\u001b[0m\u001b[0;34m\u001b[0m\u001b[0;34m\u001b[0m\u001b[0m\n\u001b[0m\u001b[1;32m    916\u001b[0m         \u001b[0;32mreturn\u001b[0m \u001b[0mself\u001b[0m\u001b[0;34m.\u001b[0m\u001b[0mpostproc\u001b[0m\u001b[0;34m(\u001b[0m\u001b[0mresp\u001b[0m\u001b[0;34m,\u001b[0m \u001b[0mcontent\u001b[0m\u001b[0;34m)\u001b[0m\u001b[0;34m\u001b[0m\u001b[0;34m\u001b[0m\u001b[0m\n",
      "\u001b[0;31mHttpError\u001b[0m: <HttpError 400 when requesting https://earthengine.googleapis.com/v1alpha/projects/earthengine-legacy/value:compute?prettyPrint=false&alt=json returned \"Parameter 'collection' is required.\". Details: \"Parameter 'collection' is required.\">",
      "\nDuring handling of the above exception, another exception occurred:\n",
      "\u001b[0;31mEEException\u001b[0m                               Traceback (most recent call last)",
      "\u001b[0;32m<ipython-input-8-b643f110d9cb>\u001b[0m in \u001b[0;36m<module>\u001b[0;34m\u001b[0m\n\u001b[1;32m     12\u001b[0m \u001b[0;34m\u001b[0m\u001b[0m\n\u001b[1;32m     13\u001b[0m \u001b[0mout_csv\u001b[0m \u001b[0;34m=\u001b[0m \u001b[0mos\u001b[0m\u001b[0;34m.\u001b[0m\u001b[0mpath\u001b[0m\u001b[0;34m.\u001b[0m\u001b[0mjoin\u001b[0m\u001b[0;34m(\u001b[0m\u001b[0mwork_dir\u001b[0m\u001b[0;34m,\u001b[0m \u001b[0;34m'Combined_ESRI_S2_LandSat8_S5_San_Francisco_TPOT July.csv'\u001b[0m\u001b[0;34m)\u001b[0m\u001b[0;34m\u001b[0m\u001b[0;34m\u001b[0m\u001b[0m\n\u001b[0;32m---> 14\u001b[0;31m \u001b[0mgeemap\u001b[0m\u001b[0;34m.\u001b[0m\u001b[0mextract_values_to_points\u001b[0m\u001b[0;34m(\u001b[0m\u001b[0min_fc\u001b[0m\u001b[0;34m,\u001b[0m \u001b[0mreproj_image\u001b[0m\u001b[0;34m,\u001b[0m \u001b[0mout_csv\u001b[0m\u001b[0;34m)\u001b[0m\u001b[0;34m\u001b[0m\u001b[0;34m\u001b[0m\u001b[0m\n\u001b[0m",
      "\u001b[0;32m~/opt/anaconda3/lib/python3.8/site-packages/geemap/common.py\u001b[0m in \u001b[0;36mextract_values_to_points\u001b[0;34m(in_fc, image, out_fc, properties, scale, projection, tile_scale, geometries)\u001b[0m\n\u001b[1;32m   6235\u001b[0m \u001b[0;34m\u001b[0m\u001b[0m\n\u001b[1;32m   6236\u001b[0m     \u001b[0;32mif\u001b[0m \u001b[0mout_fc\u001b[0m \u001b[0;32mis\u001b[0m \u001b[0;32mnot\u001b[0m \u001b[0;32mNone\u001b[0m\u001b[0;34m:\u001b[0m\u001b[0;34m\u001b[0m\u001b[0;34m\u001b[0m\u001b[0m\n\u001b[0;32m-> 6237\u001b[0;31m         \u001b[0mee_export_vector\u001b[0m\u001b[0;34m(\u001b[0m\u001b[0mresult\u001b[0m\u001b[0;34m,\u001b[0m \u001b[0mout_fc\u001b[0m\u001b[0;34m)\u001b[0m\u001b[0;34m\u001b[0m\u001b[0;34m\u001b[0m\u001b[0m\n\u001b[0m\u001b[1;32m   6238\u001b[0m     \u001b[0;32melse\u001b[0m\u001b[0;34m:\u001b[0m\u001b[0;34m\u001b[0m\u001b[0;34m\u001b[0m\u001b[0m\n\u001b[1;32m   6239\u001b[0m         \u001b[0;32mreturn\u001b[0m \u001b[0mresult\u001b[0m\u001b[0;34m\u001b[0m\u001b[0;34m\u001b[0m\u001b[0m\n",
      "\u001b[0;32m~/opt/anaconda3/lib/python3.8/site-packages/geemap/common.py\u001b[0m in \u001b[0;36mee_export_vector\u001b[0;34m(ee_object, filename, selectors, verbose, keep_zip)\u001b[0m\n\u001b[1;32m   1276\u001b[0m \u001b[0;34m\u001b[0m\u001b[0m\n\u001b[1;32m   1277\u001b[0m     \u001b[0;32mif\u001b[0m \u001b[0mselectors\u001b[0m \u001b[0;32mis\u001b[0m \u001b[0;32mNone\u001b[0m\u001b[0;34m:\u001b[0m\u001b[0;34m\u001b[0m\u001b[0;34m\u001b[0m\u001b[0m\n\u001b[0;32m-> 1278\u001b[0;31m         \u001b[0mselectors\u001b[0m \u001b[0;34m=\u001b[0m \u001b[0mee_object\u001b[0m\u001b[0;34m.\u001b[0m\u001b[0mfirst\u001b[0m\u001b[0;34m(\u001b[0m\u001b[0;34m)\u001b[0m\u001b[0;34m.\u001b[0m\u001b[0mpropertyNames\u001b[0m\u001b[0;34m(\u001b[0m\u001b[0;34m)\u001b[0m\u001b[0;34m.\u001b[0m\u001b[0mgetInfo\u001b[0m\u001b[0;34m(\u001b[0m\u001b[0;34m)\u001b[0m\u001b[0;34m\u001b[0m\u001b[0;34m\u001b[0m\u001b[0m\n\u001b[0m\u001b[1;32m   1279\u001b[0m         \u001b[0;32mif\u001b[0m \u001b[0mfiletype\u001b[0m \u001b[0;34m==\u001b[0m \u001b[0;34m\"csv\"\u001b[0m\u001b[0;34m:\u001b[0m\u001b[0;34m\u001b[0m\u001b[0;34m\u001b[0m\u001b[0m\n\u001b[1;32m   1280\u001b[0m             \u001b[0;31m# remove .geo coordinate field\u001b[0m\u001b[0;34m\u001b[0m\u001b[0;34m\u001b[0m\u001b[0;34m\u001b[0m\u001b[0m\n",
      "\u001b[0;32m~/opt/anaconda3/lib/python3.8/site-packages/ee/computedobject.py\u001b[0m in \u001b[0;36mgetInfo\u001b[0;34m(self)\u001b[0m\n\u001b[1;32m     96\u001b[0m       \u001b[0mThe\u001b[0m \u001b[0mobject\u001b[0m \u001b[0mcan\u001b[0m \u001b[0mevaluate\u001b[0m \u001b[0mto\u001b[0m \u001b[0manything\u001b[0m\u001b[0;34m.\u001b[0m\u001b[0;34m\u001b[0m\u001b[0;34m\u001b[0m\u001b[0m\n\u001b[1;32m     97\u001b[0m     \"\"\"\n\u001b[0;32m---> 98\u001b[0;31m     \u001b[0;32mreturn\u001b[0m \u001b[0mdata\u001b[0m\u001b[0;34m.\u001b[0m\u001b[0mcomputeValue\u001b[0m\u001b[0;34m(\u001b[0m\u001b[0mself\u001b[0m\u001b[0;34m)\u001b[0m\u001b[0;34m\u001b[0m\u001b[0;34m\u001b[0m\u001b[0m\n\u001b[0m\u001b[1;32m     99\u001b[0m \u001b[0;34m\u001b[0m\u001b[0m\n\u001b[1;32m    100\u001b[0m   \u001b[0;32mdef\u001b[0m \u001b[0mencode\u001b[0m\u001b[0;34m(\u001b[0m\u001b[0mself\u001b[0m\u001b[0;34m,\u001b[0m \u001b[0mencoder\u001b[0m\u001b[0;34m)\u001b[0m\u001b[0;34m:\u001b[0m\u001b[0;34m\u001b[0m\u001b[0;34m\u001b[0m\u001b[0m\n",
      "\u001b[0;32m~/opt/anaconda3/lib/python3.8/site-packages/ee/data.py\u001b[0m in \u001b[0;36mcomputeValue\u001b[0;34m(obj)\u001b[0m\n\u001b[1;32m    672\u001b[0m     \u001b[0mThe\u001b[0m \u001b[0mresult\u001b[0m \u001b[0mof\u001b[0m \u001b[0mevaluating\u001b[0m \u001b[0mthat\u001b[0m \u001b[0mobject\u001b[0m \u001b[0mon\u001b[0m \u001b[0mthe\u001b[0m \u001b[0mserver\u001b[0m\u001b[0;34m.\u001b[0m\u001b[0;34m\u001b[0m\u001b[0;34m\u001b[0m\u001b[0m\n\u001b[1;32m    673\u001b[0m   \"\"\"\n\u001b[0;32m--> 674\u001b[0;31m   return _execute_cloud_call(\n\u001b[0m\u001b[1;32m    675\u001b[0m       _get_cloud_api_resource().projects().value().compute(\n\u001b[1;32m    676\u001b[0m           \u001b[0mbody\u001b[0m\u001b[0;34m=\u001b[0m\u001b[0;34m{\u001b[0m\u001b[0;34m'expression'\u001b[0m\u001b[0;34m:\u001b[0m \u001b[0mserializer\u001b[0m\u001b[0;34m.\u001b[0m\u001b[0mencode\u001b[0m\u001b[0;34m(\u001b[0m\u001b[0mobj\u001b[0m\u001b[0;34m,\u001b[0m \u001b[0mfor_cloud_api\u001b[0m\u001b[0;34m=\u001b[0m\u001b[0;32mTrue\u001b[0m\u001b[0;34m)\u001b[0m\u001b[0;34m}\u001b[0m\u001b[0;34m,\u001b[0m\u001b[0;34m\u001b[0m\u001b[0;34m\u001b[0m\u001b[0m\n",
      "\u001b[0;32m~/opt/anaconda3/lib/python3.8/site-packages/ee/data.py\u001b[0m in \u001b[0;36m_execute_cloud_call\u001b[0;34m(call, num_retries)\u001b[0m\n\u001b[1;32m    334\u001b[0m     \u001b[0;32mreturn\u001b[0m \u001b[0mcall\u001b[0m\u001b[0;34m.\u001b[0m\u001b[0mexecute\u001b[0m\u001b[0;34m(\u001b[0m\u001b[0mnum_retries\u001b[0m\u001b[0;34m=\u001b[0m\u001b[0mnum_retries\u001b[0m\u001b[0;34m)\u001b[0m\u001b[0;34m\u001b[0m\u001b[0;34m\u001b[0m\u001b[0m\n\u001b[1;32m    335\u001b[0m   \u001b[0;32mexcept\u001b[0m \u001b[0mgoogleapiclient\u001b[0m\u001b[0;34m.\u001b[0m\u001b[0merrors\u001b[0m\u001b[0;34m.\u001b[0m\u001b[0mHttpError\u001b[0m \u001b[0;32mas\u001b[0m \u001b[0me\u001b[0m\u001b[0;34m:\u001b[0m\u001b[0;34m\u001b[0m\u001b[0;34m\u001b[0m\u001b[0m\n\u001b[0;32m--> 336\u001b[0;31m     \u001b[0;32mraise\u001b[0m \u001b[0m_translate_cloud_exception\u001b[0m\u001b[0;34m(\u001b[0m\u001b[0me\u001b[0m\u001b[0;34m)\u001b[0m\u001b[0;34m\u001b[0m\u001b[0;34m\u001b[0m\u001b[0m\n\u001b[0m\u001b[1;32m    337\u001b[0m \u001b[0;34m\u001b[0m\u001b[0m\n\u001b[1;32m    338\u001b[0m \u001b[0;34m\u001b[0m\u001b[0m\n",
      "\u001b[0;31mEEException\u001b[0m: Parameter 'collection' is required."
     ]
    }
   ],
   "source": [
    "#traing data for July\n",
    "ground_truth= image_LANDSAT8.addBands(image_S5P).addBands(image_S2_SR)\n",
    "\n",
    "work_dir = os.path.expanduser('C:\\\\Users\\\\Lizzy\\\\OneDrive - PARC\\\\Documents\\\\iem_groundsensor\\\\q2_model_files_plots')\n",
    "in_shp = os.path.join(work_dir, 'random_points_sf_lc.shp')\n",
    "\n",
    "in_fc = geemap.shp_to_ee(in_shp)\n",
    "\n",
    "proj = ee.Projection('EPSG:4326')\n",
    "reproj_image = ground_truth.resample('bilinear').reproject(crs=proj, scale=30)\n",
    "\n",
    "\n",
    "out_csv = os.path.join(work_dir, 'Combined_ESRI_S2_LandSat8_S5_San_Francisco_TPOT July.csv')\n",
    "geemap.extract_values_to_points(in_fc, reproj_image, out_csv)\n"
   ]
  },
  {
   "cell_type": "code",
   "execution_count": null,
   "id": "3713f595",
   "metadata": {},
   "outputs": [],
   "source": [
    "df=pd.read_csv('Combined_ESRI_S2_LandSat8_S5_San_Francisco_TPOT July.csv')\n",
    "\n",
    "df=df.drop('system:index', axis=1)"
   ]
  },
  {
   "cell_type": "code",
   "execution_count": null,
   "id": "30bfd95b",
   "metadata": {},
   "outputs": [],
   "source": [
    "df = df.iloc[: , 1:]"
   ]
  },
  {
   "cell_type": "code",
   "execution_count": null,
   "id": "5d9f5eb1",
   "metadata": {},
   "outputs": [],
   "source": [
    "df['L'] = le.fit_transform(df['L'].values)"
   ]
  },
  {
   "cell_type": "code",
   "execution_count": null,
   "id": "4a9b1cb2",
   "metadata": {},
   "outputs": [],
   "source": [
    "df.columns"
   ]
  },
  {
   "cell_type": "code",
   "execution_count": null,
   "id": "4afd0c60",
   "metadata": {},
   "outputs": [],
   "source": [
    "y = df['NO2_column_number_density']\n",
    "X=df[['L', 'B8A', 'B10', 'B11', 'B12', 'B11_1', 'B1', 'B2', 'B3', 'B4', 'B5', 'B6', 'B7', 'B8', 'B9', 'sr_aerosol',\n",
    "       'B6_1', 'B7_1', 'B4_1', 'B5_1', 'B2_1', 'B3_1', 'B1_1']]"
   ]
  },
  {
   "cell_type": "code",
   "execution_count": null,
   "id": "2d9ba377",
   "metadata": {},
   "outputs": [],
   "source": [
    "from sklearn.model_selection import RepeatedKFold, train_test_split\n",
    "from sklearn.ensemble import RandomForestRegressor, GradientBoostingRegressor\n",
    "from sklearn.tree import DecisionTreeRegressor\n",
    "import matplotlib.pyplot as plt\n",
    "from sklearn.inspection import permutation_importance\n",
    "from sklearn.neural_network import MLPRegressor"
   ]
  },
  {
   "cell_type": "code",
   "execution_count": null,
   "id": "9f5cd61b",
   "metadata": {},
   "outputs": [],
   "source": [
    "X_train, X_test, y_train, y_test = train_test_split(X, y, test_size=0.30, random_state=42)"
   ]
  },
  {
   "cell_type": "code",
   "execution_count": null,
   "id": "72ab657d",
   "metadata": {},
   "outputs": [],
   "source": [
    "model = GradientBoostingRegressor(alpha=0.85, learning_rate=0.2, loss='ls', max_depth=5, max_features=1.0, \n",
    "                          min_samples_leaf=12, min_samples_split=7, \n",
    "                          n_estimators=50, subsample=0.6500000000000001)"
   ]
  },
  {
   "cell_type": "code",
   "execution_count": null,
   "id": "788fea0b",
   "metadata": {},
   "outputs": [],
   "source": [
    "model.fit(X_train, y_train)"
   ]
  },
  {
   "cell_type": "code",
   "execution_count": null,
   "id": "ce42ed0c",
   "metadata": {},
   "outputs": [],
   "source": [
    "print('Training Accuracy : %.3f'% model.score(X_train,y_train))\n",
    "\n",
    "print('Test Accuracy : %.3f'%model.score(X_test,y_test))"
   ]
  },
  {
   "cell_type": "code",
   "execution_count": null,
   "id": "c5c24778",
   "metadata": {},
   "outputs": [],
   "source": [
    "feature_importance = model.feature_importances_\n",
    "sorted_idx = np.argsort(feature_importance)\n",
    "pos = np.arange(sorted_idx.shape[0]) + .5\n",
    "fig = plt.figure(figsize=(12, 6))\n",
    "plt.subplot(1, 2, 1)\n",
    "plt.barh(pos, feature_importance[sorted_idx], align='center')\n",
    "plt.title('Feature Importance')\n",
    "plt.yticks(pos, np.array(X.columns)[sorted_idx])\n",
    "result = permutation_importance(model, X_train, y_train, n_repeats=10,\n",
    "                                random_state=42, n_jobs=2)\n",
    "sorted_idx = result.importances_mean.argsort()\n",
    "plt.subplot(1, 2, 2)\n",
    "plt.boxplot(result.importances[sorted_idx].T,\n",
    "            vert=False, labels=np.array(X.columns)[sorted_idx])\n",
    "plt.title(\"Permutation Importance\")\n",
    "fig.tight_layout()\n",
    "plt.show()"
   ]
  },
  {
   "cell_type": "code",
   "execution_count": null,
   "id": "8a056ff0",
   "metadata": {},
   "outputs": [],
   "source": [
    "# define model\n",
    "model = DecisionTreeRegressor(max_depth=8,\n",
    "                           min_samples_split=5,\n",
    "                           max_leaf_nodes=20)\n",
    "# fit model\n",
    "model.fit(X_train,y_train)\n",
    "print('Training Accuracy : %.3f'% model.score(X_train,y_train))\n",
    "\n",
    "print('Test Accuracy : %.3f'%model.score(X_test,y_test))"
   ]
  },
  {
   "cell_type": "code",
   "execution_count": null,
   "id": "1f66cd22",
   "metadata": {},
   "outputs": [],
   "source": [
    "model = RandomForestRegressor(bootstrap=False, max_features=0.35000000000000003, min_samples_leaf=7, min_samples_split=20, n_estimators=100)\n",
    "model.fit(X_train, y_train)\n",
    "print('Training Accuracy : %.3f'% model.score(X_train,y_train))\n",
    "\n",
    "print('Test Accuracy : %.3f'%model.score(X_test,y_test))"
   ]
  },
  {
   "cell_type": "code",
   "execution_count": null,
   "id": "bc8357f7",
   "metadata": {},
   "outputs": [],
   "source": [
    "testdf = pd.read_csv('dense_pts_lc3.csv')"
   ]
  },
  {
   "cell_type": "code",
   "execution_count": null,
   "id": "6d4e184a",
   "metadata": {},
   "outputs": [],
   "source": [
    "testdf.columns"
   ]
  },
  {
   "cell_type": "code",
   "execution_count": null,
   "id": "dc02f603",
   "metadata": {},
   "outputs": [],
   "source": [
    "col_names = ['OID_', 'Id', 'L', 'B1', 'B2', 'B3', 'B4', 'B5', 'B6',\n",
    "       'B7', 'B8', 'B8A', 'B9', 'B10', 'B11', 'B12',\n",
    "       'b14_S2', 'b15_S2', 'b16_S2', 'B1_1', 'B2_1', 'B3_1', 'B4_1',\n",
    "       'B5_1', 'B6_1', 'B7_1', 'B10_1', 'B11_1', 'sr_aerosol', 'b11_L8',\n",
    "       'b12_L8', 'Lat', 'Lon']"
   ]
  },
  {
   "cell_type": "code",
   "execution_count": null,
   "id": "21b5fb8b",
   "metadata": {},
   "outputs": [],
   "source": [
    "testdf.columns = col_names"
   ]
  },
  {
   "cell_type": "code",
   "execution_count": null,
   "id": "1ed6a8b1",
   "metadata": {},
   "outputs": [],
   "source": [
    "mod_df = testdf[['L', 'B8A', 'B10', 'B11', 'B12', 'B11_1', 'B1', 'B2', 'B3', 'B4', 'B5',\n",
    "        'B6', 'B7', 'B8', 'B9', 'sr_aerosol',\n",
    "       'B6_1', 'B7_1', 'B4_1', 'B5_1', 'B2_1', 'B3_1', 'B1_1']]"
   ]
  },
  {
   "cell_type": "code",
   "execution_count": null,
   "id": "2f26769a",
   "metadata": {},
   "outputs": [],
   "source": [
    "df.head()"
   ]
  },
  {
   "cell_type": "code",
   "execution_count": null,
   "id": "a3ad7f48",
   "metadata": {},
   "outputs": [],
   "source": [
    "pred = model.predict(mod_df)"
   ]
  },
  {
   "cell_type": "code",
   "execution_count": null,
   "id": "8924852e",
   "metadata": {},
   "outputs": [],
   "source": [
    "pred_df = pd.DataFrame(pred)"
   ]
  },
  {
   "cell_type": "code",
   "execution_count": null,
   "id": "724c150f",
   "metadata": {},
   "outputs": [],
   "source": [
    "pred_file = pd.concat([testdf, pred_df], axis=1)"
   ]
  },
  {
   "cell_type": "code",
   "execution_count": null,
   "id": "10b1c392",
   "metadata": {},
   "outputs": [],
   "source": [
    "pred_file"
   ]
  },
  {
   "cell_type": "code",
   "execution_count": null,
   "id": "1d11721f",
   "metadata": {},
   "outputs": [],
   "source": [
    "pred_file.to_csv('dense_pts_lc_results.csv')"
   ]
  },
  {
   "cell_type": "code",
   "execution_count": null,
   "id": "a933d726",
   "metadata": {},
   "outputs": [],
   "source": [
    "dense_train = pd.read_csv('lc_sf_training.csv')\n",
    "\n",
    "dense_train['L'] = le.fit_transform(dense_train['L'].values)\n",
    "\n",
    "sample_df = dense_train.sample(frac=0.1)\n",
    "dense_test_df = dense_train.drop(sample_df.index)\n",
    "\n",
    "len(dense_test_df)\n",
    "\n",
    "dense_train.columns"
   ]
  },
  {
   "cell_type": "markdown",
   "id": "cd62d4de",
   "metadata": {},
   "source": [
    "y = sample_df['no2']\n",
    "X=sample_df[['L', 'b1_S2', 'b2_S2', 'b3_S2', 'b4_S2', 'b5_S2', 'b6_S2',\n",
    "       'b7_S2', 'b8_S2', 'b9_S2', 'b10_S2', 'b11_S2', 'b12_S2', 'b13_S2',\n",
    "       'b14_S2', 'b15_S2', 'b16_S2', 'b1_L8', 'b2_L8', 'b3_L8', 'b4_L8',\n",
    "       'b5_L8', 'b6_L8', 'b7_L8', 'b8_L8', 'b9_L8', 'b10_L8', 'b11_L8',\n",
    "       'b12_L8', 'Lat', 'Lon']]"
   ]
  },
  {
   "cell_type": "code",
   "execution_count": null,
   "id": "04fa1924",
   "metadata": {},
   "outputs": [],
   "source": [
    "y = sample_df['no2']\n",
    "X=sample_df[['L', 'b1_S2', 'b2_S2', 'b3_S2', 'b4_S2', 'b5_S2', 'b6_S2',\n",
    "       'b7_S2', 'b8_S2', 'b9_S2', 'b10_S2', 'b11_S2', 'b12_S2', 'b13_S2',\n",
    "       'b14_S2', 'b15_S2', 'b16_S2', 'Lat', 'Lon']]"
   ]
  },
  {
   "cell_type": "code",
   "execution_count": null,
   "id": "b2fec615",
   "metadata": {},
   "outputs": [],
   "source": [
    "X_train, X_test, y_train, y_test = train_test_split(X, y, test_size=0.30, random_state=42)\n",
    "\n",
    "model = GradientBoostingRegressor(alpha=0.85, learning_rate=0.2, loss='ls', max_depth=5, max_features=1.0, \n",
    "                          min_samples_leaf=12, min_samples_split=7, \n",
    "                          n_estimators=50, subsample=0.6500000000000001)\n",
    "\n",
    "model.fit(X_train, y_train)\n",
    "\n",
    "print('Training Accuracy : %.3f'% model.score(X_train,y_train))\n",
    "\n",
    "print('Test Accuracy : %.3f'%model.score(X_test,y_test))"
   ]
  },
  {
   "cell_type": "code",
   "execution_count": null,
   "id": "c178ab3c",
   "metadata": {},
   "outputs": [],
   "source": [
    "model = RandomForestRegressor(bootstrap=False, max_features=0.35000000000000003, min_samples_leaf=7, min_samples_split=20, n_estimators=100)\n",
    "model.fit(X_train, y_train)\n",
    "print('Training Accuracy : %.3f'% model.score(X_train,y_train))\n",
    "\n",
    "print('Test Accuracy : %.3f'%model.score(X_test,y_test))"
   ]
  },
  {
   "cell_type": "code",
   "execution_count": null,
   "id": "93c7746d",
   "metadata": {},
   "outputs": [],
   "source": [
    "# define model\n",
    "model = DecisionTreeRegressor(max_depth=8,\n",
    "                           min_samples_split=5,\n",
    "                           max_leaf_nodes=20)\n",
    "# fit model\n",
    "model.fit(X_train,y_train)\n",
    "print('Training Accuracy : %.3f'% model.score(X_train,y_train))\n",
    "\n",
    "print('Test Accuracy : %.3f'%model.score(X_test,y_test))"
   ]
  },
  {
   "cell_type": "code",
   "execution_count": null,
   "id": "a0795d6e",
   "metadata": {},
   "outputs": [],
   "source": [
    "y_dense_test = dense_test_df['no2']\n",
    "X_dense_test=dense_test_df[['L', 'b1_S2', 'b2_S2', 'b3_S2', 'b4_S2', 'b5_S2', 'b6_S2',\n",
    "       'b7_S2', 'b8_S2', 'b9_S2', 'b10_S2', 'b11_S2', 'b12_S2', 'b13_S2',\n",
    "       'b14_S2', 'b15_S2', 'b16_S2', 'b1_L8', 'b2_L8', 'b3_L8', 'b4_L8',\n",
    "       'b5_L8', 'b6_L8', 'b7_L8', 'b8_L8', 'b9_L8', 'b10_L8', 'b11_L8',\n",
    "       'b12_L8', 'Lat', 'Lon']]"
   ]
  },
  {
   "cell_type": "code",
   "execution_count": null,
   "id": "e0058e4e",
   "metadata": {},
   "outputs": [],
   "source": [
    "y_dense_test.shape"
   ]
  },
  {
   "cell_type": "code",
   "execution_count": null,
   "id": "b15e5e7c",
   "metadata": {},
   "outputs": [],
   "source": [
    "model.score(X_dense_test, y_dense_test)"
   ]
  },
  {
   "cell_type": "code",
   "execution_count": null,
   "id": "1a9125c1",
   "metadata": {},
   "outputs": [],
   "source": [
    "pred_dense_test = model.predict(X_dense_test)"
   ]
  },
  {
   "cell_type": "code",
   "execution_count": null,
   "id": "26121388",
   "metadata": {},
   "outputs": [],
   "source": [
    "pred = pd.DataFrame(pred_dense_test)"
   ]
  },
  {
   "cell_type": "code",
   "execution_count": null,
   "id": "1b32bf0f",
   "metadata": {},
   "outputs": [],
   "source": [
    "X_dense_test = X_dense_test.reset_index()\n",
    "pred = pred.reset_index()"
   ]
  },
  {
   "cell_type": "code",
   "execution_count": null,
   "id": "eddc0a43",
   "metadata": {},
   "outputs": [],
   "source": [
    "pred_dense_test_df = pd.concat([X_dense_test, pred], axis=1, ignore_index=True)"
   ]
  },
  {
   "cell_type": "code",
   "execution_count": null,
   "id": "8cb804d8",
   "metadata": {},
   "outputs": [],
   "source": [
    "pred_dense_test_df.shape"
   ]
  },
  {
   "cell_type": "code",
   "execution_count": null,
   "id": "4ca602a3",
   "metadata": {},
   "outputs": [],
   "source": [
    "pred_dense_test_df.head()"
   ]
  },
  {
   "cell_type": "code",
   "execution_count": null,
   "id": "980ccd11",
   "metadata": {},
   "outputs": [],
   "source": [
    "pred_dense_test_df.to_csv(\"dense_test_sf_0718_V3.csv\")"
   ]
  },
  {
   "cell_type": "code",
   "execution_count": null,
   "id": "3e41e3b0",
   "metadata": {},
   "outputs": [],
   "source": [
    "ddf = pd.read_csv('la_dense_pts.csv')"
   ]
  },
  {
   "cell_type": "code",
   "execution_count": null,
   "id": "8ab99b00",
   "metadata": {},
   "outputs": [],
   "source": [
    "ddf = ddf[['L', 'b1_S2', 'b2_S2', 'b3_S2', 'b4_S2', 'b5_S2', 'b6_S2',\n",
    "       'b7_S2', 'b8_S2', 'b9_S2', 'b10_S2', 'b11_S2', 'b12_S2', 'b13_S2',\n",
    "       'b14_S2', 'b15_S2', 'b16_S2', 'b1_l8', 'b2_l8', 'b3_l8', 'b4_l8',\n",
    "       'b5_l8', 'b6_l8', 'b7_l8', 'b8_l8', 'b9_l8', 'b10_l8', 'b11_l8',\n",
    "       'b12_l8', 'Lat', 'Lon']]"
   ]
  },
  {
   "cell_type": "code",
   "execution_count": null,
   "id": "222638f9",
   "metadata": {},
   "outputs": [],
   "source": [
    "ddf.columns = ['L', 'b1_S2', 'b2_S2', 'b3_S2', 'b4_S2', 'b5_S2', 'b6_S2',\n",
    "       'b7_S2', 'b8_S2', 'b9_S2', 'b10_S2', 'b11_S2', 'b12_S2', 'b13_S2',\n",
    "       'b14_S2', 'b15_S2', 'b16_S2', 'b1_L8', 'b2_L8', 'b3_L8', 'b4_L8',\n",
    "       'b5_L8', 'b6_L8', 'b7_L8', 'b8_L8', 'b9_L8', 'b10_L8', 'b11_L8',\n",
    "       'b12_L8', 'Lat', 'Lon']"
   ]
  },
  {
   "cell_type": "code",
   "execution_count": null,
   "id": "f9eb9694",
   "metadata": {},
   "outputs": [],
   "source": [
    "no2_dense_la = model.predict(ddf)"
   ]
  },
  {
   "cell_type": "code",
   "execution_count": null,
   "id": "a94b28ea",
   "metadata": {},
   "outputs": [],
   "source": [
    "no2_la = pd.DataFrame(no2_dense_la)"
   ]
  },
  {
   "cell_type": "code",
   "execution_count": null,
   "id": "c10d0cfd",
   "metadata": {},
   "outputs": [],
   "source": [
    "no2_la_pred = pd.concat([ddf, no2_la], axis=1)"
   ]
  },
  {
   "cell_type": "code",
   "execution_count": null,
   "id": "262bdf0f",
   "metadata": {},
   "outputs": [],
   "source": [
    "no2_la_pred.to_csv('dense_la_results.csv')"
   ]
  },
  {
   "cell_type": "code",
   "execution_count": null,
   "id": "acf4242f",
   "metadata": {},
   "outputs": [],
   "source": [
    "june_df = pd.read_csv('dense_june18_sf2.csv')"
   ]
  },
  {
   "cell_type": "code",
   "execution_count": null,
   "id": "81a6029e",
   "metadata": {},
   "outputs": [],
   "source": [
    "june_df.columns = ['ID', 'L', 'b1_S2', 'b2_S2', 'b3_S2', 'b4_S2', 'b5_S2', 'b6_S2',\n",
    "       'b7_S2', 'b8_S2', 'b9_S2', 'b10_S2', 'b11_S2', 'b12_S2', 'b13_S2',\n",
    "       'b14_S2', 'b15_S2', 'b16_S2',  'Lat', 'Lon']"
   ]
  },
  {
   "cell_type": "code",
   "execution_count": null,
   "id": "a8a71495",
   "metadata": {},
   "outputs": [],
   "source": [
    "june_df = june_df[['L', 'b1_S2', 'b2_S2', 'b3_S2', 'b4_S2', 'b5_S2', 'b6_S2',\n",
    "       'b7_S2', 'b8_S2', 'b9_S2', 'b10_S2', 'b11_S2', 'b12_S2', 'b13_S2',\n",
    "       'b14_S2', 'b15_S2', 'b16_S2',  'Lat', 'Lon']]"
   ]
  },
  {
   "cell_type": "code",
   "execution_count": null,
   "id": "b813e65b",
   "metadata": {},
   "outputs": [],
   "source": [
    "mod_june_df = june_df.dropna()"
   ]
  },
  {
   "cell_type": "code",
   "execution_count": null,
   "id": "096cbd12",
   "metadata": {},
   "outputs": [],
   "source": [
    "june18_pred = model.predict(mod_june_df)"
   ]
  },
  {
   "cell_type": "code",
   "execution_count": null,
   "id": "6a8fff63",
   "metadata": {},
   "outputs": [],
   "source": [
    "june18_pred_df = pd.DataFrame(june18_pred)"
   ]
  },
  {
   "cell_type": "code",
   "execution_count": null,
   "id": "8a68edf5",
   "metadata": {},
   "outputs": [],
   "source": [
    "mod_june_df = mod_june_df.reset_index()\n",
    "june18_pred_df = june18_pred_df.reset_index()"
   ]
  },
  {
   "cell_type": "code",
   "execution_count": null,
   "id": "f063b5c6",
   "metadata": {},
   "outputs": [],
   "source": [
    "pred_sf_june_df = pd.concat([mod_june_df, june18_pred_df], axis=1, ignore_index=True)"
   ]
  },
  {
   "cell_type": "code",
   "execution_count": null,
   "id": "f16ad2a9",
   "metadata": {},
   "outputs": [],
   "source": [
    "pred_sf_june_df.to_csv('pred_june_sf.csv')"
   ]
  },
  {
   "cell_type": "code",
   "execution_count": null,
   "id": "354e0fde",
   "metadata": {},
   "outputs": [],
   "source": []
  }
 ],
 "metadata": {
  "kernelspec": {
   "display_name": "Python 3",
   "language": "python",
   "name": "python3"
  },
  "language_info": {
   "codemirror_mode": {
    "name": "ipython",
    "version": 3
   },
   "file_extension": ".py",
   "mimetype": "text/x-python",
   "name": "python",
   "nbconvert_exporter": "python",
   "pygments_lexer": "ipython3",
   "version": "3.8.8"
  }
 },
 "nbformat": 4,
 "nbformat_minor": 5
}
