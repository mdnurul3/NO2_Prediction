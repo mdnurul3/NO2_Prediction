{
 "cells": [
  {
   "cell_type": "code",
   "execution_count": 499,
   "id": "3a5a93e8",
   "metadata": {},
   "outputs": [],
   "source": [
    "import pandas as pd\n",
    "import re\n",
    "import dtale"
   ]
  },
  {
   "cell_type": "code",
   "execution_count": 500,
   "id": "907eaa6e",
   "metadata": {},
   "outputs": [],
   "source": [
    "df=pd.read_csv('geometry_no2.csv')"
   ]
  },
  {
   "cell_type": "code",
   "execution_count": 501,
   "id": "cee2a581",
   "metadata": {},
   "outputs": [
    {
     "data": {
      "text/html": [
       "<div>\n",
       "<style scoped>\n",
       "    .dataframe tbody tr th:only-of-type {\n",
       "        vertical-align: middle;\n",
       "    }\n",
       "\n",
       "    .dataframe tbody tr th {\n",
       "        vertical-align: top;\n",
       "    }\n",
       "\n",
       "    .dataframe thead th {\n",
       "        text-align: right;\n",
       "    }\n",
       "</style>\n",
       "<table border=\"1\" class=\"dataframe\">\n",
       "  <thead>\n",
       "    <tr style=\"text-align: right;\">\n",
       "      <th></th>\n",
       "      <th>Class</th>\n",
       "      <th>geo</th>\n",
       "    </tr>\n",
       "  </thead>\n",
       "  <tbody>\n",
       "    <tr>\n",
       "      <th>0</th>\n",
       "      <td>water</td>\n",
       "      <td>{\"type\":\"Point\",\"coordinates\":[-115.9727895685...</td>\n",
       "    </tr>\n",
       "    <tr>\n",
       "      <th>1</th>\n",
       "      <td>water</td>\n",
       "      <td>{\"type\":\"Point\",\"coordinates\":[-115.8848989435...</td>\n",
       "    </tr>\n",
       "    <tr>\n",
       "      <th>2</th>\n",
       "      <td>water</td>\n",
       "      <td>{\"type\":\"Point\",\"coordinates\":[-115.7255971857...</td>\n",
       "    </tr>\n",
       "    <tr>\n",
       "      <th>3</th>\n",
       "      <td>water</td>\n",
       "      <td>{\"type\":\"Point\",\"coordinates\":[-115.7805288263...</td>\n",
       "    </tr>\n",
       "    <tr>\n",
       "      <th>4</th>\n",
       "      <td>water</td>\n",
       "      <td>{\"type\":\"Point\",\"coordinates\":[-115.7255971857...</td>\n",
       "    </tr>\n",
       "    <tr>\n",
       "      <th>...</th>\n",
       "      <td>...</td>\n",
       "      <td>...</td>\n",
       "    </tr>\n",
       "    <tr>\n",
       "      <th>178</th>\n",
       "      <td>soil</td>\n",
       "      <td>{\"type\":\"Point\",\"coordinates\":[-116.0532936066...</td>\n",
       "    </tr>\n",
       "    <tr>\n",
       "      <th>179</th>\n",
       "      <td>soil</td>\n",
       "      <td>{\"type\":\"Point\",\"coordinates\":[-116.0409339874...</td>\n",
       "    </tr>\n",
       "    <tr>\n",
       "      <th>180</th>\n",
       "      <td>soil</td>\n",
       "      <td>{\"type\":\"Point\",\"coordinates\":[-116.1020454376...</td>\n",
       "    </tr>\n",
       "    <tr>\n",
       "      <th>181</th>\n",
       "      <td>soil</td>\n",
       "      <td>{\"type\":\"Point\",\"coordinates\":[-115.8067878693...</td>\n",
       "    </tr>\n",
       "    <tr>\n",
       "      <th>182</th>\n",
       "      <td>soil</td>\n",
       "      <td>{\"type\":\"Point\",\"coordinates\":[-116.2723335236...</td>\n",
       "    </tr>\n",
       "  </tbody>\n",
       "</table>\n",
       "<p>183 rows × 2 columns</p>\n",
       "</div>"
      ],
      "text/plain": [
       "     Class                                                geo\n",
       "0    water  {\"type\":\"Point\",\"coordinates\":[-115.9727895685...\n",
       "1    water  {\"type\":\"Point\",\"coordinates\":[-115.8848989435...\n",
       "2    water  {\"type\":\"Point\",\"coordinates\":[-115.7255971857...\n",
       "3    water  {\"type\":\"Point\",\"coordinates\":[-115.7805288263...\n",
       "4    water  {\"type\":\"Point\",\"coordinates\":[-115.7255971857...\n",
       "..     ...                                                ...\n",
       "178   soil  {\"type\":\"Point\",\"coordinates\":[-116.0532936066...\n",
       "179   soil  {\"type\":\"Point\",\"coordinates\":[-116.0409339874...\n",
       "180   soil  {\"type\":\"Point\",\"coordinates\":[-116.1020454376...\n",
       "181   soil  {\"type\":\"Point\",\"coordinates\":[-115.8067878693...\n",
       "182   soil  {\"type\":\"Point\",\"coordinates\":[-116.2723335236...\n",
       "\n",
       "[183 rows x 2 columns]"
      ]
     },
     "execution_count": 501,
     "metadata": {},
     "output_type": "execute_result"
    }
   ],
   "source": [
    "df"
   ]
  },
  {
   "cell_type": "code",
   "execution_count": 502,
   "id": "2d039e2e",
   "metadata": {},
   "outputs": [],
   "source": [
    "df['geo']=df['geo'].str.extract('.*\\[(.*)\\].*')"
   ]
  },
  {
   "cell_type": "code",
   "execution_count": 503,
   "id": "ec1d8ba0",
   "metadata": {},
   "outputs": [],
   "source": [
    "df['Lon']=df['geo'].str.split(r'[\\s,]').str[0]"
   ]
  },
  {
   "cell_type": "code",
   "execution_count": 504,
   "id": "a9802ca6",
   "metadata": {},
   "outputs": [
    {
     "data": {
      "text/html": [
       "\n",
       "        <iframe\n",
       "            width=\"100%\"\n",
       "            height=\"475\"\n",
       "            src=\"http://localhost:40000/dtale/iframe/1\"\n",
       "            frameborder=\"0\"\n",
       "            allowfullscreen\n",
       "        ></iframe>\n",
       "        "
      ],
      "text/plain": [
       "<IPython.lib.display.IFrame at 0x7f94b429aa30>"
      ]
     },
     "metadata": {},
     "output_type": "display_data"
    },
    {
     "data": {
      "text/plain": []
     },
     "execution_count": 504,
     "metadata": {},
     "output_type": "execute_result"
    },
    {
     "name": "stdout",
     "output_type": "stream",
     "text": [
      "Executing shutdown due to inactivity...\n"
     ]
    },
    {
     "name": "stderr",
     "output_type": "stream",
     "text": [
      "2021-06-24 17:01:08,123 - INFO     - Executing shutdown due to inactivity...\n"
     ]
    },
    {
     "name": "stdout",
     "output_type": "stream",
     "text": [
      "Executing shutdown...\n"
     ]
    },
    {
     "name": "stderr",
     "output_type": "stream",
     "text": [
      "2021-06-24 17:01:08,145 - INFO     - Executing shutdown...\n"
     ]
    }
   ],
   "source": [
    "df['Lat']=df['geo'].str.split(r'[\\s,]').str[1]\n",
    "df=df.drop('geo',axis=1)\n",
    "dtale.show(df)"
   ]
  },
  {
   "cell_type": "code",
   "execution_count": 513,
   "id": "6230dc48",
   "metadata": {},
   "outputs": [],
   "source": []
  },
  {
   "cell_type": "code",
   "execution_count": null,
   "id": "421ed6da",
   "metadata": {},
   "outputs": [],
   "source": []
  }
 ],
 "metadata": {
  "kernelspec": {
   "display_name": "Python 3",
   "language": "python",
   "name": "python3"
  },
  "language_info": {
   "codemirror_mode": {
    "name": "ipython",
    "version": 3
   },
   "file_extension": ".py",
   "mimetype": "text/x-python",
   "name": "python",
   "nbconvert_exporter": "python",
   "pygments_lexer": "ipython3",
   "version": "3.8.8"
  }
 },
 "nbformat": 4,
 "nbformat_minor": 5
}
