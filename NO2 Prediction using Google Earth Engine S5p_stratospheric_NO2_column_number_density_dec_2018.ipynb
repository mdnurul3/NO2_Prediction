{
 "cells": [
  {
   "cell_type": "code",
   "execution_count": 106,
   "id": "a2418929",
   "metadata": {},
   "outputs": [],
   "source": [
    "import ee\n",
    "import geemap"
   ]
  },
  {
   "cell_type": "code",
   "execution_count": 107,
   "id": "9d2fb9a1",
   "metadata": {},
   "outputs": [
    {
     "data": {
      "application/vnd.jupyter.widget-view+json": {
       "model_id": "0c0f0a3b36a84e82b83228438622a7a5",
       "version_major": 2,
       "version_minor": 0
      },
      "text/plain": [
       "Map(center=[40, -100], controls=(WidgetControl(options=['position'], widget=HBox(children=(ToggleButton(value=…"
      ]
     },
     "metadata": {},
     "output_type": "display_data"
    }
   ],
   "source": [
    "Map_S5P = geemap.Map()\n",
    "Map_S5P"
   ]
  },
  {
   "cell_type": "code",
   "execution_count": 108,
   "id": "c3d76329",
   "metadata": {},
   "outputs": [],
   "source": [
    "point_S5P = ee.Geometry.Rectangle([-122.8003, 37.4831, -122.8036, 37.8288])\n",
    "\n",
    "image_S5P = ee.ImageCollection(\"COPERNICUS/S5P/NRTI/L3_NO2\") \\\n",
    "    .filterBounds(point_S5P) \\\n",
    "    .filterDate('2018-12-01', '2018-12-07') \\\n",
    "    .sort('ALGORITHM_VERSION') \\\n",
    "    .select('stratospheric_NO2_column_number_density')\\\n",
    "    .mean();\n",
    "    #.select('NO2_column_number_density','tropospheric_NO2_column_number_density','stratospheric_NO2_column_number_density')\n",
    "\n",
    "vis_params_S5P = {\n",
    "    'min': 0,\n",
    "    'max': 0.0002,\n",
    "    'bands': ['stratospheric_NO2_column_number_density'],\n",
    "    'palette': ['black', 'blue', 'purple', 'cyan', 'green', 'yellow', 'red']\n",
    "}\n",
    "Map_S5P.centerObject(point_S5P, 8)\n",
    "Map_S5P.addLayer(image_S5P, vis_params_S5P, \"Sentinel-5P TROPOMI NO2\")\n"
   ]
  },
  {
   "cell_type": "code",
   "execution_count": 109,
   "id": "e0dd0d2b",
   "metadata": {},
   "outputs": [],
   "source": [
    "#ee.Date(image_S5P.get('system:time_start')).format('YYYY-MM-dd').getInfo()"
   ]
  },
  {
   "cell_type": "code",
   "execution_count": 110,
   "id": "ac6110f4",
   "metadata": {},
   "outputs": [],
   "source": [
    "#ee.Date(image_S5P.get('system:time_end')).format('YYYY-MM-dd').getInfo()"
   ]
  },
  {
   "cell_type": "code",
   "execution_count": 111,
   "id": "15d8c928",
   "metadata": {},
   "outputs": [
    {
     "data": {
      "application/vnd.jupyter.widget-view+json": {
       "model_id": "8d5d73d0e1bb4a4f95a8eee1e3d56804",
       "version_major": 2,
       "version_minor": 0
      },
      "text/plain": [
       "Map(center=[40, -100], controls=(WidgetControl(options=['position'], widget=HBox(children=(ToggleButton(value=…"
      ]
     },
     "metadata": {},
     "output_type": "display_data"
    }
   ],
   "source": [
    "Map_LANDSAT8 = geemap.Map()\n",
    "Map_LANDSAT8"
   ]
  },
  {
   "cell_type": "code",
   "execution_count": 112,
   "id": "6a1970aa",
   "metadata": {},
   "outputs": [],
   "source": [
    "point_LANDSAT8 = ee.Geometry.Point([-122.4439, 37.7538])\n",
    "\n",
    "image_LANDSAT8 = ee.ImageCollection('LANDSAT/LC08/C01/T1_SR') \\\n",
    "    .filterBounds(point_LANDSAT8) \\\n",
    "    .filterDate('2018-12-01', '2018-12-07') \\\n",
    "    .sort('CLOUD_COVER') \\\n",
    "    .select('B[1-7]') \\\n",
    "    .mean();\n",
    "\n",
    "vis_params_L8 = {\n",
    "    'min': 0,\n",
    "    'max': 3000,\n",
    "    'bands': ['B5', 'B4', 'B3']\n",
    "}\n",
    "\n",
    "Map_S5P.centerObject(point_LANDSAT8, 8)\n",
    "Map_S5P.addLayer(image_LANDSAT8, vis_params_L8, \"Landsat-8\")"
   ]
  },
  {
   "cell_type": "code",
   "execution_count": 113,
   "id": "f5921eb8",
   "metadata": {},
   "outputs": [],
   "source": [
    "ground_truth= image_LANDSAT8.addBands(image_S5P)"
   ]
  },
  {
   "cell_type": "code",
   "execution_count": 114,
   "id": "8e88e1e6",
   "metadata": {},
   "outputs": [
    {
     "name": "stdout",
     "output_type": "stream",
     "text": [
      "Band names:  ['stratospheric_NO2_column_number_density']\n"
     ]
    }
   ],
   "source": [
    "# Get information about the bands as a list.\n",
    "bandNames =ground_truth.bandNames()\n",
    "print('Band names: ', bandNames.getInfo()) # ee.List of band names"
   ]
  },
  {
   "cell_type": "code",
   "execution_count": 115,
   "id": "a1e5e76c",
   "metadata": {},
   "outputs": [
    {
     "name": "stdout",
     "output_type": "stream",
     "text": [
      "Band names:  ['stratospheric_NO2_column_number_density']\n"
     ]
    }
   ],
   "source": [
    "# Get information about the bands as a list.\n",
    "bandNames =image_S5P.bandNames()\n",
    "print('Band names: ', bandNames.getInfo()) # ee.List of band names"
   ]
  },
  {
   "cell_type": "code",
   "execution_count": 116,
   "id": "47828ce3",
   "metadata": {},
   "outputs": [
    {
     "name": "stdout",
     "output_type": "stream",
     "text": [
      "Band names:  []\n"
     ]
    }
   ],
   "source": [
    "# Get information about the bands as a list.\n",
    "bandNames =image_LANDSAT8.bandNames()\n",
    "print('Band names: ', bandNames.getInfo()) # ee.List of band names"
   ]
  },
  {
   "cell_type": "code",
   "execution_count": 117,
   "id": "1e72f477",
   "metadata": {},
   "outputs": [],
   "source": [
    "# Get projection information from band 1.\n",
    "#b1proj = ground_truth.select('B1').projection()\n",
    "#print('Band 1 projection: \\n', b1proj.getInfo()) # ee.Projection object"
   ]
  },
  {
   "cell_type": "code",
   "execution_count": 118,
   "id": "f1ee0a91",
   "metadata": {},
   "outputs": [
    {
     "ename": "EEException",
     "evalue": "Image.select: Pattern 'B1' did not match any bands.",
     "output_type": "error",
     "traceback": [
      "\u001b[0;31m---------------------------------------------------------------------------\u001b[0m",
      "\u001b[0;31mHttpError\u001b[0m                                 Traceback (most recent call last)",
      "\u001b[0;32m~/opt/anaconda3/lib/python3.8/site-packages/ee/data.py\u001b[0m in \u001b[0;36m_execute_cloud_call\u001b[0;34m(call, num_retries)\u001b[0m\n\u001b[1;32m    333\u001b[0m   \u001b[0;32mtry\u001b[0m\u001b[0;34m:\u001b[0m\u001b[0;34m\u001b[0m\u001b[0;34m\u001b[0m\u001b[0m\n\u001b[0;32m--> 334\u001b[0;31m     \u001b[0;32mreturn\u001b[0m \u001b[0mcall\u001b[0m\u001b[0;34m.\u001b[0m\u001b[0mexecute\u001b[0m\u001b[0;34m(\u001b[0m\u001b[0mnum_retries\u001b[0m\u001b[0;34m=\u001b[0m\u001b[0mnum_retries\u001b[0m\u001b[0;34m)\u001b[0m\u001b[0;34m\u001b[0m\u001b[0;34m\u001b[0m\u001b[0m\n\u001b[0m\u001b[1;32m    335\u001b[0m   \u001b[0;32mexcept\u001b[0m \u001b[0mgoogleapiclient\u001b[0m\u001b[0;34m.\u001b[0m\u001b[0merrors\u001b[0m\u001b[0;34m.\u001b[0m\u001b[0mHttpError\u001b[0m \u001b[0;32mas\u001b[0m \u001b[0me\u001b[0m\u001b[0;34m:\u001b[0m\u001b[0;34m\u001b[0m\u001b[0;34m\u001b[0m\u001b[0m\n",
      "\u001b[0;32m~/opt/anaconda3/lib/python3.8/site-packages/googleapiclient/_helpers.py\u001b[0m in \u001b[0;36mpositional_wrapper\u001b[0;34m(*args, **kwargs)\u001b[0m\n\u001b[1;32m    133\u001b[0m                     \u001b[0mlogger\u001b[0m\u001b[0;34m.\u001b[0m\u001b[0mwarning\u001b[0m\u001b[0;34m(\u001b[0m\u001b[0mmessage\u001b[0m\u001b[0;34m)\u001b[0m\u001b[0;34m\u001b[0m\u001b[0;34m\u001b[0m\u001b[0m\n\u001b[0;32m--> 134\u001b[0;31m             \u001b[0;32mreturn\u001b[0m \u001b[0mwrapped\u001b[0m\u001b[0;34m(\u001b[0m\u001b[0;34m*\u001b[0m\u001b[0margs\u001b[0m\u001b[0;34m,\u001b[0m \u001b[0;34m**\u001b[0m\u001b[0mkwargs\u001b[0m\u001b[0;34m)\u001b[0m\u001b[0;34m\u001b[0m\u001b[0;34m\u001b[0m\u001b[0m\n\u001b[0m\u001b[1;32m    135\u001b[0m \u001b[0;34m\u001b[0m\u001b[0m\n",
      "\u001b[0;32m~/opt/anaconda3/lib/python3.8/site-packages/googleapiclient/http.py\u001b[0m in \u001b[0;36mexecute\u001b[0;34m(self, http, num_retries)\u001b[0m\n\u001b[1;32m    914\u001b[0m         \u001b[0;32mif\u001b[0m \u001b[0mresp\u001b[0m\u001b[0;34m.\u001b[0m\u001b[0mstatus\u001b[0m \u001b[0;34m>=\u001b[0m \u001b[0;36m300\u001b[0m\u001b[0;34m:\u001b[0m\u001b[0;34m\u001b[0m\u001b[0;34m\u001b[0m\u001b[0m\n\u001b[0;32m--> 915\u001b[0;31m             \u001b[0;32mraise\u001b[0m \u001b[0mHttpError\u001b[0m\u001b[0;34m(\u001b[0m\u001b[0mresp\u001b[0m\u001b[0;34m,\u001b[0m \u001b[0mcontent\u001b[0m\u001b[0;34m,\u001b[0m \u001b[0muri\u001b[0m\u001b[0;34m=\u001b[0m\u001b[0mself\u001b[0m\u001b[0;34m.\u001b[0m\u001b[0muri\u001b[0m\u001b[0;34m)\u001b[0m\u001b[0;34m\u001b[0m\u001b[0;34m\u001b[0m\u001b[0m\n\u001b[0m\u001b[1;32m    916\u001b[0m         \u001b[0;32mreturn\u001b[0m \u001b[0mself\u001b[0m\u001b[0;34m.\u001b[0m\u001b[0mpostproc\u001b[0m\u001b[0;34m(\u001b[0m\u001b[0mresp\u001b[0m\u001b[0;34m,\u001b[0m \u001b[0mcontent\u001b[0m\u001b[0;34m)\u001b[0m\u001b[0;34m\u001b[0m\u001b[0;34m\u001b[0m\u001b[0m\n",
      "\u001b[0;31mHttpError\u001b[0m: <HttpError 400 when requesting https://earthengine.googleapis.com/v1alpha/projects/earthengine-legacy/value:compute?prettyPrint=false&alt=json returned \"Image.select: Pattern 'B1' did not match any bands.\". Details: \"Image.select: Pattern 'B1' did not match any bands.\">",
      "\nDuring handling of the above exception, another exception occurred:\n",
      "\u001b[0;31mEEException\u001b[0m                               Traceback (most recent call last)",
      "\u001b[0;32m<ipython-input-118-46be26cf207c>\u001b[0m in \u001b[0;36m<module>\u001b[0;34m\u001b[0m\n\u001b[1;32m      1\u001b[0m \u001b[0;31m# Get scale (in meters) information from band 1.\u001b[0m\u001b[0;34m\u001b[0m\u001b[0;34m\u001b[0m\u001b[0;34m\u001b[0m\u001b[0m\n\u001b[1;32m      2\u001b[0m \u001b[0mb1scale\u001b[0m \u001b[0;34m=\u001b[0m \u001b[0mground_truth\u001b[0m\u001b[0;34m.\u001b[0m\u001b[0mselect\u001b[0m\u001b[0;34m(\u001b[0m\u001b[0;34m'B1'\u001b[0m\u001b[0;34m)\u001b[0m\u001b[0;34m.\u001b[0m\u001b[0mprojection\u001b[0m\u001b[0;34m(\u001b[0m\u001b[0;34m)\u001b[0m\u001b[0;34m.\u001b[0m\u001b[0mnominalScale\u001b[0m\u001b[0;34m(\u001b[0m\u001b[0;34m)\u001b[0m\u001b[0;34m\u001b[0m\u001b[0;34m\u001b[0m\u001b[0m\n\u001b[0;32m----> 3\u001b[0;31m \u001b[0mprint\u001b[0m\u001b[0;34m(\u001b[0m\u001b[0;34m'Band 1 scale: \\n'\u001b[0m\u001b[0;34m,\u001b[0m \u001b[0mb1scale\u001b[0m\u001b[0;34m.\u001b[0m\u001b[0mgetInfo\u001b[0m\u001b[0;34m(\u001b[0m\u001b[0;34m)\u001b[0m\u001b[0;34m)\u001b[0m \u001b[0;31m# ee.Number\u001b[0m\u001b[0;34m\u001b[0m\u001b[0;34m\u001b[0m\u001b[0m\n\u001b[0m",
      "\u001b[0;32m~/opt/anaconda3/lib/python3.8/site-packages/ee/computedobject.py\u001b[0m in \u001b[0;36mgetInfo\u001b[0;34m(self)\u001b[0m\n\u001b[1;32m     96\u001b[0m       \u001b[0mThe\u001b[0m \u001b[0mobject\u001b[0m \u001b[0mcan\u001b[0m \u001b[0mevaluate\u001b[0m \u001b[0mto\u001b[0m \u001b[0manything\u001b[0m\u001b[0;34m.\u001b[0m\u001b[0;34m\u001b[0m\u001b[0;34m\u001b[0m\u001b[0m\n\u001b[1;32m     97\u001b[0m     \"\"\"\n\u001b[0;32m---> 98\u001b[0;31m     \u001b[0;32mreturn\u001b[0m \u001b[0mdata\u001b[0m\u001b[0;34m.\u001b[0m\u001b[0mcomputeValue\u001b[0m\u001b[0;34m(\u001b[0m\u001b[0mself\u001b[0m\u001b[0;34m)\u001b[0m\u001b[0;34m\u001b[0m\u001b[0;34m\u001b[0m\u001b[0m\n\u001b[0m\u001b[1;32m     99\u001b[0m \u001b[0;34m\u001b[0m\u001b[0m\n\u001b[1;32m    100\u001b[0m   \u001b[0;32mdef\u001b[0m \u001b[0mencode\u001b[0m\u001b[0;34m(\u001b[0m\u001b[0mself\u001b[0m\u001b[0;34m,\u001b[0m \u001b[0mencoder\u001b[0m\u001b[0;34m)\u001b[0m\u001b[0;34m:\u001b[0m\u001b[0;34m\u001b[0m\u001b[0;34m\u001b[0m\u001b[0m\n",
      "\u001b[0;32m~/opt/anaconda3/lib/python3.8/site-packages/ee/data.py\u001b[0m in \u001b[0;36mcomputeValue\u001b[0;34m(obj)\u001b[0m\n\u001b[1;32m    672\u001b[0m     \u001b[0mThe\u001b[0m \u001b[0mresult\u001b[0m \u001b[0mof\u001b[0m \u001b[0mevaluating\u001b[0m \u001b[0mthat\u001b[0m \u001b[0mobject\u001b[0m \u001b[0mon\u001b[0m \u001b[0mthe\u001b[0m \u001b[0mserver\u001b[0m\u001b[0;34m.\u001b[0m\u001b[0;34m\u001b[0m\u001b[0;34m\u001b[0m\u001b[0m\n\u001b[1;32m    673\u001b[0m   \"\"\"\n\u001b[0;32m--> 674\u001b[0;31m   return _execute_cloud_call(\n\u001b[0m\u001b[1;32m    675\u001b[0m       _get_cloud_api_resource().projects().value().compute(\n\u001b[1;32m    676\u001b[0m           \u001b[0mbody\u001b[0m\u001b[0;34m=\u001b[0m\u001b[0;34m{\u001b[0m\u001b[0;34m'expression'\u001b[0m\u001b[0;34m:\u001b[0m \u001b[0mserializer\u001b[0m\u001b[0;34m.\u001b[0m\u001b[0mencode\u001b[0m\u001b[0;34m(\u001b[0m\u001b[0mobj\u001b[0m\u001b[0;34m,\u001b[0m \u001b[0mfor_cloud_api\u001b[0m\u001b[0;34m=\u001b[0m\u001b[0;32mTrue\u001b[0m\u001b[0;34m)\u001b[0m\u001b[0;34m}\u001b[0m\u001b[0;34m,\u001b[0m\u001b[0;34m\u001b[0m\u001b[0;34m\u001b[0m\u001b[0m\n",
      "\u001b[0;32m~/opt/anaconda3/lib/python3.8/site-packages/ee/data.py\u001b[0m in \u001b[0;36m_execute_cloud_call\u001b[0;34m(call, num_retries)\u001b[0m\n\u001b[1;32m    334\u001b[0m     \u001b[0;32mreturn\u001b[0m \u001b[0mcall\u001b[0m\u001b[0;34m.\u001b[0m\u001b[0mexecute\u001b[0m\u001b[0;34m(\u001b[0m\u001b[0mnum_retries\u001b[0m\u001b[0;34m=\u001b[0m\u001b[0mnum_retries\u001b[0m\u001b[0;34m)\u001b[0m\u001b[0;34m\u001b[0m\u001b[0;34m\u001b[0m\u001b[0m\n\u001b[1;32m    335\u001b[0m   \u001b[0;32mexcept\u001b[0m \u001b[0mgoogleapiclient\u001b[0m\u001b[0;34m.\u001b[0m\u001b[0merrors\u001b[0m\u001b[0;34m.\u001b[0m\u001b[0mHttpError\u001b[0m \u001b[0;32mas\u001b[0m \u001b[0me\u001b[0m\u001b[0;34m:\u001b[0m\u001b[0;34m\u001b[0m\u001b[0;34m\u001b[0m\u001b[0m\n\u001b[0;32m--> 336\u001b[0;31m     \u001b[0;32mraise\u001b[0m \u001b[0m_translate_cloud_exception\u001b[0m\u001b[0;34m(\u001b[0m\u001b[0me\u001b[0m\u001b[0;34m)\u001b[0m\u001b[0;34m\u001b[0m\u001b[0;34m\u001b[0m\u001b[0m\n\u001b[0m\u001b[1;32m    337\u001b[0m \u001b[0;34m\u001b[0m\u001b[0m\n\u001b[1;32m    338\u001b[0m \u001b[0;34m\u001b[0m\u001b[0m\n",
      "\u001b[0;31mEEException\u001b[0m: Image.select: Pattern 'B1' did not match any bands."
     ]
    }
   ],
   "source": [
    "# Get scale (in meters) information from band 1.\n",
    "b1scale = ground_truth.select('B1').projection().nominalScale()\n",
    "print('Band 1 scale: \\n', b1scale.getInfo()) # ee.Number"
   ]
  },
  {
   "cell_type": "code",
   "execution_count": null,
   "id": "932ba52f",
   "metadata": {},
   "outputs": [],
   "source": [
    "# Get a list of all metadata properties.\n",
    "properties = ground_truth.propertyNames()\n",
    "print('Metadata properties:', ) \n",
    "properties.getInfo() # ee.List of metadata properties"
   ]
  },
  {
   "cell_type": "code",
   "execution_count": null,
   "id": "9623c573",
   "metadata": {},
   "outputs": [],
   "source": [
    "#tropimi = ee.Image('USGS/NLCD/NLCD2016').select('landcover').clip(image_S5P.geometry())\n",
    "Map_LANDSAT8.addLayer(image_S5P, {}, 'TROPOMI')\n",
    "Map_LANDSAT8"
   ]
  },
  {
   "cell_type": "code",
   "execution_count": null,
   "id": "6897890d",
   "metadata": {},
   "outputs": [],
   "source": [
    "# Make the training dataset.\n",
    "points = ground_truth.sample(**{\n",
    "    'region': ground_truth.geometry(),\n",
    "    'scale': 30,\n",
    "    'numPixels': 5000,\n",
    "    'seed': 0,\n",
    "    'geometries': True  # Set this to False to ignore geometries\n",
    "})\n",
    "\n",
    "Map_S5P.addLayer(points, {}, 'training', False)"
   ]
  },
  {
   "cell_type": "code",
   "execution_count": null,
   "id": "6bbce41c",
   "metadata": {},
   "outputs": [],
   "source": [
    "print(points.size().getInfo())"
   ]
  },
  {
   "cell_type": "code",
   "execution_count": null,
   "id": "7988c2c5",
   "metadata": {},
   "outputs": [],
   "source": [
    "print(points.first().getInfo())"
   ]
  },
  {
   "cell_type": "code",
   "execution_count": null,
   "id": "f62e1a11",
   "metadata": {},
   "outputs": [],
   "source": [
    "# Use these bands for prediction.\n",
    "bands = ['B1', 'B2', 'B3', 'B4', 'B5', 'B6', 'B7']\n",
    "\n",
    "\n",
    "# This property of the table stores the land cover labels.\n",
    "label = 'stratospheric_NO2_column_number_density'\n",
    "\n",
    "# Overlay the points on the imagery to get training.\n",
    "training = ground_truth.select(bands).sampleRegions(**{\n",
    "  'collection': points,\n",
    "  'properties': [label],\n",
    "  'scale': 30\n",
    "})\n",
    "\n",
    "# Train a CART classifier with default parameters.\n",
    "trained = ee.Classifier.smileRandomForest(10).setOutputMode('REGRESSION').train(training, label, bands)"
   ]
  },
  {
   "cell_type": "code",
   "execution_count": null,
   "id": "82c5609d",
   "metadata": {},
   "outputs": [],
   "source": [
    "print(training.first().getInfo())"
   ]
  },
  {
   "cell_type": "code",
   "execution_count": null,
   "id": "abf9394d",
   "metadata": {},
   "outputs": [],
   "source": [
    "vis_params_result = {\n",
    "    'min': 0,\n",
    "    'max': 0.0002,\n",
    "    'bands': ['classification'],\n",
    "    'palette': ['black', 'blue', 'purple', 'cyan', 'green', 'yellow', 'red']}"
   ]
  },
  {
   "cell_type": "code",
   "execution_count": null,
   "id": "3630d8d4",
   "metadata": {},
   "outputs": [],
   "source": [
    "# Classify the image with the same bands used for training.\n",
    "result = ground_truth.select(bands).classify(trained)\n",
    "\n",
    "# # Display the clusters with random colors.\n",
    "Map_LANDSAT8.addLayer(result.randomVisualizer(),vis_params_result, 'classfied')\n",
    "Map_LANDSAT8"
   ]
  },
  {
   "cell_type": "code",
   "execution_count": null,
   "id": "9ff93c52",
   "metadata": {},
   "outputs": [],
   "source": [
    "print(result.getInfo())"
   ]
  },
  {
   "cell_type": "code",
   "execution_count": null,
   "id": "0804c653",
   "metadata": {},
   "outputs": [],
   "source": [
    "vis_params_diff = {\n",
    "    'min': 0,\n",
    "    'max': 0.0002,\n",
    "    'bands': ['stratospheric_NO2_column_number_density'],\n",
    "    'palette': ['black', 'blue', 'purple', 'cyan', 'green', 'yellow', 'red']}"
   ]
  },
  {
   "cell_type": "code",
   "execution_count": null,
   "id": "99a614f5",
   "metadata": {},
   "outputs": [],
   "source": [
    "#// Load a 5-year Landsat 7 composite 2008-2012.\n",
    "#landsat2008 = ee.Image('LANDSAT/LE7_TOA_5YEAR/2008_2012');\n",
    "\n",
    "#// Compute multi-band difference between the 2008-2012 composite and the\n",
    "#// previously loaded 1999-2003 composite.\n",
    "diff = image_S5P.subtract(result);\n",
    "#Map.addLayer(diff,\n",
    "            # {bands: ['', 'B3', 'B2'], min: -32, max: 32}, 'difference');\n",
    "\n",
    "#// Compute the squared difference in each band.\n",
    "squaredDifference = diff.pow(2);\n",
    "#Map.addLayer(squaredDifference,\n",
    "             #{bands: ['B4', 'B3', 'B2'], max: 1000}, 'squared diff.');"
   ]
  },
  {
   "cell_type": "code",
   "execution_count": null,
   "id": "636580eb",
   "metadata": {},
   "outputs": [],
   "source": [
    "print(diff.getInfo())"
   ]
  },
  {
   "cell_type": "code",
   "execution_count": null,
   "id": "2eb31252",
   "metadata": {},
   "outputs": [],
   "source": [
    "Map_LANDSAT8.addLayer(diff.randomVisualizer(),vis_params_diff, 'Squared Diff')\n",
    "Map_LANDSAT8"
   ]
  },
  {
   "cell_type": "code",
   "execution_count": null,
   "id": "ae9be294",
   "metadata": {},
   "outputs": [],
   "source": [
    "print(trained.explain())"
   ]
  },
  {
   "cell_type": "code",
   "execution_count": null,
   "id": "9ead56a4",
   "metadata": {},
   "outputs": [],
   "source": []
  }
 ],
 "metadata": {
  "kernelspec": {
   "display_name": "Python 3",
   "language": "python",
   "name": "python3"
  },
  "language_info": {
   "codemirror_mode": {
    "name": "ipython",
    "version": 3
   },
   "file_extension": ".py",
   "mimetype": "text/x-python",
   "name": "python",
   "nbconvert_exporter": "python",
   "pygments_lexer": "ipython3",
   "version": "3.8.8"
  }
 },
 "nbformat": 4,
 "nbformat_minor": 5
}
