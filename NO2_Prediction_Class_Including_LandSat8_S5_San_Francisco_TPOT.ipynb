{
 "cells": [
  {
   "cell_type": "code",
   "execution_count": 1,
   "id": "a2418929",
   "metadata": {},
   "outputs": [
    {
     "name": "stderr",
     "output_type": "stream",
     "text": [
      "/Users/mdnhuda/opt/anaconda3/lib/python3.8/site-packages/tpot/builtins/__init__.py:36: UserWarning:\n",
      "\n",
      "Warning: optional dependency `torch` is not available. - skipping import of NN models.\n",
      "\n"
     ]
    },
    {
     "data": {
      "text/html": [
       "        <script type=\"text/javascript\">\n",
       "        window.PlotlyConfig = {MathJaxConfig: 'local'};\n",
       "        if (window.MathJax) {MathJax.Hub.Config({SVG: {font: \"STIX-Web\"}});}\n",
       "        if (typeof require !== 'undefined') {\n",
       "        require.undef(\"plotly\");\n",
       "        requirejs.config({\n",
       "            paths: {\n",
       "                'plotly': ['https://cdn.plot.ly/plotly-latest.min']\n",
       "            }\n",
       "        });\n",
       "        require(['plotly'], function(Plotly) {\n",
       "            window._Plotly = Plotly;\n",
       "        });\n",
       "        }\n",
       "        </script>\n",
       "        "
      ]
     },
     "metadata": {},
     "output_type": "display_data"
    }
   ],
   "source": [
    "import ee\n",
    "import geemap\n",
    "import pandas as pd\n",
    "import dtale\n",
    "import numpy as np\n",
    "import matplotlib.pyplot as plt\n",
    "import seaborn as sns\n",
    "from sklearn.model_selection import RepeatedKFold,train_test_split\n",
    "from sklearn.preprocessing import MinMaxScaler,PowerTransformer\n",
    "from tensorflow.keras.models import Sequential\n",
    "from tensorflow.keras.layers import Dense,Dropout\n",
    "from sklearn.metrics import mean_squared_error, mean_absolute_error,explained_variance_score,mean_absolute_percentage_error\n",
    "import glob\n",
    "import dask.dataframe as dd\n",
    "from tpot import TPOTRegressor\n",
    "import xarray as xr\n",
    "from scipy import stats\n",
    "from sklearn.svm import SVR\n",
    "from sklearn import svm, datasets\n",
    "from sklearn.model_selection import GridSearchCV\n",
    "from sklearn.ensemble import RandomForestRegressor\n",
    "from sklearn.ensemble import AdaBoostRegressor\n",
    "from sklearn.tree import DecisionTreeRegressor\n",
    "from sklearn.linear_model import LinearRegression,ElasticNetCV\n",
    "from sklearn.preprocessing import PolynomialFeatures\n",
    "from sklearn.neighbors import KNeighborsRegressor\n",
    "from sklearn.inspection import plot_partial_dependence\n",
    "from warnings import filterwarnings\n",
    "filterwarnings('ignore')\n",
    "import plotly\n",
    "import plotly.graph_objs as go\n",
    "import plotly.tools as tls\n",
    "import seaborn as sns\n",
    "import time\n",
    "import plotly.express as px\n",
    "import chart_studio.plotly as py\n",
    "import folium\n",
    "from folium.plugins import HeatMap\n",
    "from plotly.offline import download_plotlyjs, init_notebook_mode, iplot, plot\n",
    "init_notebook_mode(connected = True)\n",
    "from folium.plugins import FastMarkerCluster\n",
    "import statsmodels.api as sm\n",
    "from statsmodels.sandbox.regression.predstd import wls_prediction_std\n",
    "import os\n",
    "from sklearn.inspection import permutation_importance"
   ]
  },
  {
   "cell_type": "code",
   "execution_count": 2,
   "id": "9d2fb9a1",
   "metadata": {},
   "outputs": [
    {
     "data": {
      "application/vnd.jupyter.widget-view+json": {
       "model_id": "8c75da8bdcdf4364b0869690ffb8edc6",
       "version_major": 2,
       "version_minor": 0
      },
      "text/plain": [
       "Map(center=[40, -100], controls=(WidgetControl(options=['position'], widget=HBox(children=(ToggleButton(value=…"
      ]
     },
     "metadata": {},
     "output_type": "display_data"
    }
   ],
   "source": [
    "Map_S5P = geemap.Map()\n",
    "Map_S5P"
   ]
  },
  {
   "cell_type": "code",
   "execution_count": 3,
   "id": "52d2f638",
   "metadata": {},
   "outputs": [],
   "source": [
    "# Create a common region of interest\n",
    "roi = ee.Geometry.Polygon([[[-123.28736502403991,36.53106212747138],\n",
    "        [-120.57374197716491,36.53106212747138],\n",
    "        [-120.57374197716491,38.629116592353306],\n",
    "        [-123.28736502403991,38.629116592353306],\n",
    "        [-123.28736502403991,36.53106212747138]]])"
   ]
  },
  {
   "cell_type": "code",
   "execution_count": 4,
   "id": "c3d76329",
   "metadata": {},
   "outputs": [],
   "source": [
    "# Data COllection for July\n",
    "image_S5P = ee.ImageCollection(\"COPERNICUS/S5P/NRTI/L3_NO2\") \\\n",
    "    .filterBounds(roi) \\\n",
    "    .filterDate('2018-07-01', '2018-07-31') \\\n",
    "    .sort('ALGORITHM_VERSION') \\\n",
    "    .select('NO2_column_number_density') \\\n",
    "    .median() \\\n",
    "    .clip(roi)\n",
    "\n",
    "vis_params_S5P = {\n",
    "    'min': 0,\n",
    "    'max': 0.0002,\n",
    "    'bands': ['NO2_column_number_density'],\n",
    "    'palette': ['black', 'blue', 'purple', 'cyan', 'green', 'yellow', 'red']\n",
    "}\n",
    "\n",
    "Map_S5P.addLayer(image_S5P, vis_params_S5P, \"Sentinel-5P TROPOMI NO2\")\n",
    "\n",
    "\n",
    "image_LANDSAT8 = ee.ImageCollection('LANDSAT/LC08/C01/T1_SR') \\\n",
    "    .filterBounds(roi) \\\n",
    "    .filterDate('2018-07-01', '2018-07-31') \\\n",
    "    .sort('CLOUD_COVER') \\\n",
    "    .select('B1', 'B2', 'B3', 'B4', 'B5', 'B6', 'B7', 'B10', 'B11', 'sr_aerosol') \\\n",
    "    .median() \\\n",
    "    .clip(roi)\n",
    "\n",
    "vis_params_L8 = {\n",
    "    'min': 0,\n",
    "    'max': 3000,\n",
    "    'bands': ['B5', 'B4', 'B3']\n",
    "}\n",
    "\n",
    "\n",
    "Map_S5P.addLayer(image_LANDSAT8, vis_params_L8, \"Landsat-8\")\n"
   ]
  },
  {
   "cell_type": "code",
   "execution_count": 5,
   "id": "4500ee0b",
   "metadata": {},
   "outputs": [
    {
     "data": {
      "application/vnd.jupyter.widget-view+json": {
       "model_id": "24e5eb5ffd32443ca1db1aa34ca3ddaf",
       "version_major": 2,
       "version_minor": 0
      },
      "text/plain": [
       "Map(center=[40, -100], controls=(WidgetControl(options=['position'], widget=HBox(children=(ToggleButton(value=…"
      ]
     },
     "metadata": {},
     "output_type": "display_data"
    }
   ],
   "source": [
    "Map_S5P_sep = geemap.Map()\n",
    "Map_S5P_sep"
   ]
  },
  {
   "cell_type": "code",
   "execution_count": 6,
   "id": "e599f206",
   "metadata": {},
   "outputs": [],
   "source": [
    "# Data COllection for September\n",
    "image_S5P_sep = ee.ImageCollection(\"COPERNICUS/S5P/NRTI/L3_NO2\") \\\n",
    "    .filterBounds(roi) \\\n",
    "    .filterDate('2018-09-01', '2018-09-30') \\\n",
    "    .sort('ALGORITHM_VERSION') \\\n",
    "    .select('NO2_column_number_density') \\\n",
    "    .median() \\\n",
    "    .clip(roi)\n",
    "\n",
    "vis_params_S5P_sep = {\n",
    "    'min': 0,\n",
    "    'max': 0.0002,\n",
    "    'bands': ['NO2_column_number_density'],\n",
    "    'palette': ['black', 'blue', 'purple', 'cyan', 'green', 'yellow', 'red']\n",
    "}\n",
    "\n",
    "Map_S5P_sep.addLayer(image_S5P_sep, vis_params_S5P_sep, \"Sentinel-5P TROPOMI NO2\")\n",
    "\n",
    "\n",
    "image_LANDSAT8_sep = ee.ImageCollection('LANDSAT/LC08/C01/T1_SR') \\\n",
    "    .filterBounds(roi) \\\n",
    "    .filterDate('2018-09-01', '2018-09-30') \\\n",
    "    .sort('CLOUD_COVER') \\\n",
    "    .select('B1', 'B2', 'B3', 'B4', 'B5', 'B6', 'B7', 'B10', 'B11', 'sr_aerosol') \\\n",
    "    .median() \\\n",
    "    .clip(roi)\n",
    "\n",
    "vis_params_L8_sep = {\n",
    "    'min': 0,\n",
    "    'max': 3000,\n",
    "    'bands': ['B5', 'B4', 'B3']\n",
    "}\n",
    "\n",
    "\n",
    "Map_S5P_sep.addLayer(image_LANDSAT8_sep, vis_params_L8_sep, \"Landsat-8\")\n"
   ]
  },
  {
   "cell_type": "code",
   "execution_count": 7,
   "id": "c9362ee9",
   "metadata": {},
   "outputs": [
    {
     "ename": "EEException",
     "evalue": "Element.propertyNames: Parameter 'element' is required.",
     "output_type": "error",
     "traceback": [
      "\u001b[0;31m---------------------------------------------------------------------------\u001b[0m",
      "\u001b[0;31mHttpError\u001b[0m                                 Traceback (most recent call last)",
      "\u001b[0;32m~/opt/anaconda3/lib/python3.8/site-packages/ee/data.py\u001b[0m in \u001b[0;36m_execute_cloud_call\u001b[0;34m(call, num_retries)\u001b[0m\n\u001b[1;32m    333\u001b[0m   \u001b[0;32mtry\u001b[0m\u001b[0;34m:\u001b[0m\u001b[0;34m\u001b[0m\u001b[0;34m\u001b[0m\u001b[0m\n\u001b[0;32m--> 334\u001b[0;31m     \u001b[0;32mreturn\u001b[0m \u001b[0mcall\u001b[0m\u001b[0;34m.\u001b[0m\u001b[0mexecute\u001b[0m\u001b[0;34m(\u001b[0m\u001b[0mnum_retries\u001b[0m\u001b[0;34m=\u001b[0m\u001b[0mnum_retries\u001b[0m\u001b[0;34m)\u001b[0m\u001b[0;34m\u001b[0m\u001b[0;34m\u001b[0m\u001b[0m\n\u001b[0m\u001b[1;32m    335\u001b[0m   \u001b[0;32mexcept\u001b[0m \u001b[0mgoogleapiclient\u001b[0m\u001b[0;34m.\u001b[0m\u001b[0merrors\u001b[0m\u001b[0;34m.\u001b[0m\u001b[0mHttpError\u001b[0m \u001b[0;32mas\u001b[0m \u001b[0me\u001b[0m\u001b[0;34m:\u001b[0m\u001b[0;34m\u001b[0m\u001b[0;34m\u001b[0m\u001b[0m\n",
      "\u001b[0;32m~/opt/anaconda3/lib/python3.8/site-packages/googleapiclient/_helpers.py\u001b[0m in \u001b[0;36mpositional_wrapper\u001b[0;34m(*args, **kwargs)\u001b[0m\n\u001b[1;32m    133\u001b[0m                     \u001b[0mlogger\u001b[0m\u001b[0;34m.\u001b[0m\u001b[0mwarning\u001b[0m\u001b[0;34m(\u001b[0m\u001b[0mmessage\u001b[0m\u001b[0;34m)\u001b[0m\u001b[0;34m\u001b[0m\u001b[0;34m\u001b[0m\u001b[0m\n\u001b[0;32m--> 134\u001b[0;31m             \u001b[0;32mreturn\u001b[0m \u001b[0mwrapped\u001b[0m\u001b[0;34m(\u001b[0m\u001b[0;34m*\u001b[0m\u001b[0margs\u001b[0m\u001b[0;34m,\u001b[0m \u001b[0;34m**\u001b[0m\u001b[0mkwargs\u001b[0m\u001b[0;34m)\u001b[0m\u001b[0;34m\u001b[0m\u001b[0;34m\u001b[0m\u001b[0m\n\u001b[0m\u001b[1;32m    135\u001b[0m \u001b[0;34m\u001b[0m\u001b[0m\n",
      "\u001b[0;32m~/opt/anaconda3/lib/python3.8/site-packages/googleapiclient/http.py\u001b[0m in \u001b[0;36mexecute\u001b[0;34m(self, http, num_retries)\u001b[0m\n\u001b[1;32m    914\u001b[0m         \u001b[0;32mif\u001b[0m \u001b[0mresp\u001b[0m\u001b[0;34m.\u001b[0m\u001b[0mstatus\u001b[0m \u001b[0;34m>=\u001b[0m \u001b[0;36m300\u001b[0m\u001b[0;34m:\u001b[0m\u001b[0;34m\u001b[0m\u001b[0;34m\u001b[0m\u001b[0m\n\u001b[0;32m--> 915\u001b[0;31m             \u001b[0;32mraise\u001b[0m \u001b[0mHttpError\u001b[0m\u001b[0;34m(\u001b[0m\u001b[0mresp\u001b[0m\u001b[0;34m,\u001b[0m \u001b[0mcontent\u001b[0m\u001b[0;34m,\u001b[0m \u001b[0muri\u001b[0m\u001b[0;34m=\u001b[0m\u001b[0mself\u001b[0m\u001b[0;34m.\u001b[0m\u001b[0muri\u001b[0m\u001b[0;34m)\u001b[0m\u001b[0;34m\u001b[0m\u001b[0;34m\u001b[0m\u001b[0m\n\u001b[0m\u001b[1;32m    916\u001b[0m         \u001b[0;32mreturn\u001b[0m \u001b[0mself\u001b[0m\u001b[0;34m.\u001b[0m\u001b[0mpostproc\u001b[0m\u001b[0;34m(\u001b[0m\u001b[0mresp\u001b[0m\u001b[0;34m,\u001b[0m \u001b[0mcontent\u001b[0m\u001b[0;34m)\u001b[0m\u001b[0;34m\u001b[0m\u001b[0;34m\u001b[0m\u001b[0m\n",
      "\u001b[0;31mHttpError\u001b[0m: <HttpError 400 when requesting https://earthengine.googleapis.com/v1alpha/projects/earthengine-legacy/value:compute?prettyPrint=false&alt=json returned \"Element.propertyNames: Parameter 'element' is required.\". Details: \"Element.propertyNames: Parameter 'element' is required.\">",
      "\nDuring handling of the above exception, another exception occurred:\n",
      "\u001b[0;31mEEException\u001b[0m                               Traceback (most recent call last)",
      "\u001b[0;32m<ipython-input-7-fd4129167761>\u001b[0m in \u001b[0;36m<module>\u001b[0;34m\u001b[0m\n\u001b[1;32m     11\u001b[0m \u001b[0;34m\u001b[0m\u001b[0m\n\u001b[1;32m     12\u001b[0m \u001b[0mout_csv\u001b[0m \u001b[0;34m=\u001b[0m \u001b[0mos\u001b[0m\u001b[0;34m.\u001b[0m\u001b[0mpath\u001b[0m\u001b[0;34m.\u001b[0m\u001b[0mjoin\u001b[0m\u001b[0;34m(\u001b[0m\u001b[0mwork_dir\u001b[0m\u001b[0;34m,\u001b[0m \u001b[0;34m'Class_Including_LandSat8_S5_San_Francisco July.csv'\u001b[0m\u001b[0;34m)\u001b[0m\u001b[0;34m\u001b[0m\u001b[0;34m\u001b[0m\u001b[0m\n\u001b[0;32m---> 13\u001b[0;31m \u001b[0mgeemap\u001b[0m\u001b[0;34m.\u001b[0m\u001b[0mextract_values_to_points\u001b[0m\u001b[0;34m(\u001b[0m\u001b[0min_fc\u001b[0m\u001b[0;34m,\u001b[0m \u001b[0mreproj_image\u001b[0m\u001b[0;34m,\u001b[0m \u001b[0mout_csv\u001b[0m\u001b[0;34m)\u001b[0m\u001b[0;34m\u001b[0m\u001b[0;34m\u001b[0m\u001b[0m\n\u001b[0m\u001b[1;32m     14\u001b[0m \u001b[0;34m\u001b[0m\u001b[0m\n\u001b[1;32m     15\u001b[0m \u001b[0mdf\u001b[0m\u001b[0;34m=\u001b[0m\u001b[0mpd\u001b[0m\u001b[0;34m.\u001b[0m\u001b[0mread_csv\u001b[0m\u001b[0;34m(\u001b[0m\u001b[0;34m'Class_Including_LandSat8_S5_San_Francisco July.csv'\u001b[0m\u001b[0;34m)\u001b[0m\u001b[0;34m\u001b[0m\u001b[0;34m\u001b[0m\u001b[0m\n",
      "\u001b[0;32m~/opt/anaconda3/lib/python3.8/site-packages/geemap/common.py\u001b[0m in \u001b[0;36mextract_values_to_points\u001b[0;34m(in_fc, image, out_fc, properties, scale, projection, tile_scale, geometries)\u001b[0m\n\u001b[1;32m   6235\u001b[0m \u001b[0;34m\u001b[0m\u001b[0m\n\u001b[1;32m   6236\u001b[0m     \u001b[0;32mif\u001b[0m \u001b[0mout_fc\u001b[0m \u001b[0;32mis\u001b[0m \u001b[0;32mnot\u001b[0m \u001b[0;32mNone\u001b[0m\u001b[0;34m:\u001b[0m\u001b[0;34m\u001b[0m\u001b[0;34m\u001b[0m\u001b[0m\n\u001b[0;32m-> 6237\u001b[0;31m         \u001b[0mee_export_vector\u001b[0m\u001b[0;34m(\u001b[0m\u001b[0mresult\u001b[0m\u001b[0;34m,\u001b[0m \u001b[0mout_fc\u001b[0m\u001b[0;34m)\u001b[0m\u001b[0;34m\u001b[0m\u001b[0;34m\u001b[0m\u001b[0m\n\u001b[0m\u001b[1;32m   6238\u001b[0m     \u001b[0;32melse\u001b[0m\u001b[0;34m:\u001b[0m\u001b[0;34m\u001b[0m\u001b[0;34m\u001b[0m\u001b[0m\n\u001b[1;32m   6239\u001b[0m         \u001b[0;32mreturn\u001b[0m \u001b[0mresult\u001b[0m\u001b[0;34m\u001b[0m\u001b[0;34m\u001b[0m\u001b[0m\n",
      "\u001b[0;32m~/opt/anaconda3/lib/python3.8/site-packages/geemap/common.py\u001b[0m in \u001b[0;36mee_export_vector\u001b[0;34m(ee_object, filename, selectors, verbose, keep_zip)\u001b[0m\n\u001b[1;32m   1276\u001b[0m \u001b[0;34m\u001b[0m\u001b[0m\n\u001b[1;32m   1277\u001b[0m     \u001b[0;32mif\u001b[0m \u001b[0mselectors\u001b[0m \u001b[0;32mis\u001b[0m \u001b[0;32mNone\u001b[0m\u001b[0;34m:\u001b[0m\u001b[0;34m\u001b[0m\u001b[0;34m\u001b[0m\u001b[0m\n\u001b[0;32m-> 1278\u001b[0;31m         \u001b[0mselectors\u001b[0m \u001b[0;34m=\u001b[0m \u001b[0mee_object\u001b[0m\u001b[0;34m.\u001b[0m\u001b[0mfirst\u001b[0m\u001b[0;34m(\u001b[0m\u001b[0;34m)\u001b[0m\u001b[0;34m.\u001b[0m\u001b[0mpropertyNames\u001b[0m\u001b[0;34m(\u001b[0m\u001b[0;34m)\u001b[0m\u001b[0;34m.\u001b[0m\u001b[0mgetInfo\u001b[0m\u001b[0;34m(\u001b[0m\u001b[0;34m)\u001b[0m\u001b[0;34m\u001b[0m\u001b[0;34m\u001b[0m\u001b[0m\n\u001b[0m\u001b[1;32m   1279\u001b[0m         \u001b[0;32mif\u001b[0m \u001b[0mfiletype\u001b[0m \u001b[0;34m==\u001b[0m \u001b[0;34m\"csv\"\u001b[0m\u001b[0;34m:\u001b[0m\u001b[0;34m\u001b[0m\u001b[0;34m\u001b[0m\u001b[0m\n\u001b[1;32m   1280\u001b[0m             \u001b[0;31m# remove .geo coordinate field\u001b[0m\u001b[0;34m\u001b[0m\u001b[0;34m\u001b[0m\u001b[0;34m\u001b[0m\u001b[0m\n",
      "\u001b[0;32m~/opt/anaconda3/lib/python3.8/site-packages/ee/computedobject.py\u001b[0m in \u001b[0;36mgetInfo\u001b[0;34m(self)\u001b[0m\n\u001b[1;32m     96\u001b[0m       \u001b[0mThe\u001b[0m \u001b[0mobject\u001b[0m \u001b[0mcan\u001b[0m \u001b[0mevaluate\u001b[0m \u001b[0mto\u001b[0m \u001b[0manything\u001b[0m\u001b[0;34m.\u001b[0m\u001b[0;34m\u001b[0m\u001b[0;34m\u001b[0m\u001b[0m\n\u001b[1;32m     97\u001b[0m     \"\"\"\n\u001b[0;32m---> 98\u001b[0;31m     \u001b[0;32mreturn\u001b[0m \u001b[0mdata\u001b[0m\u001b[0;34m.\u001b[0m\u001b[0mcomputeValue\u001b[0m\u001b[0;34m(\u001b[0m\u001b[0mself\u001b[0m\u001b[0;34m)\u001b[0m\u001b[0;34m\u001b[0m\u001b[0;34m\u001b[0m\u001b[0m\n\u001b[0m\u001b[1;32m     99\u001b[0m \u001b[0;34m\u001b[0m\u001b[0m\n\u001b[1;32m    100\u001b[0m   \u001b[0;32mdef\u001b[0m \u001b[0mencode\u001b[0m\u001b[0;34m(\u001b[0m\u001b[0mself\u001b[0m\u001b[0;34m,\u001b[0m \u001b[0mencoder\u001b[0m\u001b[0;34m)\u001b[0m\u001b[0;34m:\u001b[0m\u001b[0;34m\u001b[0m\u001b[0;34m\u001b[0m\u001b[0m\n",
      "\u001b[0;32m~/opt/anaconda3/lib/python3.8/site-packages/ee/data.py\u001b[0m in \u001b[0;36mcomputeValue\u001b[0;34m(obj)\u001b[0m\n\u001b[1;32m    672\u001b[0m     \u001b[0mThe\u001b[0m \u001b[0mresult\u001b[0m \u001b[0mof\u001b[0m \u001b[0mevaluating\u001b[0m \u001b[0mthat\u001b[0m \u001b[0mobject\u001b[0m \u001b[0mon\u001b[0m \u001b[0mthe\u001b[0m \u001b[0mserver\u001b[0m\u001b[0;34m.\u001b[0m\u001b[0;34m\u001b[0m\u001b[0;34m\u001b[0m\u001b[0m\n\u001b[1;32m    673\u001b[0m   \"\"\"\n\u001b[0;32m--> 674\u001b[0;31m   return _execute_cloud_call(\n\u001b[0m\u001b[1;32m    675\u001b[0m       _get_cloud_api_resource().projects().value().compute(\n\u001b[1;32m    676\u001b[0m           \u001b[0mbody\u001b[0m\u001b[0;34m=\u001b[0m\u001b[0;34m{\u001b[0m\u001b[0;34m'expression'\u001b[0m\u001b[0;34m:\u001b[0m \u001b[0mserializer\u001b[0m\u001b[0;34m.\u001b[0m\u001b[0mencode\u001b[0m\u001b[0;34m(\u001b[0m\u001b[0mobj\u001b[0m\u001b[0;34m,\u001b[0m \u001b[0mfor_cloud_api\u001b[0m\u001b[0;34m=\u001b[0m\u001b[0;32mTrue\u001b[0m\u001b[0;34m)\u001b[0m\u001b[0;34m}\u001b[0m\u001b[0;34m,\u001b[0m\u001b[0;34m\u001b[0m\u001b[0;34m\u001b[0m\u001b[0m\n",
      "\u001b[0;32m~/opt/anaconda3/lib/python3.8/site-packages/ee/data.py\u001b[0m in \u001b[0;36m_execute_cloud_call\u001b[0;34m(call, num_retries)\u001b[0m\n\u001b[1;32m    334\u001b[0m     \u001b[0;32mreturn\u001b[0m \u001b[0mcall\u001b[0m\u001b[0;34m.\u001b[0m\u001b[0mexecute\u001b[0m\u001b[0;34m(\u001b[0m\u001b[0mnum_retries\u001b[0m\u001b[0;34m=\u001b[0m\u001b[0mnum_retries\u001b[0m\u001b[0;34m)\u001b[0m\u001b[0;34m\u001b[0m\u001b[0;34m\u001b[0m\u001b[0m\n\u001b[1;32m    335\u001b[0m   \u001b[0;32mexcept\u001b[0m \u001b[0mgoogleapiclient\u001b[0m\u001b[0;34m.\u001b[0m\u001b[0merrors\u001b[0m\u001b[0;34m.\u001b[0m\u001b[0mHttpError\u001b[0m \u001b[0;32mas\u001b[0m \u001b[0me\u001b[0m\u001b[0;34m:\u001b[0m\u001b[0;34m\u001b[0m\u001b[0;34m\u001b[0m\u001b[0m\n\u001b[0;32m--> 336\u001b[0;31m     \u001b[0;32mraise\u001b[0m \u001b[0m_translate_cloud_exception\u001b[0m\u001b[0;34m(\u001b[0m\u001b[0me\u001b[0m\u001b[0;34m)\u001b[0m\u001b[0;34m\u001b[0m\u001b[0;34m\u001b[0m\u001b[0m\n\u001b[0m\u001b[1;32m    337\u001b[0m \u001b[0;34m\u001b[0m\u001b[0m\n\u001b[1;32m    338\u001b[0m \u001b[0;34m\u001b[0m\u001b[0m\n",
      "\u001b[0;31mEEException\u001b[0m: Element.propertyNames: Parameter 'element' is required."
     ]
    }
   ],
   "source": [
    "#extract_band_values_from_shape_file_points july\n",
    "ground_truth= image_LANDSAT8.addBands(image_S5P)\n",
    "\n",
    "work_dir = os.path.expanduser('/Users/mdnhuda/Desktop/PARC IEM Data/Correlation for Month with Scatter')\n",
    "in_shp = os.path.join(work_dir, 'geometry_shape.shp')\n",
    "in_fc = geemap.shp_to_ee(in_shp)\n",
    "Map_S5P.addLayer(in_fc, {}, 'Shape FIle Geometry')\n",
    "\n",
    "proj = ee.Projection('EPSG:4326')\n",
    "reproj_image = ground_truth.resample('bilinear').reproject(crs=proj, scale=30)\n",
    "\n",
    "out_csv = os.path.join(work_dir, 'Class_Including_LandSat8_S5_San_Francisco July.csv')\n",
    "geemap.extract_values_to_points(in_fc, reproj_image, out_csv)\n",
    "\n",
    "df=pd.read_csv('Class_Including_LandSat8_S5_San_Francisco July.csv')"
   ]
  },
  {
   "cell_type": "code",
   "execution_count": null,
   "id": "4b849255",
   "metadata": {},
   "outputs": [],
   "source": [
    "#extract_band_values_from_shape_file_points sep\n",
    "ground_truth_sep= image_LANDSAT8_sep.addBands(image_S5P_sep)\n",
    "\n",
    "work_dir = os.path.expanduser('/Users/mdnhuda/Desktop/PARC IEM Data/Correlation for Month with Scatter')\n",
    "in_shp = os.path.join(work_dir, 'geometry_shape.shp')\n",
    "in_fc = geemap.shp_to_ee(in_shp)\n",
    "Map_S5P.addLayer(in_fc, {}, 'Shape FIle Geometry')\n",
    "\n",
    "proj = ee.Projection('EPSG:4326')\n",
    "reproj_image = ground_truth_sep.resample('bilinear').reproject(crs=proj, scale=30)\n",
    "\n",
    "out_csv = os.path.join(work_dir, 'Class_Including_LandSat8_S5_Los_Angeles Sep.csv')\n",
    "geemap.extract_values_to_points(in_fc, reproj_image, out_csv)\n",
    "\n",
    "df=pd.read_csv('Class_Including_LandSat8_S5_San_Francisco Sep.csv')\n",
    "df_sep=pd.read_csv('Class_Including_LandSat8_S5_San_Francisco Sep.csv')"
   ]
  },
  {
   "cell_type": "code",
   "execution_count": null,
   "id": "84e43a18",
   "metadata": {},
   "outputs": [],
   "source": [
    "df"
   ]
  },
  {
   "cell_type": "code",
   "execution_count": null,
   "id": "85082713",
   "metadata": {},
   "outputs": [],
   "source": [
    "df_sep"
   ]
  },
  {
   "cell_type": "code",
   "execution_count": null,
   "id": "032fe69c",
   "metadata": {},
   "outputs": [],
   "source": [
    "# use pd.concat to join the new columns with your original dataframe\n",
    "df = pd.concat([df,pd.get_dummies(df['Class'], prefix='Class')],axis=1)\n",
    "\n",
    "# now drop the original 'country' column (you don't need it anymore)\n",
    "df.drop(['Class'],axis=1, inplace=True)"
   ]
  },
  {
   "cell_type": "code",
   "execution_count": null,
   "id": "86726feb",
   "metadata": {},
   "outputs": [],
   "source": [
    "df"
   ]
  },
  {
   "cell_type": "code",
   "execution_count": null,
   "id": "6f1f0e83",
   "metadata": {},
   "outputs": [],
   "source": [
    "# use pd.concat to join the new columns with your original dataframe\n",
    "df_sep = pd.concat([df_sep,pd.get_dummies(df_sep['Class'], prefix='Class')],axis=1)\n",
    "\n",
    "# now drop the original 'country' column (you don't need it anymore)\n",
    "df_sep.drop(['Class'],axis=1, inplace=True)"
   ]
  },
  {
   "cell_type": "code",
   "execution_count": null,
   "id": "42d6fdf2",
   "metadata": {},
   "outputs": [],
   "source": [
    "df_sep"
   ]
  },
  {
   "cell_type": "code",
   "execution_count": null,
   "id": "16cf493e",
   "metadata": {},
   "outputs": [],
   "source": []
  },
  {
   "cell_type": "code",
   "execution_count": null,
   "id": "f5921eb8",
   "metadata": {},
   "outputs": [],
   "source": [
    "cv = RepeatedKFold(n_splits=5, n_repeats=5, random_state=42)\n",
    "model = TPOTRegressor(generations=4, population_size=50, scoring='neg_mean_absolute_error', cv=cv, verbosity=2, random_state=42, n_jobs=-1)\n",
    "model.fit(X_train, y_train)"
   ]
  },
  {
   "cell_type": "code",
   "execution_count": null,
   "id": "ceb2a32c",
   "metadata": {},
   "outputs": [],
   "source": [
    "import pandas as pd\n",
    "import seaborn as sn\n",
    "import matplotlib.pyplot as plt\n",
    "\n",
    "corrMatrix = df.corr()\n",
    "sn.heatmap(corrMatrix, annot=True)\n",
    "plt.show()"
   ]
  },
  {
   "cell_type": "code",
   "execution_count": null,
   "id": "a352f40b",
   "metadata": {
    "scrolled": true
   },
   "outputs": [],
   "source": [
    "df.corr()['NO2_column_number_density'].sort_values().plot(kind='bar')"
   ]
  },
  {
   "cell_type": "markdown",
   "id": "6fff7edc",
   "metadata": {},
   "source": [
    "It looks like B1, B2, B3, B4, B10, B11, and sr-aerosol strongly correlate with the NO2 values. It will be good to see how do they perform in a fitted model."
   ]
  },
  {
   "cell_type": "markdown",
   "id": "204b6619",
   "metadata": {},
   "source": [
    "## ! Notes to Toyon !\n",
    "\n",
    "- Can you run a multivariate regression model for this data, and document p-values?\n",
    "- Can you run a machine learning model (e.g random forest/GBM) to fit this data? Document the feature importance. You can divide the data into train and test to see how well it performs within the month. \n",
    "- Can you test it on a different month (September 2018)? To see the divergence.\n",
    "- Can you try generating the similar dataset for June 2018 using Sentinel-2 and Sentinel-5P data?\n",
    "- Side note: we may have to generate additional spatial and temporal values (month, day of week, etc.) in the future to develop more precise models."
   ]
  },
  {
   "cell_type": "code",
   "execution_count": null,
   "id": "b62117b6",
   "metadata": {},
   "outputs": [],
   "source": [
    "dtale.show(df)"
   ]
  },
  {
   "cell_type": "code",
   "execution_count": null,
   "id": "0e0e1a09",
   "metadata": {},
   "outputs": [],
   "source": [
    "df.isnull().sum()"
   ]
  },
  {
   "cell_type": "code",
   "execution_count": null,
   "id": "0d64e4ce",
   "metadata": {},
   "outputs": [],
   "source": [
    "X=df.drop('NO2_column_number_density',axis=1).values\n",
    "y=df['NO2_column_number_density'].values\n",
    "\n",
    "X_train, X_test, y_train, y_test = train_test_split(X, y, test_size=0.30, random_state=42)\n",
    "scaler=MinMaxScaler()\n",
    "X_train=scaler.fit_transform(X_train)\n",
    "X_test=scaler.transform(X_test)"
   ]
  },
  {
   "cell_type": "code",
   "execution_count": null,
   "id": "2a61df40",
   "metadata": {},
   "outputs": [],
   "source": [
    "X_sep=df_sep.drop('NO2_column_number_density',axis=1).values\n",
    "y_sep=df_sep['NO2_column_number_density'].values\n",
    "\n",
    "X_train_sep, X_test_sep, y_train_sep, y_test_sep = train_test_split(X_sep, y_sep, test_size=0.30, random_state=42)\n",
    "scaler=MinMaxScaler()\n",
    "X_train_sep=scaler.fit_transform(X_train_sep)\n",
    "X_test_sep=scaler.transform(X_test_sep)"
   ]
  },
  {
   "cell_type": "code",
   "execution_count": null,
   "id": "eacb2f6d",
   "metadata": {
    "scrolled": false
   },
   "outputs": [],
   "source": [
    "# cv = RepeatedKFold(n_splits=5, n_repeats=5, random_state=42)\n",
    "# model = TPOTRegressor(generations=4, population_size=50, scoring='neg_mean_absolute_error', cv=cv, verbosity=2, random_state=42, n_jobs=-1)\n",
    "# model.fit(X_train, y_train)"
   ]
  },
  {
   "cell_type": "markdown",
   "id": "8cc4c203",
   "metadata": {},
   "source": [
    "Warning: xgboost.XGBRegressor is not available and will not be used by TPOT.\n",
    "\n",
    "Generation 1 - Current best internal CV score: -4.529442946966777e-06\n",
    "\n",
    "Generation 2 - Current best internal CV score: -4.490338574037101e-06\n",
    "\n",
    "Generation 3 - Current best internal CV score: -4.490338574037101e-06\n",
    "\n",
    "Generation 4 - Current best internal CV score: -4.490338574037101e-06\n",
    "\n",
    "## Best pipeline: RandomForestRegressor(PCA(RobustScaler(PolynomialFeatures(input_matrix, degree=2, include_bias=False, interaction_only=False)), iterated_power=9, svd_solver=randomized), bootstrap=False, max_features=0.35000000000000003, min_samples_leaf=7, min_samples_split=20, n_estimators=100)\n",
    "## TPOTRegressor(cv=RepeatedKFold(n_repeats=5, n_splits=5, random_state=42),\n",
    "              generations=4, n_jobs=-1, population_size=50, random_state=42,\n",
    "              scoring='neg_mean_absolute_error', verbosity=2)"
   ]
  },
  {
   "cell_type": "code",
   "execution_count": null,
   "id": "608ea844",
   "metadata": {},
   "outputs": [],
   "source": [
    "\n",
    "#model.export('NO2_Prediction_KR_Toyon_July_September_LandSat8_S5_San_Francisco_tpot_best_model.py')"
   ]
  },
  {
   "cell_type": "code",
   "execution_count": null,
   "id": "3ab01c80",
   "metadata": {},
   "outputs": [],
   "source": [
    "model = RandomForestRegressor(bootstrap=False, max_features=0.35000000000000003, min_samples_leaf=7, min_samples_split=20, n_estimators=100)\n",
    "model.fit(X_train, y_train)\n",
    "print('Training Accuracy : %.3f'% model.score(X_train,y_train))\n",
    "\n",
    "print('Test Accuracy : %.3f'%model.score(X_test,y_test))"
   ]
  },
  {
   "cell_type": "code",
   "execution_count": null,
   "id": "e86b8d12",
   "metadata": {},
   "outputs": [],
   "source": [
    "feature_importance = model.feature_importances_\n",
    "sorted_idx = np.argsort(feature_importance)\n",
    "pos = np.arange(sorted_idx.shape[0]) + .5\n",
    "fig = plt.figure(figsize=(12, 6))\n",
    "plt.subplot(1, 2, 1)\n",
    "plt.barh(pos, feature_importance[sorted_idx], align='center')\n",
    "plt.title('Feature Importance')\n",
    "plt.yticks(pos, np.array(df.columns)[sorted_idx])\n",
    "result = permutation_importance(model, X_test, y_test, n_repeats=10,\n",
    "                                random_state=42, n_jobs=2)\n",
    "sorted_idx = result.importances_mean.argsort()\n",
    "plt.subplot(1, 2, 2)\n",
    "plt.boxplot(result.importances[sorted_idx].T,\n",
    "            vert=False, labels=np.array(df.columns)[sorted_idx])\n",
    "plt.title(\"Permutation Importance (test set)\")\n",
    "fig.tight_layout()\n",
    "plt.show()"
   ]
  },
  {
   "cell_type": "code",
   "execution_count": null,
   "id": "8891dbd8",
   "metadata": {},
   "outputs": [],
   "source": [
    "prediction=model.predict(X_test)\n",
    "MSE=mean_squared_error(y_test,prediction)\n",
    "print(\"Mean Squared Error =\",MSE)\n",
    "\n",
    "MAPE=mean_absolute_percentage_error(y_test,prediction)\n",
    "print(\"Mean absolute percentage error =\",MAPE)\n",
    "\n",
    "\n",
    "fig = plt.figure(figsize=(14,6))\n",
    "plt.plot(y_test,marker=\"o\", ms = 8, mfc = 'b', linestyle='None',label='Actual')\n",
    "plt.plot(prediction,marker=\"v\", ms = 9,linestyle='None', mfc = 'g',label='Prediction')\n",
    "plt.title('Actual vs Predicted NO2_column_number_density on Test Data (RandomForest)')\n",
    "plt.legend(loc='best',prop={'size':14})\n",
    "plt.xlabel('Pixel')\n",
    "plt.ylabel('NO2_column_number_density')"
   ]
  },
  {
   "cell_type": "code",
   "execution_count": null,
   "id": "82d9a8c4",
   "metadata": {},
   "outputs": [],
   "source": [
    "prediction_sep=model.predict(X_test_sep)\n",
    "MSE=mean_squared_error(y_test_sep,prediction_sep)\n",
    "print(\"Mean Squared Error =\",MSE)\n",
    "\n",
    "MAPE=mean_absolute_percentage_error(y_test_sep,prediction_sep)\n",
    "print(\"Mean absolute percentage error =\",MAPE)\n",
    "\n",
    "\n",
    "fig = plt.figure(figsize=(14,6))\n",
    "plt.plot(y_test_sep,marker=\"o\", ms = 8, mfc = 'b', linestyle='None',label='Actual')\n",
    "plt.plot(prediction_sep,marker=\"v\", ms = 9,linestyle='None', mfc = 'g',label='Prediction')\n",
    "plt.title('Actual vs Predicted NO2_column_number_density on Unseen Data Sep (RandomForest)')\n",
    "plt.legend(loc='best',prop={'size':14})\n",
    "plt.xlabel('Pixel')\n",
    "plt.ylabel('NO2_column_number_density')"
   ]
  },
  {
   "cell_type": "code",
   "execution_count": null,
   "id": "cb425928",
   "metadata": {},
   "outputs": [],
   "source": [
    "fig = plt.figure(figsize=(14,6))\n",
    "plt.plot(NO2_column_number_density,marker=\"o\", ms = 8, mfc = 'b', linestyle='None',label='Actual')\n",
    "plt.plot(all_prediction,marker=\"v\", ms = 9,linestyle='None', mfc = 'g',label='Prediction')\n",
    "plt.title('Actual vs Predicted NO2_column_number_density on Whole Data (RandomForest)')\n",
    "plt.legend(loc='best',prop={'size':14})\n",
    "plt.xlabel('Pixel')\n",
    "plt.ylabel('NO2_column_number_density')"
   ]
  },
  {
   "cell_type": "markdown",
   "id": "04ae84ad",
   "metadata": {},
   "source": [
    "## Additional Methods follows below"
   ]
  },
  {
   "cell_type": "code",
   "execution_count": null,
   "id": "f7a4e393",
   "metadata": {},
   "outputs": [],
   "source": [
    "model_params = {\n",
    "    'svm': {\n",
    "        'model': SVR(gamma='auto'),\n",
    "        'params' : {\n",
    "            'C': [10,20,50],\n",
    "            'kernel': ['rbf','linear']\n",
    "        }  \n",
    "    },\n",
    "    'random_forest': {\n",
    "        'model': RandomForestRegressor(),\n",
    "        'params' : {\n",
    "            'n_estimators': [5,10,15]\n",
    "        }\n",
    "    },\n",
    "}"
   ]
  },
  {
   "cell_type": "code",
   "execution_count": null,
   "id": "20427f63",
   "metadata": {},
   "outputs": [],
   "source": [
    "scores = []\n",
    "\n",
    "for model_name, mp in model_params.items():\n",
    "    clf =  GridSearchCV(mp['model'], mp['params'], cv=5, return_train_score=False)\n",
    "    clf.fit(X, y)\n",
    "    scores.append({\n",
    "        'model': model_name,\n",
    "        'best_score': clf.best_score_,\n",
    "        'best_params': clf.best_params_\n",
    "    })\n",
    "    \n",
    "df_score = pd.DataFrame(scores,columns=['model','best_score','best_params'])\n",
    "df_score"
   ]
  },
  {
   "cell_type": "code",
   "execution_count": null,
   "id": "840488c7",
   "metadata": {},
   "outputs": [],
   "source": [
    "#Rainforest Regression\n",
    "model = AdaBoostRegressor(DecisionTreeRegressor(max_depth=4),\n",
    "                          n_estimators=15)\n",
    "model.fit(X_train,y_train)"
   ]
  },
  {
   "cell_type": "code",
   "execution_count": null,
   "id": "e88eb1c5",
   "metadata": {},
   "outputs": [],
   "source": [
    "print('Training Accuracy : %.3f'% model.score(X_train,y_train))\n",
    "\n",
    "print('Test Accuracy : %.3f'%model.score(X_test,y_test))"
   ]
  },
  {
   "cell_type": "code",
   "execution_count": null,
   "id": "bfd9c83a",
   "metadata": {},
   "outputs": [],
   "source": [
    "prediction=model.predict(X_test)\n",
    "MSE=mean_squared_error(y_test,prediction)\n",
    "print(\"Mean Squared Error =\",MSE)\n",
    "\n",
    "MAPE=mean_absolute_percentage_error(y_test,prediction)\n",
    "print(\"Mean absolute percentage error =\",MAPE)\n",
    "\n",
    "\n",
    "fig = plt.figure(figsize=(14,6))\n",
    "plt.plot(y_test,marker=\"o\", ms = 8, mfc = 'b', linestyle='None',label='Actual')\n",
    "plt.plot(prediction,marker=\"v\", ms = 9,linestyle='None', mfc = 'g',label='Prediction')\n",
    "plt.title('Actual vs Predicted NO2_column_number_density on Test Data (Random Forest)')\n",
    "plt.legend(loc='best',prop={'size':14})\n",
    "plt.xlabel('Pixel')\n",
    "plt.ylabel('NO2_column_number_density')"
   ]
  },
  {
   "cell_type": "code",
   "execution_count": null,
   "id": "d18c77eb",
   "metadata": {},
   "outputs": [],
   "source": [
    "prediction_sep=model.predict(X_test_sep)\n",
    "MSE=mean_squared_error(y_test_sep,prediction_sep)\n",
    "print(\"Mean Squared Error =\",MSE)\n",
    "\n",
    "MAPE=mean_absolute_percentage_error(y_test_sep,prediction_sep)\n",
    "print(\"Mean absolute percentage error =\",MAPE)\n",
    "\n",
    "\n",
    "fig = plt.figure(figsize=(14,6))\n",
    "plt.plot(y_test_sep,marker=\"o\", ms = 8, mfc = 'b', linestyle='None',label='Actual')\n",
    "plt.plot(prediction_sep,marker=\"v\", ms = 9,linestyle='None', mfc = 'g',label='Prediction')\n",
    "plt.title('Actual vs Predicted NO2_column_number_density on Unseen Data Sep (Random Forest)')\n",
    "plt.legend(loc='best',prop={'size':14})\n",
    "plt.xlabel('Pixel')\n",
    "plt.ylabel('NO2_column_number_density')"
   ]
  },
  {
   "cell_type": "code",
   "execution_count": null,
   "id": "823d7a0d",
   "metadata": {},
   "outputs": [],
   "source": [
    "NO2_column_number_density=df['NO2_column_number_density']"
   ]
  },
  {
   "cell_type": "code",
   "execution_count": null,
   "id": "b878029b",
   "metadata": {},
   "outputs": [],
   "source": [
    "X_all=scaler.transform(X)\n",
    "all_prediction=model.predict(X_all)"
   ]
  },
  {
   "cell_type": "code",
   "execution_count": null,
   "id": "cf957f98",
   "metadata": {},
   "outputs": [],
   "source": [
    "fig = plt.figure(figsize=(14,6))\n",
    "plt.plot(NO2_column_number_density,marker=\"o\", ms = 8, mfc = 'b', linestyle='None',label='Actual')\n",
    "plt.plot(all_prediction,marker=\"v\", ms = 9,linestyle='None', mfc = 'g',label='Prediction')\n",
    "plt.title('Actual vs Predicted NO2_column_number_density on Whole Data (Random Forest)')\n",
    "plt.legend(loc='best',prop={'size':14})\n",
    "plt.xlabel('Pixel')\n",
    "plt.ylabel('NO2_column_number_density')"
   ]
  },
  {
   "cell_type": "code",
   "execution_count": null,
   "id": "b7104458",
   "metadata": {},
   "outputs": [],
   "source": [
    "#X.rename(index={0: \"B1\", 1: \"B10\", 2: \"B11\", 3: \"B2\",4: \"B3\", 5: \"B4\", 6: \"B5\", 7: \"B6\", 8: \"B7\"})"
   ]
  },
  {
   "cell_type": "code",
   "execution_count": null,
   "id": "9bda6936",
   "metadata": {},
   "outputs": [],
   "source": []
  },
  {
   "cell_type": "code",
   "execution_count": null,
   "id": "330ddf2e",
   "metadata": {},
   "outputs": [],
   "source": [
    "display = plot_partial_dependence(\n",
    "       model, X, features=[0,1,2,3,4,5,6,7,8,9])\n",
    "\n",
    "display.figure_.suptitle('Partial dependence of No2, with Random Forest')\n",
    "display.figure_.subplots_adjust(hspace=0.5)"
   ]
  },
  {
   "cell_type": "code",
   "execution_count": null,
   "id": "518df7e6",
   "metadata": {},
   "outputs": [],
   "source": [
    "logit_model=sm.OLS(y_train,X_train)\n",
    "result=logit_model.fit()\n",
    "print(result.summary())"
   ]
  },
  {
   "cell_type": "markdown",
   "id": "ba227603",
   "metadata": {},
   "source": [
    "## Start Mutlti-OutPut Regression Here! \n",
    "## With Target Output  \n",
    "## y=  ['NO2_column_number_density','tropospheric_NO2_column_number_density']"
   ]
  },
  {
   "cell_type": "code",
   "execution_count": null,
   "id": "38892941",
   "metadata": {},
   "outputs": [],
   "source": [
    "image_S5P = ee.ImageCollection(\"COPERNICUS/S5P/NRTI/L3_NO2\") \\\n",
    "    .filterBounds(roi) \\\n",
    "    .filterDate('2018-07-01', '2018-07-31') \\\n",
    "    .sort('ALGORITHM_VERSION') \\\n",
    "    .select('NO2_column_number_density','tropospheric_NO2_column_number_density') \\\n",
    "    .median() \\\n",
    "    .clip(roi)\n",
    "\n",
    "vis_params_S5P = {\n",
    "    'min': 0,\n",
    "    'max': 0.0002,\n",
    "    'bands': ['NO2_column_number_density'],\n",
    "    'palette': ['black', 'blue', 'purple', 'cyan', 'green', 'yellow', 'red']\n",
    "}\n",
    "\n",
    "Map_S5P.addLayer(image_S5P, vis_params_S5P, \"Sentinel-5P TROPOMI NO2\")"
   ]
  },
  {
   "cell_type": "code",
   "execution_count": null,
   "id": "a6c8bb0e",
   "metadata": {},
   "outputs": [],
   "source": [
    "ground_truth= image_LANDSAT8.addBands(image_S5P)"
   ]
  },
  {
   "cell_type": "code",
   "execution_count": null,
   "id": "dae6ca12",
   "metadata": {},
   "outputs": [],
   "source": [
    "# Make the training dataset.\n",
    "points = ground_truth.sample(**{\n",
    "    'region': ground_truth.geometry(),\n",
    "    'scale': 30,\n",
    "    'numPixels': 5000,\n",
    "    'seed': 0,\n",
    "    'geometries': True  # Set this to False to ignore geometries\n",
    "})\n",
    "\n",
    "Map_S5P.addLayer(points, {}, 'training', False)"
   ]
  },
  {
   "cell_type": "code",
   "execution_count": null,
   "id": "f15a5802",
   "metadata": {},
   "outputs": [],
   "source": [
    "print(points.size().getInfo())"
   ]
  },
  {
   "cell_type": "code",
   "execution_count": null,
   "id": "50e98a98",
   "metadata": {
    "scrolled": true
   },
   "outputs": [],
   "source": [
    "print(points.first().getInfo())"
   ]
  },
  {
   "cell_type": "code",
   "execution_count": null,
   "id": "dafe0fed",
   "metadata": {},
   "outputs": [],
   "source": [
    "df = geemap.ee_to_pandas(points)\n",
    "df"
   ]
  },
  {
   "cell_type": "code",
   "execution_count": null,
   "id": "ba23dc35",
   "metadata": {},
   "outputs": [],
   "source": [
    "import pandas as pd\n",
    "import seaborn as sn\n",
    "import matplotlib.pyplot as plt\n",
    "\n",
    "corrMatrix = df.corr()\n",
    "sn.heatmap(corrMatrix, annot=True)\n",
    "plt.show()"
   ]
  },
  {
   "cell_type": "code",
   "execution_count": null,
   "id": "a316d642",
   "metadata": {
    "scrolled": true
   },
   "outputs": [],
   "source": [
    "df.corr()['NO2_column_number_density'].sort_values().plot(kind='bar')"
   ]
  },
  {
   "cell_type": "code",
   "execution_count": null,
   "id": "39f47a9c",
   "metadata": {},
   "outputs": [],
   "source": [
    "X=df.drop(['NO2_column_number_density','tropospheric_NO2_column_number_density'],axis=1).values\n",
    "y=df[['NO2_column_number_density','tropospheric_NO2_column_number_density']].values\n"
   ]
  },
  {
   "cell_type": "code",
   "execution_count": null,
   "id": "51d18566",
   "metadata": {},
   "outputs": [],
   "source": [
    "X_train, X_test, y_train, y_test = train_test_split(X, y, test_size=0.30, random_state=42)\n",
    "scaler=MinMaxScaler()\n",
    "X_train=scaler.fit_transform(X_train)\n",
    "X_test=scaler.transform(X_test)"
   ]
  },
  {
   "cell_type": "markdown",
   "id": "d21ac5ea",
   "metadata": {},
   "source": [
    "# Linear Regression for Multioutput Regression"
   ]
  },
  {
   "cell_type": "code",
   "execution_count": null,
   "id": "8a1f2929",
   "metadata": {},
   "outputs": [],
   "source": [
    "# defining LinearRegression model\n",
    "model = LinearRegression()\n",
    "# fit model\n",
    "model.fit(X_train,y_train)\n",
    "# make a prediction\n",
    "prediction=model.predict(X_test)\n",
    "# summarize prediction\n",
    "print(prediction[0,0])\n",
    "\n",
    "##\n",
    "MSE=mean_squared_error(y_test[:,0],prediction[:,0])\n",
    "print(\"Mean Squared Error =\",MSE)\n",
    "MAPE=mean_absolute_percentage_error(y_test[:,0],prediction[:,0])\n",
    "print(\"Mean absolute percentage error =\",MAPE)\n",
    "\n",
    "\n",
    "fig = plt.figure(figsize=(14,6))\n",
    "plt.plot(y_test[:,0],marker=\"o\", ms = 8, mfc = 'b', linestyle='None',label='Actual')\n",
    "plt.plot(prediction[:,0],marker=\"v\", ms = 9,linestyle='None', mfc = 'g',label='Prediction')\n",
    "plt.title('Actual vs Predicted NO2_column_number_density on Test Data (Linear Regression)')\n",
    "plt.legend(loc='best',prop={'size':14})\n",
    "plt.xlabel('Pixel')\n",
    "plt.ylabel('NO2_column_number_density')\n",
    "\n",
    "fig = plt.figure(figsize=(14,6))\n",
    "plt.plot(y_test[:,1],marker=\"o\", ms = 8, mfc = 'b', linestyle='None',label='Actual')\n",
    "plt.plot(prediction[:,1],marker=\"v\", ms = 9,linestyle='None', mfc = 'g',label='Prediction')\n",
    "plt.title('Actual vs Predicted tropospheric_NO2_column_number_density on Test Data (Linear Regression)')\n",
    "plt.legend(loc='best',prop={'size':14})\n",
    "plt.xlabel('Pixel')\n",
    "plt.ylabel('Ntropospheric_NO2_column_number_density')\n",
    "\n",
    "logit_model=sm.OLS(y_train[:,0],X_train)\n",
    "result=logit_model.fit()\n",
    "print(result.summary())"
   ]
  },
  {
   "cell_type": "code",
   "execution_count": null,
   "id": "f0eb2977",
   "metadata": {},
   "outputs": [],
   "source": [
    "print('Training Accuracy : %.3f'% model.score(X_train,y_train))\n",
    "\n",
    "print('Test Accuracy : %.3f'%model.score(X_test,y_test))"
   ]
  },
  {
   "cell_type": "code",
   "execution_count": null,
   "id": "15d8d101",
   "metadata": {},
   "outputs": [],
   "source": []
  },
  {
   "cell_type": "markdown",
   "id": "21a31e8d",
   "metadata": {},
   "source": [
    "# k-Nearest Neighbors for Multioutput Regression"
   ]
  },
  {
   "cell_type": "code",
   "execution_count": null,
   "id": "642df296",
   "metadata": {},
   "outputs": [],
   "source": [
    "# define model\n",
    "model = KNeighborsRegressor()\n",
    "# fit model\n",
    "model.fit(X_train,y_train)\n",
    "# make a prediction\n",
    "prediction=model.predict(X_test)\n",
    "# summarize prediction\n",
    "print(prediction[0,0])\n",
    "\n",
    "MSE=mean_squared_error(y_test[:,0],prediction[:,0])\n",
    "print(\"Mean Squared Error =\",MSE)\n",
    "MAPE=mean_absolute_percentage_error(y_test[:,0],prediction[:,0])\n",
    "print(\"Mean absolute percentage error =\",MAPE)\n",
    "\n",
    "fig = plt.figure(figsize=(14,6))\n",
    "plt.plot(y_test[:,0],marker=\"o\", ms = 8, mfc = 'b', linestyle='None',label='Actual')\n",
    "plt.plot(prediction[:,0],marker=\"v\", ms = 9,linestyle='None', mfc = 'g',label='Prediction')\n",
    "plt.title('Actual vs Predicted NO2_column_number_density on Test Data (k-Nearest Neighbors)')\n",
    "plt.legend(loc='best',prop={'size':14})\n",
    "plt.xlabel('Pixel')\n",
    "plt.ylabel('NO2_column_number_density')\n",
    "\n",
    "logit_model=sm.OLS(y_train[:,0],X_train)\n",
    "result=logit_model.fit()\n",
    "print(result.summary())"
   ]
  },
  {
   "cell_type": "code",
   "execution_count": null,
   "id": "49866159",
   "metadata": {},
   "outputs": [],
   "source": [
    "print('Training Accuracy : %.3f'% model.score(X_train,y_train))\n",
    "\n",
    "print('Test Accuracy : %.3f'%model.score(X_test,y_test))"
   ]
  },
  {
   "cell_type": "markdown",
   "id": "ec609763",
   "metadata": {},
   "source": [
    "# Decision Tree for Multioutput Regression"
   ]
  },
  {
   "cell_type": "code",
   "execution_count": null,
   "id": "d8dffa23",
   "metadata": {},
   "outputs": [],
   "source": [
    "# define model\n",
    "model = DecisionTreeRegressor(max_depth=8,\n",
    "                           min_samples_split=5,\n",
    "                           max_leaf_nodes=20)\n",
    "# fit model\n",
    "model.fit(X_train,y_train)\n",
    "# make a prediction\n",
    "prediction=model.predict(X_test)\n",
    "# summarize prediction\n",
    "print(prediction[0,0])\n",
    "\n",
    "MSE=mean_squared_error(y_test[:,0],prediction[:,0])\n",
    "print(\"Mean Squared Error =\",MSE)\n",
    "MAPE=mean_absolute_percentage_error(y_test[:,0],prediction[:,0])\n",
    "print(\"Mean absolute percentage error =\",MAPE)\n",
    "\n",
    "fig = plt.figure(figsize=(14,6))\n",
    "plt.plot(y_test[:,0],marker=\"o\", ms = 8, mfc = 'b', linestyle='None',label='Actual')\n",
    "plt.plot(prediction[:,0],marker=\"v\", ms = 9,linestyle='None', mfc = 'g',label='Prediction')\n",
    "plt.title('Actual vs Predicted NO2_column_number_density on Test Data (Decision Tree)')\n",
    "plt.legend(loc='best',prop={'size':14})\n",
    "plt.xlabel('Pixel')\n",
    "plt.ylabel('NO2_column_number_density')\n",
    "\n",
    "logit_model=sm.OLS(y_train[:,0],X_train)\n",
    "result=logit_model.fit()\n",
    "print(result.summary())"
   ]
  },
  {
   "cell_type": "code",
   "execution_count": null,
   "id": "81453837",
   "metadata": {},
   "outputs": [],
   "source": [
    "print('Training Accuracy : %.3f'% model.score(X_train,y_train))\n",
    "\n",
    "print('Test Accuracy : %.3f'%model.score(X_test,y_test))"
   ]
  },
  {
   "cell_type": "code",
   "execution_count": null,
   "id": "941e700c",
   "metadata": {
    "scrolled": true
   },
   "outputs": [],
   "source": [
    "#y_train.shape"
   ]
  },
  {
   "cell_type": "code",
   "execution_count": null,
   "id": "81d1d8da",
   "metadata": {},
   "outputs": [],
   "source": [
    "# param_grid = {\"criterion\": [\"mse\", \"mae\"],\n",
    "#               \"min_samples_split\": [10, 20, 40],\n",
    "#               \"max_depth\": [2, 6, 8],\n",
    "#               \"min_samples_leaf\": [20, 40, 100],\n",
    "#               \"max_leaf_nodes\": [5, 20, 100],\n",
    "#               }\n",
    "\n",
    "# ## Comment in order to publish in kaggle.\n",
    "\n",
    "# grid_cv_dtm = GridSearchCV(model, param_grid, cv=5)\n",
    "\n",
    "# grid_cv_dtm.fit(X,y)\n",
    "\n",
    "# print(\"R-Squared::{}\".format(grid_cv_dtm.best_score_))\n",
    "# print(\"Best Hyperparameters::\\n{}\".format(grid_cv_dtm.best_params_))"
   ]
  },
  {
   "cell_type": "code",
   "execution_count": null,
   "id": "31bc4e1f",
   "metadata": {},
   "outputs": [],
   "source": [
    "X=df.drop('NO2_column_number_density',axis=1).values\n",
    "y=df['NO2_column_number_density'].values\n",
    "\n",
    "X_train, X_test, y_train, y_test = train_test_split(X, y, test_size=0.30, random_state=42)\n",
    "scaler=MinMaxScaler()\n",
    "X_train=scaler.fit_transform(X_train)\n",
    "X_test=scaler.transform(X_test)\n",
    "\n",
    "model = GradientBoostingRegressor(alpha=0.85, learning_rate=0.5, loss='lad', max_depth=15, max_features=0.9500000000000001,\n",
    "                                min_samples_leaf=12, min_samples_split=7, n_estimators=100, subsample=0.6500000000000001)\n",
    "# fit model\n",
    "model.fit(X_train,y_train)\n",
    "# make a prediction\n",
    "prediction=model.predict(X_test)\n",
    "# summarize prediction\n",
    "#print(prediction[0,0])\n",
    "\n",
    "MSE=mean_squared_error(y_test,prediction)\n",
    "print(\"Mean Squared Error =\",MSE)\n",
    "MAPE=mean_absolute_percentage_error(y_test,prediction)\n",
    "print(\"Mean absolute percentage error =\",MAPE)\n",
    "\n",
    "fig = plt.figure(figsize=(14,6))\n",
    "plt.plot(y_test,marker=\"o\", ms = 8, mfc = 'b', linestyle='None',label='Actual')\n",
    "plt.plot(prediction,marker=\"v\", ms = 9,linestyle='None', mfc = 'g',label='Prediction')\n",
    "plt.title('Actual vs Predicted NO2_column_number_density on Test Data (Decision Tree)')\n",
    "plt.legend(loc='best',prop={'size':14})\n",
    "plt.xlabel('Pixel')\n",
    "plt.ylabel('NO2_column_number_density')\n",
    "\n",
    "logit_model=sm.OLS(y_train,X_train)\n",
    "result=logit_model.fit()\n",
    "print(result.summary())\n",
    "\n",
    "print('Training Accuracy : %.3f'% model.score(X_train,y_train))\n",
    "\n",
    "print('Test Accuracy : %.3f'%model.score(X_test,y_test))"
   ]
  }
 ],
 "metadata": {
  "kernelspec": {
   "display_name": "Python 3",
   "language": "python",
   "name": "python3"
  },
  "language_info": {
   "codemirror_mode": {
    "name": "ipython",
    "version": 3
   },
   "file_extension": ".py",
   "mimetype": "text/x-python",
   "name": "python",
   "nbconvert_exporter": "python",
   "pygments_lexer": "ipython3",
   "version": "3.8.8"
  },
  "latex_envs": {
   "LaTeX_envs_menu_present": true,
   "autoclose": false,
   "autocomplete": true,
   "bibliofile": "biblio.bib",
   "cite_by": "apalike",
   "current_citInitial": 1,
   "eqLabelWithNumbers": true,
   "eqNumInitial": 1,
   "hotkeys": {
    "equation": "Ctrl-E",
    "itemize": "Ctrl-I"
   },
   "labels_anchors": false,
   "latex_user_defs": false,
   "report_style_numbering": false,
   "user_envs_cfg": false
  }
 },
 "nbformat": 4,
 "nbformat_minor": 5
}
