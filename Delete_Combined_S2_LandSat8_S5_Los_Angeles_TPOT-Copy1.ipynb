{
 "cells": [
  {
   "cell_type": "code",
   "execution_count": 2,
   "id": "a2418929",
   "metadata": {},
   "outputs": [
    {
     "name": "stderr",
     "output_type": "stream",
     "text": [
      "/Users/mdnhuda/opt/anaconda3/lib/python3.8/site-packages/tpot/builtins/__init__.py:36: UserWarning:\n",
      "\n",
      "Warning: optional dependency `torch` is not available. - skipping import of NN models.\n",
      "\n"
     ]
    },
    {
     "data": {
      "text/html": [
       "        <script type=\"text/javascript\">\n",
       "        window.PlotlyConfig = {MathJaxConfig: 'local'};\n",
       "        if (window.MathJax) {MathJax.Hub.Config({SVG: {font: \"STIX-Web\"}});}\n",
       "        if (typeof require !== 'undefined') {\n",
       "        require.undef(\"plotly\");\n",
       "        requirejs.config({\n",
       "            paths: {\n",
       "                'plotly': ['https://cdn.plot.ly/plotly-latest.min']\n",
       "            }\n",
       "        });\n",
       "        require(['plotly'], function(Plotly) {\n",
       "            window._Plotly = Plotly;\n",
       "        });\n",
       "        }\n",
       "        </script>\n",
       "        "
      ]
     },
     "metadata": {},
     "output_type": "display_data"
    }
   ],
   "source": [
    "import ee\n",
    "import geemap\n",
    "import pandas as pd\n",
    "import dtale\n",
    "import numpy as np\n",
    "import matplotlib.pyplot as plt\n",
    "import seaborn as sns\n",
    "from sklearn.model_selection import RepeatedKFold,train_test_split\n",
    "from sklearn.preprocessing import MinMaxScaler,PowerTransformer\n",
    "from tensorflow.keras.models import Sequential\n",
    "from tensorflow.keras.layers import Dense,Dropout\n",
    "from sklearn.metrics import mean_squared_error, mean_absolute_error,explained_variance_score,mean_absolute_percentage_error\n",
    "import glob\n",
    "import dask.dataframe as dd\n",
    "from tpot import TPOTRegressor\n",
    "import xarray as xr\n",
    "from scipy import stats\n",
    "from sklearn.svm import SVR\n",
    "from sklearn import svm, datasets\n",
    "from sklearn.model_selection import GridSearchCV\n",
    "from sklearn.ensemble import RandomForestRegressor\n",
    "from sklearn.ensemble import AdaBoostRegressor\n",
    "from sklearn.tree import DecisionTreeRegressor\n",
    "from sklearn.linear_model import LinearRegression,ElasticNetCV\n",
    "from sklearn.preprocessing import PolynomialFeatures\n",
    "from sklearn.neighbors import KNeighborsRegressor\n",
    "from sklearn.inspection import plot_partial_dependence\n",
    "from warnings import filterwarnings\n",
    "filterwarnings('ignore')\n",
    "import plotly\n",
    "import plotly.graph_objs as go\n",
    "import plotly.tools as tls\n",
    "import seaborn as sns\n",
    "import time\n",
    "import plotly.express as px\n",
    "import chart_studio.plotly as py\n",
    "import folium\n",
    "from folium.plugins import HeatMap\n",
    "from plotly.offline import download_plotlyjs, init_notebook_mode, iplot, plot\n",
    "init_notebook_mode(connected = True)\n",
    "from folium.plugins import FastMarkerCluster\n",
    "import statsmodels.api as sm\n",
    "from statsmodels.sandbox.regression.predstd import wls_prediction_std\n",
    "import os\n",
    "from sklearn.inspection import permutation_importance"
   ]
  },
  {
   "cell_type": "code",
   "execution_count": 3,
   "id": "9d2fb9a1",
   "metadata": {},
   "outputs": [
    {
     "data": {
      "application/vnd.jupyter.widget-view+json": {
       "model_id": "cc0becd1a3f6489ca1ff7a14c689814e",
       "version_major": 2,
       "version_minor": 0
      },
      "text/plain": [
       "Map(center=[40, -100], controls=(WidgetControl(options=['position'], widget=HBox(children=(ToggleButton(value=…"
      ]
     },
     "metadata": {},
     "output_type": "display_data"
    }
   ],
   "source": [
    "Map_S5P = geemap.Map()\n",
    "Map_S5P"
   ]
  },
  {
   "cell_type": "code",
   "execution_count": 4,
   "id": "52d2f638",
   "metadata": {},
   "outputs": [],
   "source": [
    "# Create a common region of interest (Los Angeles)\n",
    "roi = ee.Geometry.Polygon([[[-121.39140625, 35.650331512181495],\n",
    "          [-121.39140625, 30.687240701629882],\n",
    "          [-112.7341796875, 30.687240701629882],\n",
    "          [-112.7341796875, 35.650331512181495]]])"
   ]
  },
  {
   "cell_type": "code",
   "execution_count": 5,
   "id": "c3d76329",
   "metadata": {},
   "outputs": [],
   "source": [
    "# Data COllection for July\n",
    "image_S5P = ee.ImageCollection(\"COPERNICUS/S5P/NRTI/L3_NO2\") \\\n",
    "    .filterBounds(roi) \\\n",
    "    .filterDate('2018-07-01', '2018-07-31') \\\n",
    "    .sort('ALGORITHM_VERSION') \\\n",
    "    .select('NO2_column_number_density') \\\n",
    "    .median() \\\n",
    "    .clip(roi)\n",
    "\n",
    "vis_params_S5P = {\n",
    "    'min': 0,\n",
    "    'max': 0.0002,\n",
    "    'bands': ['NO2_column_number_density'],\n",
    "    'palette': ['black', 'blue', 'purple', 'cyan', 'green', 'yellow', 'red']\n",
    "}\n",
    "\n",
    "Map_S5P.addLayer(image_S5P, vis_params_S5P, \"Sentinel-5P TROPOMI NO2\")\n",
    "\n",
    "\n",
    "image_LANDSAT8 = ee.ImageCollection('LANDSAT/LC08/C01/T1_SR') \\\n",
    "    .filterBounds(roi) \\\n",
    "    .filterDate('2018-07-01', '2018-07-31') \\\n",
    "    .sort('CLOUD_COVER') \\\n",
    "    .select('B1', 'B2', 'B3', 'B4', 'B5', 'B6', 'B7', 'B10', 'B11', 'sr_aerosol') \\\n",
    "    .median() \\\n",
    "    .clip(roi)\n",
    "\n",
    "vis_params_L8 = {\n",
    "    'min': 0,\n",
    "    'max': 3000,\n",
    "    'bands': ['B5', 'B4', 'B3']\n",
    "}\n",
    "\n",
    "\n",
    "Map_S5P.addLayer(image_LANDSAT8, vis_params_L8, \"Landsat-8\")\n",
    "\n",
    "\n",
    "# This automatically pans the map to the middle of our area of interest\n",
    "Map_S5P.centerObject(roi)"
   ]
  },
  {
   "cell_type": "code",
   "execution_count": null,
   "id": "4500ee0b",
   "metadata": {},
   "outputs": [],
   "source": [
    "Map_S5P_sep = geemap.Map()\n",
    "Map_S5P_sep"
   ]
  },
  {
   "cell_type": "code",
   "execution_count": null,
   "id": "e599f206",
   "metadata": {},
   "outputs": [],
   "source": [
    "# Data COllection for September\n",
    "image_S5P_sep = ee.ImageCollection(\"COPERNICUS/S5P/NRTI/L3_NO2\") \\\n",
    "    .filterBounds(roi) \\\n",
    "    .filterDate('2018-09-01', '2018-09-30') \\\n",
    "    .sort('ALGORITHM_VERSION') \\\n",
    "    .select('NO2_column_number_density') \\\n",
    "    .median() \\\n",
    "    .clip(roi)\n",
    "\n",
    "vis_params_S5P_sep = {\n",
    "    'min': 0,\n",
    "    'max': 0.0002,\n",
    "    'bands': ['NO2_column_number_density'],\n",
    "    'palette': ['black', 'blue', 'purple', 'cyan', 'green', 'yellow', 'red']\n",
    "}\n",
    "\n",
    "Map_S5P_sep.addLayer(image_S5P_sep, vis_params_S5P_sep, \"Sentinel-5P TROPOMI NO2\")\n",
    "\n",
    "\n",
    "image_LANDSAT8_sep = ee.ImageCollection('LANDSAT/LC08/C01/T1_SR') \\\n",
    "    .filterBounds(roi) \\\n",
    "    .filterDate('2018-09-01', '2018-09-30') \\\n",
    "    .sort('CLOUD_COVER') \\\n",
    "    .select('B1', 'B2', 'B3', 'B4', 'B5', 'B6', 'B7', 'B10', 'B11', 'sr_aerosol') \\\n",
    "    .median() \\\n",
    "    .clip(roi)\n",
    "\n",
    "vis_params_L8_sep = {\n",
    "    'min': 0,\n",
    "    'max': 3000,\n",
    "    'bands': ['B5', 'B4', 'B3']\n",
    "}\n",
    "\n",
    "\n",
    "Map_S5P_sep.addLayer(image_LANDSAT8_sep, vis_params_L8_sep, \"Landsat-8\")\n",
    "\n",
    "image_S2_SR_sep = ee.ImageCollection(\"COPERNICUS/S2\") \\\n",
    "  .filterBounds(roi) \\\n",
    "  .filterDate('2018-09-01', '2018-09-30'); \n",
    "\n",
    "# This tells us what images are inside the collection\n",
    "# These are the bands that we want to be displayed\n",
    "S2_bands = ['B1', 'B2', 'B3', 'B4', 'B5', 'B6', 'B7','B8','B8A','B9', 'B11', 'B12']\n",
    "bands=['B4', 'B3', 'B2']\n",
    "\n",
    "# This turns the whole S2 collection into one image, finding the middle value for each pixel\n",
    "image_S2_SR_sep = image_S2_SR_sep.median().select(S2_bands).clip(roi)\n",
    "\n",
    "# This controls how we want the S2 image to be displayed\n",
    "S2_display = {'bands': bands, 'min': 0, 'max': 3000}\n",
    "\n",
    "# This adds the S2_mosaic to the map, using the S2_display visual parameters, and giving it the name \"S2_Image\"\n",
    "Map_S5P.addLayer(image_S2_SR_sep, S2_display, 'Sentinel-S2_SR_sep')\n",
    "\n",
    "# This automatically pans the map to the middle of our area of interest\n",
    "Map_S5P.centerObject(roi)\n"
   ]
  },
  {
   "cell_type": "code",
   "execution_count": 6,
   "id": "f5921eb8",
   "metadata": {},
   "outputs": [],
   "source": [
    "#traing data for July\n",
    "ground_truth= image_LANDSAT8.addBands(image_S5P)\n",
    "\n",
    "# Make the training dataset.\n",
    "points = ground_truth.sample(**{\n",
    "    'region': ground_truth.geometry(),\n",
    "    'scale': 30,\n",
    "    'numPixels': 1000,\n",
    "    'seed': 0,\n",
    "    'geometries': True  # Set this to False to ignore geometries\n",
    "})\n",
    "\n",
    "Map_S5P.addLayer(points, {}, 'training', False)"
   ]
  },
  {
   "cell_type": "code",
   "execution_count": null,
   "id": "c2bc7137",
   "metadata": {},
   "outputs": [],
   "source": []
  },
  {
   "cell_type": "code",
   "execution_count": null,
   "id": "61d1a425",
   "metadata": {},
   "outputs": [],
   "source": [
    "#traing data for September\n",
    "ground_truth_sep= image_LANDSAT8_sep.addBands(image_S5P_sep).addBands(image_S2_SR_sep)\n",
    "\n",
    "# Make the training dataset.\n",
    "points_sep = ground_truth_sep.sample(**{\n",
    "    'region': ground_truth_sep.geometry(),\n",
    "    'scale': 30,\n",
    "    'numPixels': 1000,\n",
    "    'seed': 0,\n",
    "    'geometries': True  # Set this to False to ignore geometries\n",
    "})\n",
    "\n",
    "Map_S5P_sep.addLayer(points_sep, {}, 'training', False)"
   ]
  },
  {
   "cell_type": "code",
   "execution_count": 7,
   "id": "8c8d09ec",
   "metadata": {},
   "outputs": [
    {
     "data": {
      "text/html": [
       "<div>\n",
       "<style scoped>\n",
       "    .dataframe tbody tr th:only-of-type {\n",
       "        vertical-align: middle;\n",
       "    }\n",
       "\n",
       "    .dataframe tbody tr th {\n",
       "        vertical-align: top;\n",
       "    }\n",
       "\n",
       "    .dataframe thead th {\n",
       "        text-align: right;\n",
       "    }\n",
       "</style>\n",
       "<table border=\"1\" class=\"dataframe\">\n",
       "  <thead>\n",
       "    <tr style=\"text-align: right;\">\n",
       "      <th></th>\n",
       "      <th>B1</th>\n",
       "      <th>B10</th>\n",
       "      <th>B11</th>\n",
       "      <th>B2</th>\n",
       "      <th>B3</th>\n",
       "      <th>B4</th>\n",
       "      <th>B5</th>\n",
       "      <th>B6</th>\n",
       "      <th>B7</th>\n",
       "      <th>NO2_column_number_density</th>\n",
       "      <th>sr_aerosol</th>\n",
       "    </tr>\n",
       "  </thead>\n",
       "  <tbody>\n",
       "    <tr>\n",
       "      <th>0</th>\n",
       "      <td>1395.0</td>\n",
       "      <td>3167.0</td>\n",
       "      <td>3113.0</td>\n",
       "      <td>1666.0</td>\n",
       "      <td>2308.0</td>\n",
       "      <td>2840.0</td>\n",
       "      <td>3350.0</td>\n",
       "      <td>3945.0</td>\n",
       "      <td>3605.0</td>\n",
       "      <td>0.000079</td>\n",
       "      <td>96</td>\n",
       "    </tr>\n",
       "    <tr>\n",
       "      <th>1</th>\n",
       "      <td>4002.0</td>\n",
       "      <td>2844.5</td>\n",
       "      <td>2838.0</td>\n",
       "      <td>4097.0</td>\n",
       "      <td>4385.5</td>\n",
       "      <td>4665.0</td>\n",
       "      <td>5402.0</td>\n",
       "      <td>4689.5</td>\n",
       "      <td>3557.5</td>\n",
       "      <td>0.000071</td>\n",
       "      <td>52</td>\n",
       "    </tr>\n",
       "    <tr>\n",
       "      <th>2</th>\n",
       "      <td>890.5</td>\n",
       "      <td>3096.5</td>\n",
       "      <td>3050.0</td>\n",
       "      <td>1063.5</td>\n",
       "      <td>1541.5</td>\n",
       "      <td>2128.5</td>\n",
       "      <td>2917.5</td>\n",
       "      <td>3438.5</td>\n",
       "      <td>2840.0</td>\n",
       "      <td>0.000082</td>\n",
       "      <td>96</td>\n",
       "    </tr>\n",
       "    <tr>\n",
       "      <th>3</th>\n",
       "      <td>2681.5</td>\n",
       "      <td>2916.5</td>\n",
       "      <td>2897.5</td>\n",
       "      <td>2825.0</td>\n",
       "      <td>3037.5</td>\n",
       "      <td>3225.0</td>\n",
       "      <td>3959.0</td>\n",
       "      <td>3884.5</td>\n",
       "      <td>3243.5</td>\n",
       "      <td>0.000075</td>\n",
       "      <td>52</td>\n",
       "    </tr>\n",
       "    <tr>\n",
       "      <th>4</th>\n",
       "      <td>1755.5</td>\n",
       "      <td>2725.0</td>\n",
       "      <td>2714.0</td>\n",
       "      <td>1633.5</td>\n",
       "      <td>2076.0</td>\n",
       "      <td>1917.5</td>\n",
       "      <td>1791.0</td>\n",
       "      <td>2131.0</td>\n",
       "      <td>2029.5</td>\n",
       "      <td>0.000064</td>\n",
       "      <td>38</td>\n",
       "    </tr>\n",
       "    <tr>\n",
       "      <th>...</th>\n",
       "      <td>...</td>\n",
       "      <td>...</td>\n",
       "      <td>...</td>\n",
       "      <td>...</td>\n",
       "      <td>...</td>\n",
       "      <td>...</td>\n",
       "      <td>...</td>\n",
       "      <td>...</td>\n",
       "      <td>...</td>\n",
       "      <td>...</td>\n",
       "      <td>...</td>\n",
       "    </tr>\n",
       "    <tr>\n",
       "      <th>878</th>\n",
       "      <td>427.5</td>\n",
       "      <td>3133.0</td>\n",
       "      <td>3084.5</td>\n",
       "      <td>518.0</td>\n",
       "      <td>751.0</td>\n",
       "      <td>864.0</td>\n",
       "      <td>2215.0</td>\n",
       "      <td>2223.0</td>\n",
       "      <td>1481.5</td>\n",
       "      <td>0.000131</td>\n",
       "      <td>128</td>\n",
       "    </tr>\n",
       "    <tr>\n",
       "      <th>879</th>\n",
       "      <td>1131.0</td>\n",
       "      <td>3172.5</td>\n",
       "      <td>3118.5</td>\n",
       "      <td>1365.0</td>\n",
       "      <td>1913.5</td>\n",
       "      <td>2349.5</td>\n",
       "      <td>2811.5</td>\n",
       "      <td>2926.5</td>\n",
       "      <td>2335.0</td>\n",
       "      <td>0.000079</td>\n",
       "      <td>145</td>\n",
       "    </tr>\n",
       "    <tr>\n",
       "      <th>880</th>\n",
       "      <td>2551.0</td>\n",
       "      <td>2883.0</td>\n",
       "      <td>2836.0</td>\n",
       "      <td>2712.0</td>\n",
       "      <td>2900.0</td>\n",
       "      <td>3169.0</td>\n",
       "      <td>3835.0</td>\n",
       "      <td>4520.0</td>\n",
       "      <td>3673.0</td>\n",
       "      <td>0.000072</td>\n",
       "      <td>8</td>\n",
       "    </tr>\n",
       "    <tr>\n",
       "      <th>881</th>\n",
       "      <td>1050.0</td>\n",
       "      <td>3027.0</td>\n",
       "      <td>2994.0</td>\n",
       "      <td>1320.0</td>\n",
       "      <td>1774.0</td>\n",
       "      <td>1977.0</td>\n",
       "      <td>2661.0</td>\n",
       "      <td>2915.0</td>\n",
       "      <td>2375.0</td>\n",
       "      <td>0.000073</td>\n",
       "      <td>96</td>\n",
       "    </tr>\n",
       "    <tr>\n",
       "      <th>882</th>\n",
       "      <td>6712.5</td>\n",
       "      <td>2755.0</td>\n",
       "      <td>2746.0</td>\n",
       "      <td>6764.5</td>\n",
       "      <td>6828.0</td>\n",
       "      <td>6959.0</td>\n",
       "      <td>7164.5</td>\n",
       "      <td>5540.0</td>\n",
       "      <td>4313.0</td>\n",
       "      <td>0.000065</td>\n",
       "      <td>8</td>\n",
       "    </tr>\n",
       "  </tbody>\n",
       "</table>\n",
       "<p>883 rows × 11 columns</p>\n",
       "</div>"
      ],
      "text/plain": [
       "         B1     B10     B11      B2      B3      B4      B5      B6      B7  \\\n",
       "0    1395.0  3167.0  3113.0  1666.0  2308.0  2840.0  3350.0  3945.0  3605.0   \n",
       "1    4002.0  2844.5  2838.0  4097.0  4385.5  4665.0  5402.0  4689.5  3557.5   \n",
       "2     890.5  3096.5  3050.0  1063.5  1541.5  2128.5  2917.5  3438.5  2840.0   \n",
       "3    2681.5  2916.5  2897.5  2825.0  3037.5  3225.0  3959.0  3884.5  3243.5   \n",
       "4    1755.5  2725.0  2714.0  1633.5  2076.0  1917.5  1791.0  2131.0  2029.5   \n",
       "..      ...     ...     ...     ...     ...     ...     ...     ...     ...   \n",
       "878   427.5  3133.0  3084.5   518.0   751.0   864.0  2215.0  2223.0  1481.5   \n",
       "879  1131.0  3172.5  3118.5  1365.0  1913.5  2349.5  2811.5  2926.5  2335.0   \n",
       "880  2551.0  2883.0  2836.0  2712.0  2900.0  3169.0  3835.0  4520.0  3673.0   \n",
       "881  1050.0  3027.0  2994.0  1320.0  1774.0  1977.0  2661.0  2915.0  2375.0   \n",
       "882  6712.5  2755.0  2746.0  6764.5  6828.0  6959.0  7164.5  5540.0  4313.0   \n",
       "\n",
       "     NO2_column_number_density  sr_aerosol  \n",
       "0                     0.000079          96  \n",
       "1                     0.000071          52  \n",
       "2                     0.000082          96  \n",
       "3                     0.000075          52  \n",
       "4                     0.000064          38  \n",
       "..                         ...         ...  \n",
       "878                   0.000131         128  \n",
       "879                   0.000079         145  \n",
       "880                   0.000072           8  \n",
       "881                   0.000073          96  \n",
       "882                   0.000065           8  \n",
       "\n",
       "[883 rows x 11 columns]"
      ]
     },
     "execution_count": 7,
     "metadata": {},
     "output_type": "execute_result"
    }
   ],
   "source": [
    "df = geemap.ee_to_pandas(points)\n",
    "df"
   ]
  },
  {
   "cell_type": "code",
   "execution_count": null,
   "id": "7a10dc90",
   "metadata": {},
   "outputs": [],
   "source": [
    "#df_sep.to_csv ('Combined_S2_LandSat8_S5_Los_Angeles_872_September.csv', index = False, header=True)"
   ]
  },
  {
   "cell_type": "code",
   "execution_count": null,
   "id": "52a9eafc",
   "metadata": {},
   "outputs": [],
   "source": [
    "df_sep = geemap.ee_to_pandas(points_sep)\n",
    "df_sep"
   ]
  },
  {
   "cell_type": "code",
   "execution_count": null,
   "id": "ceb2a32c",
   "metadata": {},
   "outputs": [],
   "source": [
    "import pandas as pd\n",
    "import seaborn as sn\n",
    "import matplotlib.pyplot as plt\n",
    "\n",
    "corrMatrix = df.corr()\n",
    "sn.heatmap(corrMatrix, annot=True)\n",
    "plt.show()"
   ]
  },
  {
   "cell_type": "code",
   "execution_count": null,
   "id": "a352f40b",
   "metadata": {
    "scrolled": true
   },
   "outputs": [],
   "source": [
    "df.corr()['NO2_column_number_density'].sort_values().plot(kind='bar')"
   ]
  },
  {
   "cell_type": "markdown",
   "id": "6fff7edc",
   "metadata": {},
   "source": [
    "It looks like B1, B2, B3, B4, B10, B11, and sr-aerosol strongly correlate with the NO2 values. It will be good to see how do they perform in a fitted model."
   ]
  },
  {
   "cell_type": "code",
   "execution_count": null,
   "id": "b62117b6",
   "metadata": {},
   "outputs": [],
   "source": [
    "dtale.show(df)"
   ]
  },
  {
   "cell_type": "code",
   "execution_count": null,
   "id": "0e0e1a09",
   "metadata": {},
   "outputs": [],
   "source": [
    "df.isnull().sum()"
   ]
  },
  {
   "cell_type": "code",
   "execution_count": null,
   "id": "0d64e4ce",
   "metadata": {},
   "outputs": [],
   "source": [
    "X=df.drop('NO2_column_number_density',axis=1).values\n",
    "y=df['NO2_column_number_density'].values\n",
    "\n",
    "scaler=MinMaxScaler()\n",
    "X=scaler.fit_transform(X)\n",
    "y=scaler.fit_transform(y.reshape(-1, 1))\n",
    "\n",
    "X_train, X_test, y_train, y_test = train_test_split(X, y, test_size=0.30, random_state=42)"
   ]
  },
  {
   "cell_type": "code",
   "execution_count": null,
   "id": "2a61df40",
   "metadata": {},
   "outputs": [],
   "source": [
    "X_sep=df_sep.drop('NO2_column_number_density',axis=1).values\n",
    "y_sep=df_sep['NO2_column_number_density'].values\n",
    "\n",
    "\n",
    "scaler=MinMaxScaler()\n",
    "X_sep=scaler.fit_transform(X_sep)\n",
    "y_sep=scaler.fit_transform(y_sep.reshape(-1, 1))\n",
    "\n",
    "X_train_sep, X_test_sep, y_train_sep, y_test_sep = train_test_split(X_sep, y_sep, test_size=0.30, random_state=42)\n"
   ]
  },
  {
   "cell_type": "code",
   "execution_count": null,
   "id": "d6ec2ec4",
   "metadata": {
    "scrolled": true
   },
   "outputs": [],
   "source": [
    "# cv = RepeatedKFold(n_splits=5, n_repeats=5, random_state=42)\n",
    "# model = TPOTRegressor(generations=4, population_size=50, scoring='neg_mean_absolute_error', cv=cv, verbosity=2, random_state=42, n_jobs=-1)\n",
    "# model.fit(X_train, y_train)\n",
    "\n",
    "# print('Training Accuracy : %.3f'% model.score(X_train,y_train))\n",
    "\n",
    "# print('Test Accuracy : %.3f'%model.score(X_test,y_test))"
   ]
  },
  {
   "cell_type": "code",
   "execution_count": null,
   "id": "135c4941",
   "metadata": {},
   "outputs": [],
   "source": [
    "#model.export('Combined_S2_LandSat8_S5_Los_Angeles_TPOT_tpot_best_model.py')"
   ]
  },
  {
   "cell_type": "code",
   "execution_count": null,
   "id": "eacb2f6d",
   "metadata": {},
   "outputs": [],
   "source": [
    "#from sklearn.ensemble import ExtraTreesRegressor\n",
    "model = RandomForestRegressor(bootstrap=False, max_features=0.35000000000000003, min_samples_leaf=7, min_samples_split=20, n_estimators=100)\n",
    "model.fit(X_train, y_train)\n",
    "print('Training Accuracy : %.3f'% model.score(X_train,y_train))\n",
    "\n",
    "print('Test Accuracy : %.3f'%model.score(X_test,y_test))"
   ]
  },
  {
   "cell_type": "code",
   "execution_count": null,
   "id": "b1c3b8e2",
   "metadata": {},
   "outputs": [],
   "source": [
    "feature_importance = model.feature_importances_\n",
    "sorted_idx = np.argsort(feature_importance)\n",
    "pos = np.arange(sorted_idx.shape[0]) + .5\n",
    "fig = plt.figure(figsize=(12, 6))\n",
    "plt.subplot(1, 2, 1)\n",
    "plt.barh(pos, feature_importance[sorted_idx], align='center')\n",
    "plt.title('Feature Importance')\n",
    "plt.yticks(pos, np.array(df.columns)[sorted_idx])\n",
    "result = permutation_importance(model, X_test, y_test, n_repeats=10,\n",
    "                                random_state=42, n_jobs=2)\n",
    "sorted_idx = result.importances_mean.argsort()\n",
    "plt.subplot(1, 2, 2)\n",
    "plt.boxplot(result.importances[sorted_idx].T,\n",
    "            vert=False, labels=np.array(df.columns)[sorted_idx])\n",
    "plt.title(\"Permutation Importance (test set)\")\n",
    "fig.tight_layout()\n",
    "plt.show()"
   ]
  },
  {
   "cell_type": "code",
   "execution_count": null,
   "id": "35ba6d35",
   "metadata": {},
   "outputs": [],
   "source": []
  },
  {
   "cell_type": "code",
   "execution_count": null,
   "id": "bd9a4858",
   "metadata": {},
   "outputs": [],
   "source": [
    "prediction_sep=model.predict(X_test_sep)\n",
    "MSE=mean_squared_error(y_test_sep,prediction_sep)\n",
    "print(\"Mean Squared Error =\",MSE)\n",
    "\n",
    "MAPE=mean_absolute_percentage_error(y_test_sep,prediction_sep)\n",
    "print(\"Mean absolute percentage error =\",MAPE)\n",
    "\n",
    "\n",
    "fig = plt.figure(figsize=(14,6))\n",
    "plt.plot(y_test_sep,marker=\"o\", ms = 8, mfc = 'b', linestyle='None',label='Actual')\n",
    "plt.plot(prediction_sep,marker=\"v\", ms = 9,linestyle='None', mfc = 'g',label='Prediction')\n",
    "plt.title('Actual vs Predicted NO2_column_number_density on Unseen Data Sep (RandomForest)')\n",
    "plt.legend(loc='best',prop={'size':14})\n",
    "plt.xlabel('Pixel')\n",
    "plt.ylabel('NO2_column_number_density')"
   ]
  },
  {
   "cell_type": "code",
   "execution_count": null,
   "id": "5431d3ba",
   "metadata": {},
   "outputs": [],
   "source": [
    "NO2_column_number_density=df['NO2_column_number_density']"
   ]
  },
  {
   "cell_type": "code",
   "execution_count": null,
   "id": "c5ed1850",
   "metadata": {},
   "outputs": [],
   "source": [
    "X_all=scaler.transform(X)\n",
    "all_prediction=model.predict(X_all)"
   ]
  },
  {
   "cell_type": "code",
   "execution_count": null,
   "id": "c2444b7c",
   "metadata": {
    "scrolled": true
   },
   "outputs": [],
   "source": [
    "fig = plt.figure(figsize=(14,6))\n",
    "plt.plot(y,marker=\"o\", ms = 8, mfc = 'b', linestyle='None',label='Actual')\n",
    "plt.plot(all_prediction,marker=\"v\", ms = 9,linestyle='None', mfc = 'g',label='Prediction')\n",
    "plt.title('Actual vs Predicted NO2_column_number_density on Whole Data (RandomForest)')\n",
    "plt.legend(loc='best',prop={'size':14})\n",
    "plt.xlabel('Pixel')\n",
    "plt.ylabel('NO2_column_number_density')"
   ]
  },
  {
   "cell_type": "markdown",
   "id": "2e157234",
   "metadata": {},
   "source": [
    "## Additional Methods follows below"
   ]
  },
  {
   "cell_type": "code",
   "execution_count": null,
   "id": "f7a4e393",
   "metadata": {},
   "outputs": [],
   "source": [
    "model_params = {\n",
    "    'svm': {\n",
    "        'model': SVR(gamma='auto'),\n",
    "        'params' : {\n",
    "            'C': [10,20,50],\n",
    "            'kernel': ['rbf','linear']\n",
    "        }  \n",
    "    },\n",
    "    'random_forest': {\n",
    "        'model': RandomForestRegressor(),\n",
    "        'params' : {\n",
    "            'n_estimators': [5,10,15]\n",
    "        }\n",
    "    },\n",
    "}"
   ]
  },
  {
   "cell_type": "code",
   "execution_count": null,
   "id": "20427f63",
   "metadata": {},
   "outputs": [],
   "source": [
    "scores = []\n",
    "\n",
    "for model_name, mp in model_params.items():\n",
    "    clf =  GridSearchCV(mp['model'], mp['params'], cv=5, return_train_score=False)\n",
    "    clf.fit(X, y)\n",
    "    scores.append({\n",
    "        'model': model_name,\n",
    "        'best_score': clf.best_score_,\n",
    "        'best_params': clf.best_params_\n",
    "    })\n",
    "    \n",
    "df_score = pd.DataFrame(scores,columns=['model','best_score','best_params'])\n",
    "df_score"
   ]
  },
  {
   "cell_type": "code",
   "execution_count": null,
   "id": "840488c7",
   "metadata": {},
   "outputs": [],
   "source": [
    "#Rainforest Regression\n",
    "model = AdaBoostRegressor(DecisionTreeRegressor(max_depth=4),\n",
    "                          n_estimators=15)\n",
    "model.fit(X_train,y_train)"
   ]
  },
  {
   "cell_type": "code",
   "execution_count": null,
   "id": "f10cf6f6",
   "metadata": {},
   "outputs": [],
   "source": [
    "print('Training Accuracy : %.3f'% model.score(X_train,y_train))\n",
    "\n",
    "print('Test Accuracy : %.3f'%model.score(X_test,y_test))"
   ]
  },
  {
   "cell_type": "code",
   "execution_count": null,
   "id": "bfd9c83a",
   "metadata": {},
   "outputs": [],
   "source": [
    "prediction=model.predict(X_test)\n",
    "MSE=mean_squared_error(y_test,prediction)\n",
    "print(\"Mean Squared Error =\",MSE)\n",
    "\n",
    "MAPE=mean_absolute_percentage_error(y_test,prediction)\n",
    "print(\"Mean absolute percentage error =\",MAPE)\n",
    "\n",
    "\n",
    "fig = plt.figure(figsize=(14,6))\n",
    "plt.plot(y_test,marker=\"o\", ms = 8, mfc = 'b', linestyle='None',label='Actual')\n",
    "plt.plot(prediction,marker=\"v\", ms = 9,linestyle='None', mfc = 'g',label='Prediction')\n",
    "plt.title('Actual vs Predicted NO2_column_number_density on Test Data (Random Forest)')\n",
    "plt.legend(loc='best',prop={'size':14})\n",
    "plt.xlabel('Pixel')\n",
    "plt.ylabel('NO2_column_number_density')"
   ]
  },
  {
   "cell_type": "code",
   "execution_count": null,
   "id": "d18c77eb",
   "metadata": {},
   "outputs": [],
   "source": [
    "prediction_sep=model.predict(X_test_sep)\n",
    "MSE=mean_squared_error(y_test_sep,prediction_sep)\n",
    "print(\"Mean Squared Error =\",MSE)\n",
    "\n",
    "MAPE=mean_absolute_percentage_error(y_test_sep,prediction_sep)\n",
    "print(\"Mean absolute percentage error =\",MAPE)\n",
    "\n",
    "\n",
    "fig = plt.figure(figsize=(14,6))\n",
    "plt.plot(y_test_sep,marker=\"o\", ms = 8, mfc = 'b', linestyle='None',label='Actual')\n",
    "plt.plot(prediction_sep,marker=\"v\", ms = 9,linestyle='None', mfc = 'g',label='Prediction')\n",
    "plt.title('Actual vs Predicted NO2_column_number_density on Unseen Data Sep (Random Forest)')\n",
    "plt.legend(loc='best',prop={'size':14})\n",
    "plt.xlabel('Pixel')\n",
    "plt.ylabel('NO2_column_number_density')"
   ]
  },
  {
   "cell_type": "code",
   "execution_count": null,
   "id": "823d7a0d",
   "metadata": {},
   "outputs": [],
   "source": [
    "NO2_column_number_density=df['NO2_column_number_density']"
   ]
  },
  {
   "cell_type": "code",
   "execution_count": null,
   "id": "b878029b",
   "metadata": {},
   "outputs": [],
   "source": [
    "X_all=scaler.transform(X)\n",
    "all_prediction=model.predict(X_all)"
   ]
  },
  {
   "cell_type": "code",
   "execution_count": null,
   "id": "cf957f98",
   "metadata": {},
   "outputs": [],
   "source": [
    "fig = plt.figure(figsize=(14,6))\n",
    "plt.plot(y,marker=\"o\", ms = 8, mfc = 'b', linestyle='None',label='Actual')\n",
    "plt.plot(all_prediction,marker=\"v\", ms = 9,linestyle='None', mfc = 'g',label='Prediction')\n",
    "plt.title('Actual vs Predicted NO2_column_number_density on Whole Data (Random Forest)')\n",
    "plt.legend(loc='best',prop={'size':14})\n",
    "plt.xlabel('Pixel')\n",
    "plt.ylabel('NO2_column_number_density')"
   ]
  },
  {
   "cell_type": "code",
   "execution_count": null,
   "id": "b7104458",
   "metadata": {},
   "outputs": [],
   "source": [
    "#X.rename(index={0: \"B1\", 1: \"B10\", 2: \"B11\", 3: \"B2\",4: \"B3\", 5: \"B4\", 6: \"B5\", 7: \"B6\", 8: \"B7\"})"
   ]
  },
  {
   "cell_type": "code",
   "execution_count": null,
   "id": "9bda6936",
   "metadata": {},
   "outputs": [],
   "source": []
  },
  {
   "cell_type": "code",
   "execution_count": null,
   "id": "330ddf2e",
   "metadata": {},
   "outputs": [],
   "source": [
    "display = plot_partial_dependence(\n",
    "       model, X, features=[0,1,2,3,4,5,6,7,8,9])\n",
    "\n",
    "display.figure_.suptitle('Partial dependence of No2, with Random Forest')\n",
    "display.figure_.subplots_adjust(hspace=0.5)"
   ]
  },
  {
   "cell_type": "code",
   "execution_count": null,
   "id": "518df7e6",
   "metadata": {},
   "outputs": [],
   "source": [
    "logit_model=sm.OLS(y_train,X_train)\n",
    "result=logit_model.fit()\n",
    "print(result.summary())"
   ]
  },
  {
   "cell_type": "markdown",
   "id": "d21ac5ea",
   "metadata": {},
   "source": [
    "# Linear Regression for Multioutput Regression"
   ]
  },
  {
   "cell_type": "code",
   "execution_count": null,
   "id": "8a1f2929",
   "metadata": {
    "scrolled": true
   },
   "outputs": [],
   "source": [
    "model = LinearRegression()\n",
    "# fit model\n",
    "model.fit(X_train,y_train)\n",
    "# make a prediction\n",
    "prediction=model.predict(X_test)\n",
    "# summarize prediction\n",
    "#print(prediction[0,0])\n",
    "\n",
    "##\n",
    "MSE=mean_squared_error(y_test,prediction)\n",
    "print(\"Mean Squared Error =\",MSE)\n",
    "MAPE=mean_absolute_percentage_error(y_test,prediction)\n",
    "print(\"Mean absolute percentage error =\",MAPE)\n",
    "\n",
    "\n",
    "fig = plt.figure(figsize=(14,6))\n",
    "plt.plot(y_test,marker=\"o\", ms = 8, mfc = 'b', linestyle='None',label='Actual')\n",
    "plt.plot(prediction,marker=\"v\", ms = 9,linestyle='None', mfc = 'g',label='Prediction')\n",
    "plt.title('Actual vs Predicted NO2_column_number_density on Test Data (Linear Regression)')\n",
    "plt.legend(loc='best',prop={'size':14})\n",
    "plt.xlabel('Pixel')\n",
    "plt.ylabel('NO2_column_number_density')\n",
    "\n",
    "fig = plt.figure(figsize=(14,6))\n",
    "plt.plot(y_test,marker=\"o\", ms = 8, mfc = 'b', linestyle='None',label='Actual')\n",
    "plt.plot(prediction,marker=\"v\", ms = 9,linestyle='None', mfc = 'g',label='Prediction')\n",
    "plt.title('Actual vs Predicted tropospheric_NO2_column_number_density on Test Data (Linear Regression)')\n",
    "plt.legend(loc='best',prop={'size':14})\n",
    "plt.xlabel('Pixel')\n",
    "plt.ylabel('Ntropospheric_NO2_column_number_density')\n",
    "\n",
    "logit_model=sm.OLS(y_train,X_train)\n",
    "result=logit_model.fit()\n",
    "print(result.summary())"
   ]
  },
  {
   "cell_type": "code",
   "execution_count": null,
   "id": "62fc2ee0",
   "metadata": {},
   "outputs": [],
   "source": [
    "print('Training Accuracy : %.3f'% model.score(X_train,y_train))\n",
    "\n",
    "print('Test Accuracy : %.3f'%model.score(X_test,y_test))"
   ]
  },
  {
   "cell_type": "code",
   "execution_count": null,
   "id": "15d8d101",
   "metadata": {},
   "outputs": [],
   "source": []
  },
  {
   "cell_type": "markdown",
   "id": "21a31e8d",
   "metadata": {},
   "source": [
    "# k-Nearest Neighbors for Multioutput Regression"
   ]
  },
  {
   "cell_type": "code",
   "execution_count": null,
   "id": "642df296",
   "metadata": {},
   "outputs": [],
   "source": [
    "# define model\n",
    "model = KNeighborsRegressor()\n",
    "# fit model\n",
    "model.fit(X_train,y_train)\n",
    "# make a prediction\n",
    "prediction=model.predict(X_test)\n",
    "# summarize prediction\n",
    "#print(prediction[0,0])\n",
    "\n",
    "MSE=mean_squared_error(y_test,prediction)\n",
    "print(\"Mean Squared Error =\",MSE)\n",
    "MAPE=mean_absolute_percentage_error(y_test,prediction)\n",
    "print(\"Mean absolute percentage error =\",MAPE)\n",
    "\n",
    "fig = plt.figure(figsize=(14,6))\n",
    "plt.plot(y_test,marker=\"o\", ms = 8, mfc = 'b', linestyle='None',label='Actual')\n",
    "plt.plot(prediction,marker=\"v\", ms = 9,linestyle='None', mfc = 'g',label='Prediction')\n",
    "plt.title('Actual vs Predicted NO2_column_number_density on Test Data (k-Nearest Neighbors)')\n",
    "plt.legend(loc='best',prop={'size':14})\n",
    "plt.xlabel('Pixel')\n",
    "plt.ylabel('NO2_column_number_density')\n",
    "\n",
    "logit_model=sm.OLS(y_train ,X_train)\n",
    "result=logit_model.fit()\n",
    "print(result.summary())"
   ]
  },
  {
   "cell_type": "code",
   "execution_count": null,
   "id": "940ae404",
   "metadata": {},
   "outputs": [],
   "source": [
    "print('Training Accuracy : %.3f'% model.score(X_train,y_train))\n",
    "\n",
    "print('Test Accuracy : %.3f'%model.score(X_test,y_test))"
   ]
  },
  {
   "cell_type": "markdown",
   "id": "ec609763",
   "metadata": {},
   "source": [
    "# Decision Tree for Multioutput Regression"
   ]
  },
  {
   "cell_type": "code",
   "execution_count": null,
   "id": "d8dffa23",
   "metadata": {},
   "outputs": [],
   "source": [
    "# define model\n",
    "model = DecisionTreeRegressor(max_depth=8,\n",
    "                           min_samples_split=5,\n",
    "                           max_leaf_nodes=20)\n",
    "# fit model\n",
    "model.fit(X_train,y_train)\n",
    "# make a prediction\n",
    "prediction=model.predict(X_test)\n",
    "# summarize prediction\n",
    "#print(prediction)\n",
    "\n",
    "MSE=mean_squared_error(y_test,prediction)\n",
    "print(\"Mean Squared Error =\",MSE)\n",
    "MAPE=mean_absolute_percentage_error(y_test,prediction)\n",
    "print(\"Mean absolute percentage error =\",MAPE)\n",
    "\n",
    "fig = plt.figure(figsize=(14,6))\n",
    "plt.plot(y_test,marker=\"o\", ms = 8, mfc = 'b', linestyle='None',label='Actual')\n",
    "plt.plot(prediction,marker=\"v\", ms = 9,linestyle='None', mfc = 'g',label='Prediction')\n",
    "plt.title('Actual vs Predicted NO2_column_number_density on Test Data (Decision Tree)')\n",
    "plt.legend(loc='best',prop={'size':14})\n",
    "plt.xlabel('Pixel')\n",
    "plt.ylabel('NO2_column_number_density')\n",
    "\n",
    "logit_model=sm.OLS(y_train ,X_train)\n",
    "result=logit_model.fit()\n",
    "print(result.summary())"
   ]
  },
  {
   "cell_type": "code",
   "execution_count": null,
   "id": "9dae202e",
   "metadata": {},
   "outputs": [],
   "source": [
    "print('Training Accuracy : %.3f'% model.score(X_train,y_train))\n",
    "\n",
    "print('Test Accuracy : %.3f'%model.score(X_test,y_test))"
   ]
  },
  {
   "cell_type": "code",
   "execution_count": null,
   "id": "401a61e2",
   "metadata": {},
   "outputs": [],
   "source": [
    "X=df.drop('NO2_column_number_density',axis=1).values\n",
    "y=df['NO2_column_number_density'].values\n",
    "\n",
    "scaler=MinMaxScaler()\n",
    "X=scaler.fit_transform(X)\n",
    "y=scaler.fit_transform(y.reshape(-1, 1))\n",
    "\n",
    "X_train, X_test, y_train, y_test = train_test_split(X, y, test_size=0.30, random_state=42)"
   ]
  },
  {
   "cell_type": "code",
   "execution_count": null,
   "id": "941e700c",
   "metadata": {},
   "outputs": [],
   "source": [
    "from sklearn.ensemble import GradientBoostingRegressor\n",
    "model = GradientBoostingRegressor(alpha=0.85, learning_rate=0.5, loss='lad', max_depth=15, max_features=0.9500000000000001,\n",
    "                                min_samples_leaf=12, min_samples_split=7, n_estimators=100, subsample=0.6500000000000001)\n",
    "# fit model\n",
    "model.fit(X_train,y_train)\n",
    "# make a prediction\n",
    "prediction=model.predict(X_test)\n",
    "# summarize prediction\n",
    "#print(prediction[0,0])\n",
    "\n",
    "MSE=mean_squared_error(y_test,prediction)\n",
    "print(\"Mean Squared Error =\",MSE)\n",
    "MAPE=mean_absolute_percentage_error(y_test,prediction)\n",
    "print(\"Mean absolute percentage error =\",MAPE)\n",
    "\n",
    "fig = plt.figure(figsize=(14,6))\n",
    "plt.plot(y_test,marker=\"o\", ms = 8, mfc = 'b', linestyle='None',label='Actual')\n",
    "plt.plot(prediction,marker=\"v\", ms = 9,linestyle='None', mfc = 'g',label='Prediction')\n",
    "plt.title('Actual vs Predicted NO2_column_number_density on Test Data (Decision Tree)')\n",
    "plt.legend(loc='best',prop={'size':14})\n",
    "plt.xlabel('Pixel')\n",
    "plt.ylabel('NO2_column_number_density')\n",
    "\n",
    "logit_model=sm.OLS(y_train,X_train)\n",
    "result=logit_model.fit()\n",
    "print(result.summary())"
   ]
  },
  {
   "cell_type": "code",
   "execution_count": null,
   "id": "e97e8490",
   "metadata": {},
   "outputs": [],
   "source": [
    "print('Training Accuracy : %.3f'% model.score(X_train,y_train))\n",
    "\n",
    "print('Test Accuracy : %.3f'%model.score(X_test,y_test))"
   ]
  }
 ],
 "metadata": {
  "kernelspec": {
   "display_name": "Python 3",
   "language": "python",
   "name": "python3"
  },
  "language_info": {
   "codemirror_mode": {
    "name": "ipython",
    "version": 3
   },
   "file_extension": ".py",
   "mimetype": "text/x-python",
   "name": "python",
   "nbconvert_exporter": "python",
   "pygments_lexer": "ipython3",
   "version": "3.8.8"
  },
  "latex_envs": {
   "LaTeX_envs_menu_present": true,
   "autoclose": false,
   "autocomplete": true,
   "bibliofile": "biblio.bib",
   "cite_by": "apalike",
   "current_citInitial": 1,
   "eqLabelWithNumbers": true,
   "eqNumInitial": 1,
   "hotkeys": {
    "equation": "Ctrl-E",
    "itemize": "Ctrl-I"
   },
   "labels_anchors": false,
   "latex_user_defs": false,
   "report_style_numbering": false,
   "user_envs_cfg": false
  }
 },
 "nbformat": 4,
 "nbformat_minor": 5
}
