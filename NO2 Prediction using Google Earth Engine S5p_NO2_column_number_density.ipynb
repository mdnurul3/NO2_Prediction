{
 "cells": [
  {
   "cell_type": "code",
   "execution_count": 1,
   "id": "a2418929",
   "metadata": {},
   "outputs": [],
   "source": [
    "import ee\n",
    "import geemap"
   ]
  },
  {
   "cell_type": "code",
   "execution_count": 2,
   "id": "9d2fb9a1",
   "metadata": {},
   "outputs": [
    {
     "data": {
      "application/vnd.jupyter.widget-view+json": {
       "model_id": "401b27bb44b74d2ba2160da74172376b",
       "version_major": 2,
       "version_minor": 0
      },
      "text/plain": [
       "Map(center=[40, -100], controls=(WidgetControl(options=['position'], widget=HBox(children=(ToggleButton(value=…"
      ]
     },
     "metadata": {},
     "output_type": "display_data"
    }
   ],
   "source": [
    "Map_S5P = geemap.Map()\n",
    "Map_S5P"
   ]
  },
  {
   "cell_type": "code",
   "execution_count": 3,
   "id": "c3d76329",
   "metadata": {},
   "outputs": [],
   "source": [
    "point_S5P = ee.Geometry.Rectangle([-122.8003, 37.4831, -122.8036, 37.8288])\n",
    "\n",
    "image_S5P = ee.ImageCollection(\"COPERNICUS/S5P/NRTI/L3_NO2\") \\\n",
    "    .filterBounds(point_S5P) \\\n",
    "    .filterDate('2018-07-11', '2019-06-30') \\\n",
    "    .sort('ALGORITHM_VERSION') \\\n",
    "    .first() \\\n",
    "    .select('NO2_column_number_density')\n",
    "    #.select('NO2_column_number_density','tropospheric_NO2_column_number_density','stratospheric_NO2_column_number_density')\n",
    "\n",
    "vis_params_S5P = {\n",
    "    'min': 0,\n",
    "    'max': 0.0002,\n",
    "    'bands': ['NO2_column_number_density'],\n",
    "    'palette': ['black', 'blue', 'purple', 'cyan', 'green', 'yellow', 'red']\n",
    "}\n",
    "Map_S5P.centerObject(point_S5P, 8)\n",
    "Map_S5P.addLayer(image_S5P, vis_params_S5P, \"Sentinel-5P TROPOMI NO2\")\n"
   ]
  },
  {
   "cell_type": "code",
   "execution_count": 4,
   "id": "15d8c928",
   "metadata": {},
   "outputs": [
    {
     "data": {
      "application/vnd.jupyter.widget-view+json": {
       "model_id": "9f2bd65781224a94b706881867f6e9d9",
       "version_major": 2,
       "version_minor": 0
      },
      "text/plain": [
       "Map(center=[40, -100], controls=(WidgetControl(options=['position'], widget=HBox(children=(ToggleButton(value=…"
      ]
     },
     "metadata": {},
     "output_type": "display_data"
    }
   ],
   "source": [
    "Map_LANDSAT8 = geemap.Map()\n",
    "Map_LANDSAT8"
   ]
  },
  {
   "cell_type": "code",
   "execution_count": 5,
   "id": "eb473209",
   "metadata": {},
   "outputs": [],
   "source": [
    "point_LANDSAT8 = ee.Geometry.Point([-122.4439, 37.7538])\n",
    "\n",
    "image_LANDSAT8 = ee.ImageCollection('LANDSAT/LC08/C01/T1_SR') \\\n",
    "    .filterBounds(point_LANDSAT8) \\\n",
    "    .filterDate('2018-07-01', '2019-06-30') \\\n",
    "    .sort('CLOUD_COVER') \\\n",
    "    .first() \\\n",
    "    .select('B[1-7]')\n",
    "\n",
    "vis_params_L8 = {\n",
    "    'min': 0,\n",
    "    'max': 3000,\n",
    "    'bands': ['B5', 'B4', 'B3']\n",
    "}\n",
    "\n",
    "Map_S5P.centerObject(point_LANDSAT8, 8)\n",
    "Map_S5P.addLayer(image_LANDSAT8, vis_params_L8, \"Landsat-8\")\n"
   ]
  },
  {
   "cell_type": "code",
   "execution_count": 6,
   "id": "f5921eb8",
   "metadata": {},
   "outputs": [],
   "source": [
    "ground_truth= image_LANDSAT8.addBands(image_S5P)"
   ]
  },
  {
   "cell_type": "code",
   "execution_count": 7,
   "id": "9623c573",
   "metadata": {},
   "outputs": [
    {
     "data": {
      "application/vnd.jupyter.widget-view+json": {
       "model_id": "9f2bd65781224a94b706881867f6e9d9",
       "version_major": 2,
       "version_minor": 0
      },
      "text/plain": [
       "Map(center=[40, -100], controls=(WidgetControl(options=['position'], widget=HBox(children=(ToggleButton(value=…"
      ]
     },
     "metadata": {},
     "output_type": "display_data"
    }
   ],
   "source": [
    "#tropimi = ee.Image('USGS/NLCD/NLCD2016').select('landcover').clip(image_S5P.geometry())\n",
    "Map_LANDSAT8.addLayer(image_S5P, {}, 'TROPOMI')\n",
    "Map_LANDSAT8"
   ]
  },
  {
   "cell_type": "code",
   "execution_count": 8,
   "id": "6897890d",
   "metadata": {},
   "outputs": [],
   "source": [
    "# Make the training dataset.\n",
    "points = ground_truth.sample(**{\n",
    "    'region': ground_truth.geometry(),\n",
    "    'scale': 30,\n",
    "    'numPixels': 5000,\n",
    "    'seed': 0,\n",
    "    'geometries': True  # Set this to False to ignore geometries\n",
    "})\n",
    "\n",
    "Map_S5P.addLayer(points, {}, 'training', False)"
   ]
  },
  {
   "cell_type": "code",
   "execution_count": 9,
   "id": "6bbce41c",
   "metadata": {},
   "outputs": [
    {
     "name": "stdout",
     "output_type": "stream",
     "text": [
      "4996\n"
     ]
    }
   ],
   "source": [
    "print(points.size().getInfo())"
   ]
  },
  {
   "cell_type": "code",
   "execution_count": 10,
   "id": "7988c2c5",
   "metadata": {},
   "outputs": [
    {
     "name": "stdout",
     "output_type": "stream",
     "text": [
      "{'type': 'Feature', 'geometry': {'type': 'Point', 'coordinates': [-121.68730640159825, 37.86722226931812]}, 'id': '0', 'properties': {'B1': 652, 'B2': 889, 'B3': 1427, 'B4': 2152, 'B5': 3359, 'B6': 3883, 'B7': 2410, 'NO2_column_number_density': 0.00011661837197607383}}\n"
     ]
    }
   ],
   "source": [
    "print(points.first().getInfo())"
   ]
  },
  {
   "cell_type": "code",
   "execution_count": 11,
   "id": "f62e1a11",
   "metadata": {},
   "outputs": [],
   "source": [
    "# Use these bands for prediction.\n",
    "bands = ['B1', 'B2', 'B3', 'B4', 'B5', 'B6', 'B7']\n",
    "\n",
    "\n",
    "# This property of the table stores the land cover labels.\n",
    "label = 'NO2_column_number_density'\n",
    "\n",
    "# Overlay the points on the imagery to get training.\n",
    "training = ground_truth.select(bands).sampleRegions(**{\n",
    "  'collection': points,\n",
    "  'properties': [label],\n",
    "  'scale': 30\n",
    "})\n",
    "\n",
    "# Train a CART classifier with default parameters.\n",
    "trained = ee.Classifier.smileRandomForest(10).setOutputMode('REGRESSION').train(training, label, bands)"
   ]
  },
  {
   "cell_type": "code",
   "execution_count": 12,
   "id": "82c5609d",
   "metadata": {},
   "outputs": [
    {
     "name": "stdout",
     "output_type": "stream",
     "text": [
      "{'type': 'Feature', 'geometry': None, 'id': '0_0', 'properties': {'B1': 652, 'B2': 889, 'B3': 1427, 'B4': 2152, 'B5': 3359, 'B6': 3883, 'B7': 2410, 'NO2_column_number_density': 0.00011661837197607383}}\n"
     ]
    }
   ],
   "source": [
    "print(training.first().getInfo())"
   ]
  },
  {
   "cell_type": "code",
   "execution_count": 13,
   "id": "ccf641a3",
   "metadata": {},
   "outputs": [],
   "source": [
    "vis_params_result = {\n",
    "    'min': 0,\n",
    "    'max': 0.0002,\n",
    "    'bands': ['classification'],\n",
    "    'palette': ['black', 'blue', 'purple', 'cyan', 'green', 'yellow', 'red']}"
   ]
  },
  {
   "cell_type": "code",
   "execution_count": 14,
   "id": "3630d8d4",
   "metadata": {
    "scrolled": true
   },
   "outputs": [
    {
     "data": {
      "application/vnd.jupyter.widget-view+json": {
       "model_id": "9f2bd65781224a94b706881867f6e9d9",
       "version_major": 2,
       "version_minor": 0
      },
      "text/plain": [
       "Map(center=[40, -100], controls=(WidgetControl(options=['position'], widget=HBox(children=(ToggleButton(value=…"
      ]
     },
     "metadata": {},
     "output_type": "display_data"
    }
   ],
   "source": [
    "# Classify the image with the same bands used for training.\n",
    "result = ground_truth.select(bands).classify(trained)\n",
    "\n",
    "# # Display the clusters with random colors.\n",
    "Map_LANDSAT8.addLayer(result.randomVisualizer(),vis_params_result, 'classfied')\n",
    "Map_LANDSAT8"
   ]
  },
  {
   "cell_type": "code",
   "execution_count": 15,
   "id": "01e33638",
   "metadata": {},
   "outputs": [
    {
     "name": "stdout",
     "output_type": "stream",
     "text": [
      "{'type': 'Image', 'bands': [{'id': 'classification', 'data_type': {'type': 'PixelType', 'precision': 'float'}, 'dimensions': [7671, 7811], 'crs': 'EPSG:32610', 'crs_transform': [30, 0, 462885, 0, -30, 4264515]}], 'properties': {'system:footprint': {'type': 'LinearRing', 'coordinates': [[-121.05673624299249, 37.42117167346286], [-121.0419495518993, 37.46824264602141], [-120.9915192018566, 37.62853330576134], [-120.95614963963575, 37.740664939858924], [-120.89304639350827, 37.93996325648889], [-120.83570953511274, 38.120623813239646], [-120.83234044125189, 38.13156056012753], [-120.83229162963826, 38.133209000349275], [-122.58732094879598, 38.46611548597422], [-122.90566430509564, 38.5233791935817], [-122.90782331761598, 38.51662360524393], [-122.91058851970752, 38.50743070907603], [-123.39555735783479, 36.80459111753288], [-123.39554957012268, 36.80307888243811], [-122.00237455054017, 36.5398005962312], [-121.40924608814669, 36.42221797177954], [-121.36923060278302, 36.41418371264349], [-121.36801742194247, 36.41784178247282], [-121.3587778667369, 36.44796892189649], [-121.08675305339251, 37.32552967841621], [-121.05673624299249, 37.42117167346286]]}}}\n"
     ]
    }
   ],
   "source": [
    "print(result.getInfo())"
   ]
  },
  {
   "cell_type": "code",
   "execution_count": 16,
   "id": "370d3c84",
   "metadata": {},
   "outputs": [],
   "source": [
    "vis_params_diff = {\n",
    "    'min': 0,\n",
    "    'max': 0.0002,\n",
    "    'bands': ['NO2_column_number_density'],\n",
    "    'palette': ['black', 'blue', 'purple', 'cyan', 'green', 'yellow', 'red']}"
   ]
  },
  {
   "cell_type": "code",
   "execution_count": 17,
   "id": "99a614f5",
   "metadata": {},
   "outputs": [],
   "source": [
    "#// Load a 5-year Landsat 7 composite 2008-2012.\n",
    "#landsat2008 = ee.Image('LANDSAT/LE7_TOA_5YEAR/2008_2012');\n",
    "\n",
    "#// Compute multi-band difference between the 2008-2012 composite and the\n",
    "#// previously loaded 1999-2003 composite.\n",
    "diff = image_S5P.subtract(result);\n",
    "#Map.addLayer(diff,\n",
    "            # {bands: ['', 'B3', 'B2'], min: -32, max: 32}, 'difference');\n",
    "\n",
    "#// Compute the squared difference in each band.\n",
    "squaredDifference = diff.pow(2);\n",
    "#Map.addLayer(squaredDifference,\n",
    "             #{bands: ['B4', 'B3', 'B2'], max: 1000}, 'squared diff.');"
   ]
  },
  {
   "cell_type": "code",
   "execution_count": 18,
   "id": "326fa0f4",
   "metadata": {},
   "outputs": [
    {
     "name": "stdout",
     "output_type": "stream",
     "text": [
      "{'type': 'Image', 'bands': [{'id': 'NO2_column_number_density', 'data_type': {'type': 'PixelType', 'precision': 'double'}, 'dimensions': [265, 214], 'origin': [1115, 1073], 'crs': 'EPSG:4326', 'crs_transform': [0.01, 0, -134.58470153808594, 0, 0.01, 25.663541793823242]}]}\n"
     ]
    }
   ],
   "source": [
    "print(diff.getInfo())"
   ]
  },
  {
   "cell_type": "code",
   "execution_count": 19,
   "id": "ec90fb2d",
   "metadata": {},
   "outputs": [
    {
     "data": {
      "application/vnd.jupyter.widget-view+json": {
       "model_id": "9f2bd65781224a94b706881867f6e9d9",
       "version_major": 2,
       "version_minor": 0
      },
      "text/plain": [
       "Map(center=[40, -100], controls=(WidgetControl(options=['position'], widget=HBox(children=(ToggleButton(value=…"
      ]
     },
     "metadata": {},
     "output_type": "display_data"
    }
   ],
   "source": [
    "Map_LANDSAT8.addLayer(diff.randomVisualizer(),vis_params_diff, 'Squared Diff')\n",
    "Map_LANDSAT8"
   ]
  },
  {
   "cell_type": "code",
   "execution_count": 20,
   "id": "d3df13fc",
   "metadata": {},
   "outputs": [
    {
     "data": {
      "application/vnd.jupyter.widget-view+json": {
       "model_id": "1ef9769370f44a789a7fd58e030a5454",
       "version_major": 2,
       "version_minor": 0
      },
      "text/plain": [
       "Map(center=[40, -100], controls=(WidgetControl(options=['position'], widget=HBox(children=(ToggleButton(value=…"
      ]
     },
     "metadata": {},
     "output_type": "display_data"
    }
   ],
   "source": [
    "Map_S5P_july = geemap.Map()\n",
    "Map_S5P_july"
   ]
  },
  {
   "cell_type": "code",
   "execution_count": 21,
   "id": "b2701f21",
   "metadata": {},
   "outputs": [
    {
     "data": {
      "application/vnd.jupyter.widget-view+json": {
       "model_id": "1ef9769370f44a789a7fd58e030a5454",
       "version_major": 2,
       "version_minor": 0
      },
      "text/plain": [
       "Map(center=[40, -100], controls=(WidgetControl(options=['position'], widget=HBox(children=(ToggleButton(value=…"
      ]
     },
     "metadata": {},
     "output_type": "display_data"
    }
   ],
   "source": [
    "point_S5P_july = ee.Geometry.Rectangle([-122.8003, 37.4831, -122.8036, 37.8288])\n",
    "\n",
    "image_S5P_july = ee.ImageCollection(\"COPERNICUS/S5P/NRTI/L3_NO2\") \\\n",
    "    .filterBounds(point_S5P_july) \\\n",
    "    .filterDate('2018-07-31', '2019-06-30') \\\n",
    "    .sort('ALGORITHM_VERSION') \\\n",
    "    .first() \\\n",
    "    .select('NO2_column_number_density')\n",
    "vis_params_S5P_july = {\n",
    "    'min': 0,\n",
    "    'max': 0.0002,\n",
    "    'bands': ['NO2_column_number_density'],\n",
    "    'palette': ['black', 'blue', 'purple', 'cyan', 'green', 'yellow', 'red']\n",
    "}\n",
    "    #.select('NO2_column_number_density','tropospheric_NO2_column_number_density','stratospheric_NO2_column_number_density')\n",
    "Map_S5P_july.addLayer(image_S5P_july.randomVisualizer(),vis_params_S5P_july,\"Sentinel-5P TROPOMI NO2 JuLY\")\n",
    "Map_S5P_july"
   ]
  },
  {
   "cell_type": "code",
   "execution_count": 22,
   "id": "a3b1ab76",
   "metadata": {},
   "outputs": [],
   "source": [
    "point_L8_july = ee.Geometry.Point([-122.4439, 37.7538])\n",
    "\n",
    "image_L8_july = ee.ImageCollection('LANDSAT/LC08/C01/T1_SR') \\\n",
    "    .filterBounds(point_L8_july) \\\n",
    "    .filterDate('2018-07-31', '2019-06-30') \\\n",
    "    .sort('CLOUD_COVER') \\\n",
    "    .first() \\\n",
    "    .select('B[1-7]')\n",
    "\n",
    "vis_params_L8 = {\n",
    "    'min': 0,\n",
    "    'max': 3000,\n",
    "    'bands': ['B5', 'B4', 'B3']\n",
    "}\n",
    "\n",
    "Map_S5P_july.centerObject(point_L8_july, 8)\n",
    "Map_S5P_july.addLayer(image_L8_july, vis_params_L8, \"Landsat-8 June\")\n"
   ]
  },
  {
   "cell_type": "code",
   "execution_count": 23,
   "id": "eab4d6ec",
   "metadata": {},
   "outputs": [],
   "source": [
    "ground_truth_july= image_L8_july.addBands(image_S5P_july)"
   ]
  },
  {
   "cell_type": "code",
   "execution_count": 24,
   "id": "8e6a1adc",
   "metadata": {},
   "outputs": [
    {
     "data": {
      "application/vnd.jupyter.widget-view+json": {
       "model_id": "9f2bd65781224a94b706881867f6e9d9",
       "version_major": 2,
       "version_minor": 0
      },
      "text/plain": [
       "Map(center=[40, -100], controls=(WidgetControl(options=['position'], widget=HBox(children=(ToggleButton(value=…"
      ]
     },
     "metadata": {},
     "output_type": "display_data"
    }
   ],
   "source": [
    "# Classify the image with the same bands used for training.\n",
    "result_july = ground_truth_july.select(bands).classify(trained)\n",
    "\n",
    "# # Display the clusters with random colors.\n",
    "Map_LANDSAT8.addLayer(result_july.randomVisualizer(),vis_params_result, 'classfied_june')\n",
    "Map_LANDSAT8"
   ]
  },
  {
   "cell_type": "code",
   "execution_count": 25,
   "id": "03afc786",
   "metadata": {},
   "outputs": [
    {
     "data": {
      "application/vnd.jupyter.widget-view+json": {
       "model_id": "1ef9769370f44a789a7fd58e030a5454",
       "version_major": 2,
       "version_minor": 0
      },
      "text/plain": [
       "Map(center=[37.75379999999999, -122.44390000000001], controls=(WidgetControl(options=['position'], widget=HBox…"
      ]
     },
     "metadata": {},
     "output_type": "display_data"
    }
   ],
   "source": [
    "diff_july = image_S5P_july.subtract(result_july);\n",
    "#// Compute the squared difference in each band.\n",
    "squaredDifference = diff_july.pow(2);\n",
    "Map_S5P_july.addLayer(diff_july.randomVisualizer(),vis_params_diff, 'Squared Diff July')\n",
    "Map_S5P_july"
   ]
  }
 ],
 "metadata": {
  "kernelspec": {
   "display_name": "Python 3",
   "language": "python",
   "name": "python3"
  },
  "language_info": {
   "codemirror_mode": {
    "name": "ipython",
    "version": 3
   },
   "file_extension": ".py",
   "mimetype": "text/x-python",
   "name": "python",
   "nbconvert_exporter": "python",
   "pygments_lexer": "ipython3",
   "version": "3.8.8"
  }
 },
 "nbformat": 4,
 "nbformat_minor": 5
}
