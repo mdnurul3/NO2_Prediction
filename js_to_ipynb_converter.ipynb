{
 "cells": [
  {
   "cell_type": "code",
   "execution_count": 1,
   "id": "84d7e252",
   "metadata": {},
   "outputs": [],
   "source": [
    "import geemap\n",
    "import os\n",
    "from geemap.conversion import *"
   ]
  },
  {
   "cell_type": "code",
   "execution_count": 2,
   "id": "5bed214a",
   "metadata": {},
   "outputs": [
    {
     "name": "stdout",
     "output_type": "stream",
     "text": [
      "Converting Earth Engine JavaScripts to Python scripts...\n",
      "\n",
      "Processing 1/2: /Users/mdnhuda/Desktop/PARC IEM Data/Google Earth Engine/No2_Landsat_S5P.js\n",
      "Processing 2/2: /Users/mdnhuda/Desktop/PARC IEM Data/Google Earth Engine/ClippedComposite.js\n",
      "Python scripts saved at: /Users/mdnhuda/Desktop/PARC IEM Data/Google Earth Engine/\n"
     ]
    }
   ],
   "source": [
    "js_dir = '/Users/mdnhuda/Desktop/PARC IEM Data/Google Earth Engine/' \n",
    "\n",
    "# Convert all Earth Engine JavaScripts in a folder recursively to Python scripts.\n",
    "js_to_python_dir(in_dir=js_dir, out_dir=js_dir, use_qgis=True)\n",
    "print(\"Python scripts saved at: {}\".format(js_dir))"
   ]
  },
  {
   "cell_type": "code",
   "execution_count": null,
   "id": "88051c08",
   "metadata": {},
   "outputs": [],
   "source": []
  }
 ],
 "metadata": {
  "kernelspec": {
   "display_name": "Python 3",
   "language": "python",
   "name": "python3"
  },
  "language_info": {
   "codemirror_mode": {
    "name": "ipython",
    "version": 3
   },
   "file_extension": ".py",
   "mimetype": "text/x-python",
   "name": "python",
   "nbconvert_exporter": "python",
   "pygments_lexer": "ipython3",
   "version": "3.8.8"
  }
 },
 "nbformat": 4,
 "nbformat_minor": 5
}
