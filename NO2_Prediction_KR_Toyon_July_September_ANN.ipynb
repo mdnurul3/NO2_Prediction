{
 "cells": [
  {
   "cell_type": "code",
   "execution_count": 93,
   "metadata": {},
   "outputs": [
    {
     "data": {
      "text/html": [
       "        <script type=\"text/javascript\">\n",
       "        window.PlotlyConfig = {MathJaxConfig: 'local'};\n",
       "        if (window.MathJax) {MathJax.Hub.Config({SVG: {font: \"STIX-Web\"}});}\n",
       "        if (typeof require !== 'undefined') {\n",
       "        require.undef(\"plotly\");\n",
       "        requirejs.config({\n",
       "            paths: {\n",
       "                'plotly': ['https://cdn.plot.ly/plotly-latest.min']\n",
       "            }\n",
       "        });\n",
       "        require(['plotly'], function(Plotly) {\n",
       "            window._Plotly = Plotly;\n",
       "        });\n",
       "        }\n",
       "        </script>\n",
       "        "
      ]
     },
     "metadata": {},
     "output_type": "display_data"
    }
   ],
   "source": [
    "import ee\n",
    "import geemap\n",
    "import pandas as pd\n",
    "import dtale\n",
    "import numpy as np\n",
    "import matplotlib.pyplot as plt\n",
    "import seaborn as sns\n",
    "from sklearn.model_selection import train_test_split\n",
    "from sklearn.preprocessing import MinMaxScaler\n",
    "from tensorflow.keras.models import Sequential\n",
    "from tensorflow.keras.layers import Dense,Dropout\n",
    "from sklearn.metrics import mean_squared_error, mean_absolute_error,explained_variance_score,mean_absolute_percentage_error\n",
    "import glob\n",
    "import dask.dataframe as dd\n",
    "import xarray as xr\n",
    "from scipy import stats\n",
    "from sklearn.svm import SVR\n",
    "from sklearn import svm, datasets\n",
    "from sklearn.model_selection import GridSearchCV\n",
    "from sklearn.ensemble import RandomForestRegressor\n",
    "from sklearn.ensemble import AdaBoostRegressor\n",
    "from sklearn.tree import DecisionTreeRegressor\n",
    "from sklearn.linear_model import LinearRegression\n",
    "from sklearn.neighbors import KNeighborsRegressor\n",
    "from sklearn.inspection import plot_partial_dependence\n",
    "from warnings import filterwarnings\n",
    "filterwarnings('ignore')\n",
    "import plotly\n",
    "import plotly.graph_objs as go\n",
    "import plotly.tools as tls\n",
    "import seaborn as sns\n",
    "import time\n",
    "import plotly.express as px\n",
    "import chart_studio.plotly as py\n",
    "import folium\n",
    "from folium.plugins import HeatMap\n",
    "from plotly.offline import download_plotlyjs, init_notebook_mode, iplot, plot\n",
    "init_notebook_mode(connected = True)\n",
    "from folium.plugins import FastMarkerCluster\n",
    "import statsmodels.api as sm\n",
    "from statsmodels.sandbox.regression.predstd import wls_prediction_std\n"
   ]
  },
  {
   "cell_type": "code",
   "execution_count": 94,
   "metadata": {},
   "outputs": [
    {
     "data": {
      "application/vnd.jupyter.widget-view+json": {
       "model_id": "48afcf58b12547a49e59688eab87c02a",
       "version_major": 2,
       "version_minor": 0
      },
      "text/plain": [
       "Map(center=[40, -100], controls=(WidgetControl(options=['position'], widget=HBox(children=(ToggleButton(value=…"
      ]
     },
     "metadata": {},
     "output_type": "display_data"
    }
   ],
   "source": [
    "Map_S5P = geemap.Map()\n",
    "Map_S5P"
   ]
  },
  {
   "cell_type": "code",
   "execution_count": 95,
   "metadata": {},
   "outputs": [],
   "source": [
    "# Create a common region of interest\n",
    "roi = ee.Geometry.Polygon([[[-123.28736502403991,36.53106212747138],\n",
    "        [-120.57374197716491,36.53106212747138],\n",
    "        [-120.57374197716491,38.629116592353306],\n",
    "        [-123.28736502403991,38.629116592353306],\n",
    "        [-123.28736502403991,36.53106212747138]]])"
   ]
  },
  {
   "cell_type": "code",
   "execution_count": 96,
   "metadata": {},
   "outputs": [],
   "source": [
    "# Data COllection for July\n",
    "image_S5P = ee.ImageCollection(\"COPERNICUS/S5P/NRTI/L3_NO2\") \\\n",
    "    .filterBounds(roi) \\\n",
    "    .filterDate('2018-07-01', '2018-07-31') \\\n",
    "    .sort('ALGORITHM_VERSION') \\\n",
    "    .select('NO2_column_number_density') \\\n",
    "    .median() \\\n",
    "    .clip(roi)\n",
    "\n",
    "vis_params_S5P = {\n",
    "    'min': 0,\n",
    "    'max': 0.0002,\n",
    "    'bands': ['NO2_column_number_density'],\n",
    "    'palette': ['black', 'blue', 'purple', 'cyan', 'green', 'yellow', 'red']\n",
    "}\n",
    "\n",
    "Map_S5P.addLayer(image_S5P, vis_params_S5P, \"Sentinel-5P TROPOMI NO2\")\n",
    "\n",
    "\n",
    "image_LANDSAT8 = ee.ImageCollection('LANDSAT/LC08/C01/T1_SR') \\\n",
    "    .filterBounds(roi) \\\n",
    "    .filterDate('2018-07-01', '2018-07-31') \\\n",
    "    .sort('CLOUD_COVER') \\\n",
    "    .select('B1', 'B2', 'B3', 'B4', 'B5', 'B6', 'B7', 'B10', 'B11', 'sr_aerosol') \\\n",
    "    .median() \\\n",
    "    .clip(roi)\n",
    "\n",
    "vis_params_L8 = {\n",
    "    'min': 0,\n",
    "    'max': 3000,\n",
    "    'bands': ['B5', 'B4', 'B3']\n",
    "}\n",
    "\n",
    "\n",
    "Map_S5P.addLayer(image_LANDSAT8, vis_params_L8, \"Landsat-8\")\n"
   ]
  },
  {
   "cell_type": "code",
   "execution_count": 97,
   "metadata": {},
   "outputs": [
    {
     "data": {
      "application/vnd.jupyter.widget-view+json": {
       "model_id": "534a7f275695414da7e1c3d375fd12c8",
       "version_major": 2,
       "version_minor": 0
      },
      "text/plain": [
       "Map(center=[40, -100], controls=(WidgetControl(options=['position'], widget=HBox(children=(ToggleButton(value=…"
      ]
     },
     "metadata": {},
     "output_type": "display_data"
    }
   ],
   "source": [
    "Map_S5P_sep = geemap.Map()\n",
    "Map_S5P_sep"
   ]
  },
  {
   "cell_type": "code",
   "execution_count": 98,
   "metadata": {},
   "outputs": [],
   "source": [
    "# Data COllection for September\n",
    "image_S5P_sep = ee.ImageCollection(\"COPERNICUS/S5P/NRTI/L3_NO2\") \\\n",
    "    .filterBounds(roi) \\\n",
    "    .filterDate('2018-09-01', '2018-09-30') \\\n",
    "    .sort('ALGORITHM_VERSION') \\\n",
    "    .select('NO2_column_number_density') \\\n",
    "    .median() \\\n",
    "    .clip(roi)\n",
    "\n",
    "vis_params_S5P_sep = {\n",
    "    'min': 0,\n",
    "    'max': 0.0002,\n",
    "    'bands': ['NO2_column_number_density'],\n",
    "    'palette': ['black', 'blue', 'purple', 'cyan', 'green', 'yellow', 'red']\n",
    "}\n",
    "\n",
    "Map_S5P_sep.addLayer(image_S5P_sep, vis_params_S5P_sep, \"Sentinel-5P TROPOMI NO2\")\n",
    "\n",
    "\n",
    "image_LANDSAT8_sep = ee.ImageCollection('LANDSAT/LC08/C01/T1_SR') \\\n",
    "    .filterBounds(roi) \\\n",
    "    .filterDate('2018-09-01', '2018-09-30') \\\n",
    "    .sort('CLOUD_COVER') \\\n",
    "    .select('B1', 'B2', 'B3', 'B4', 'B5', 'B6', 'B7', 'B10', 'B11', 'sr_aerosol') \\\n",
    "    .median() \\\n",
    "    .clip(roi)\n",
    "\n",
    "vis_params_L8_sep = {\n",
    "    'min': 0,\n",
    "    'max': 3000,\n",
    "    'bands': ['B5', 'B4', 'B3']\n",
    "}\n",
    "\n",
    "\n",
    "Map_S5P_sep.addLayer(image_LANDSAT8_sep, vis_params_L8_sep, \"Landsat-8\")\n"
   ]
  },
  {
   "cell_type": "code",
   "execution_count": 99,
   "metadata": {},
   "outputs": [],
   "source": [
    "#traing data for July\n",
    "ground_truth= image_LANDSAT8.addBands(image_S5P)\n",
    "\n",
    "# Make the training dataset.\n",
    "points = ground_truth.sample(**{\n",
    "    'region': ground_truth.geometry(),\n",
    "    'scale': 30,\n",
    "    'numPixels': 5000,\n",
    "    'seed': 0,\n",
    "    'geometries': True  # Set this to False to ignore geometries\n",
    "})\n",
    "\n",
    "Map_S5P.addLayer(points, {}, 'training', False)"
   ]
  },
  {
   "cell_type": "code",
   "execution_count": 100,
   "metadata": {},
   "outputs": [],
   "source": [
    "#traing data for September\n",
    "ground_truth_sep= image_LANDSAT8_sep.addBands(image_S5P_sep)\n",
    "\n",
    "# Make the training dataset.\n",
    "points_sep = ground_truth_sep.sample(**{\n",
    "    'region': ground_truth_sep.geometry(),\n",
    "    'scale': 30,\n",
    "    'numPixels': 5000,\n",
    "    'seed': 0,\n",
    "    'geometries': True  # Set this to False to ignore geometries\n",
    "})\n",
    "\n",
    "Map_S5P_sep.addLayer(points_sep, {}, 'training', False)"
   ]
  },
  {
   "cell_type": "code",
   "execution_count": 101,
   "metadata": {},
   "outputs": [
    {
     "name": "stdout",
     "output_type": "stream",
     "text": [
      "5000\n",
      "{'type': 'Feature', 'geometry': {'type': 'Point', 'coordinates': [-121.63707972816317, 38.31258651670711]}, 'id': '0', 'properties': {'B1': 478.5, 'B10': 3056.5, 'B11': 3032, 'B2': 594, 'B3': 940, 'B4': 843, 'B5': 3500, 'B6': 2249.5, 'B7': 1434, 'NO2_column_number_density': 9.315050192526542e-05, 'sr_aerosol': 160}}\n"
     ]
    }
   ],
   "source": [
    "print(points.size().getInfo())\n",
    "\n",
    "print(points.first().getInfo())"
   ]
  },
  {
   "cell_type": "code",
   "execution_count": 102,
   "metadata": {},
   "outputs": [
    {
     "name": "stdout",
     "output_type": "stream",
     "text": [
      "5000\n",
      "{'type': 'Feature', 'geometry': {'type': 'Point', 'coordinates': [-121.63707972816317, 38.31258651670711]}, 'id': '0', 'properties': {'B1': 669.5, 'B10': 3083, 'B11': 3057.5, 'B2': 774, 'B3': 977, 'B4': 1133, 'B5': 1591.5, 'B6': 2317.5, 'B7': 2026.5, 'NO2_column_number_density': 8.35345927043818e-05, 'sr_aerosol': 96}}\n"
     ]
    }
   ],
   "source": [
    "print(points_sep.size().getInfo())\n",
    "\n",
    "print(points_sep.first().getInfo())"
   ]
  },
  {
   "cell_type": "code",
   "execution_count": 103,
   "metadata": {},
   "outputs": [
    {
     "data": {
      "text/html": [
       "<div>\n",
       "<style scoped>\n",
       "    .dataframe tbody tr th:only-of-type {\n",
       "        vertical-align: middle;\n",
       "    }\n",
       "\n",
       "    .dataframe tbody tr th {\n",
       "        vertical-align: top;\n",
       "    }\n",
       "\n",
       "    .dataframe thead th {\n",
       "        text-align: right;\n",
       "    }\n",
       "</style>\n",
       "<table border=\"1\" class=\"dataframe\">\n",
       "  <thead>\n",
       "    <tr style=\"text-align: right;\">\n",
       "      <th></th>\n",
       "      <th>B1</th>\n",
       "      <th>B10</th>\n",
       "      <th>B11</th>\n",
       "      <th>B2</th>\n",
       "      <th>B3</th>\n",
       "      <th>B4</th>\n",
       "      <th>B5</th>\n",
       "      <th>B6</th>\n",
       "      <th>B7</th>\n",
       "      <th>NO2_column_number_density</th>\n",
       "      <th>sr_aerosol</th>\n",
       "    </tr>\n",
       "  </thead>\n",
       "  <tbody>\n",
       "    <tr>\n",
       "      <th>0</th>\n",
       "      <td>478.5</td>\n",
       "      <td>3056.5</td>\n",
       "      <td>3032.0</td>\n",
       "      <td>594.0</td>\n",
       "      <td>940.0</td>\n",
       "      <td>843.0</td>\n",
       "      <td>3500.0</td>\n",
       "      <td>2249.5</td>\n",
       "      <td>1434.0</td>\n",
       "      <td>0.000093</td>\n",
       "      <td>160</td>\n",
       "    </tr>\n",
       "    <tr>\n",
       "      <th>1</th>\n",
       "      <td>260.5</td>\n",
       "      <td>3060.0</td>\n",
       "      <td>3035.5</td>\n",
       "      <td>333.0</td>\n",
       "      <td>539.5</td>\n",
       "      <td>523.0</td>\n",
       "      <td>1883.5</td>\n",
       "      <td>1556.5</td>\n",
       "      <td>927.0</td>\n",
       "      <td>0.000088</td>\n",
       "      <td>177</td>\n",
       "    </tr>\n",
       "    <tr>\n",
       "      <th>2</th>\n",
       "      <td>453.0</td>\n",
       "      <td>3065.5</td>\n",
       "      <td>3036.0</td>\n",
       "      <td>651.5</td>\n",
       "      <td>1093.5</td>\n",
       "      <td>1369.0</td>\n",
       "      <td>2180.5</td>\n",
       "      <td>2280.5</td>\n",
       "      <td>1681.0</td>\n",
       "      <td>0.000101</td>\n",
       "      <td>145</td>\n",
       "    </tr>\n",
       "    <tr>\n",
       "      <th>3</th>\n",
       "      <td>655.5</td>\n",
       "      <td>3130.0</td>\n",
       "      <td>3095.5</td>\n",
       "      <td>877.5</td>\n",
       "      <td>1334.0</td>\n",
       "      <td>1932.5</td>\n",
       "      <td>3458.0</td>\n",
       "      <td>3783.0</td>\n",
       "      <td>2388.5</td>\n",
       "      <td>0.000092</td>\n",
       "      <td>98</td>\n",
       "    </tr>\n",
       "    <tr>\n",
       "      <th>4</th>\n",
       "      <td>3086.0</td>\n",
       "      <td>2859.5</td>\n",
       "      <td>2862.5</td>\n",
       "      <td>3078.0</td>\n",
       "      <td>2960.0</td>\n",
       "      <td>2921.5</td>\n",
       "      <td>2900.5</td>\n",
       "      <td>2503.5</td>\n",
       "      <td>1881.5</td>\n",
       "      <td>0.000063</td>\n",
       "      <td>38</td>\n",
       "    </tr>\n",
       "    <tr>\n",
       "      <th>...</th>\n",
       "      <td>...</td>\n",
       "      <td>...</td>\n",
       "      <td>...</td>\n",
       "      <td>...</td>\n",
       "      <td>...</td>\n",
       "      <td>...</td>\n",
       "      <td>...</td>\n",
       "      <td>...</td>\n",
       "      <td>...</td>\n",
       "      <td>...</td>\n",
       "      <td>...</td>\n",
       "    </tr>\n",
       "    <tr>\n",
       "      <th>4995</th>\n",
       "      <td>301.5</td>\n",
       "      <td>3069.5</td>\n",
       "      <td>3050.0</td>\n",
       "      <td>458.0</td>\n",
       "      <td>811.5</td>\n",
       "      <td>1154.5</td>\n",
       "      <td>3075.5</td>\n",
       "      <td>2875.0</td>\n",
       "      <td>1591.0</td>\n",
       "      <td>0.000094</td>\n",
       "      <td>96</td>\n",
       "    </tr>\n",
       "    <tr>\n",
       "      <th>4996</th>\n",
       "      <td>626.0</td>\n",
       "      <td>3076.0</td>\n",
       "      <td>3042.5</td>\n",
       "      <td>870.5</td>\n",
       "      <td>1289.0</td>\n",
       "      <td>1612.0</td>\n",
       "      <td>2946.5</td>\n",
       "      <td>3258.0</td>\n",
       "      <td>2413.0</td>\n",
       "      <td>0.000102</td>\n",
       "      <td>192</td>\n",
       "    </tr>\n",
       "    <tr>\n",
       "      <th>4997</th>\n",
       "      <td>4410.5</td>\n",
       "      <td>2841.5</td>\n",
       "      <td>2842.5</td>\n",
       "      <td>4431.0</td>\n",
       "      <td>4454.0</td>\n",
       "      <td>4542.0</td>\n",
       "      <td>4672.5</td>\n",
       "      <td>3779.0</td>\n",
       "      <td>2904.5</td>\n",
       "      <td>0.000072</td>\n",
       "      <td>8</td>\n",
       "    </tr>\n",
       "    <tr>\n",
       "      <th>4998</th>\n",
       "      <td>3839.0</td>\n",
       "      <td>2840.5</td>\n",
       "      <td>2837.5</td>\n",
       "      <td>3852.0</td>\n",
       "      <td>3833.0</td>\n",
       "      <td>3888.0</td>\n",
       "      <td>4006.5</td>\n",
       "      <td>3633.0</td>\n",
       "      <td>3190.5</td>\n",
       "      <td>0.000072</td>\n",
       "      <td>8</td>\n",
       "    </tr>\n",
       "    <tr>\n",
       "      <th>4999</th>\n",
       "      <td>3121.0</td>\n",
       "      <td>2863.5</td>\n",
       "      <td>2866.0</td>\n",
       "      <td>3165.0</td>\n",
       "      <td>3226.0</td>\n",
       "      <td>3252.0</td>\n",
       "      <td>3312.5</td>\n",
       "      <td>2851.5</td>\n",
       "      <td>2182.0</td>\n",
       "      <td>0.000063</td>\n",
       "      <td>38</td>\n",
       "    </tr>\n",
       "  </tbody>\n",
       "</table>\n",
       "<p>5000 rows × 11 columns</p>\n",
       "</div>"
      ],
      "text/plain": [
       "          B1     B10     B11      B2      B3      B4      B5      B6      B7  \\\n",
       "0      478.5  3056.5  3032.0   594.0   940.0   843.0  3500.0  2249.5  1434.0   \n",
       "1      260.5  3060.0  3035.5   333.0   539.5   523.0  1883.5  1556.5   927.0   \n",
       "2      453.0  3065.5  3036.0   651.5  1093.5  1369.0  2180.5  2280.5  1681.0   \n",
       "3      655.5  3130.0  3095.5   877.5  1334.0  1932.5  3458.0  3783.0  2388.5   \n",
       "4     3086.0  2859.5  2862.5  3078.0  2960.0  2921.5  2900.5  2503.5  1881.5   \n",
       "...      ...     ...     ...     ...     ...     ...     ...     ...     ...   \n",
       "4995   301.5  3069.5  3050.0   458.0   811.5  1154.5  3075.5  2875.0  1591.0   \n",
       "4996   626.0  3076.0  3042.5   870.5  1289.0  1612.0  2946.5  3258.0  2413.0   \n",
       "4997  4410.5  2841.5  2842.5  4431.0  4454.0  4542.0  4672.5  3779.0  2904.5   \n",
       "4998  3839.0  2840.5  2837.5  3852.0  3833.0  3888.0  4006.5  3633.0  3190.5   \n",
       "4999  3121.0  2863.5  2866.0  3165.0  3226.0  3252.0  3312.5  2851.5  2182.0   \n",
       "\n",
       "      NO2_column_number_density  sr_aerosol  \n",
       "0                      0.000093         160  \n",
       "1                      0.000088         177  \n",
       "2                      0.000101         145  \n",
       "3                      0.000092          98  \n",
       "4                      0.000063          38  \n",
       "...                         ...         ...  \n",
       "4995                   0.000094          96  \n",
       "4996                   0.000102         192  \n",
       "4997                   0.000072           8  \n",
       "4998                   0.000072           8  \n",
       "4999                   0.000063          38  \n",
       "\n",
       "[5000 rows x 11 columns]"
      ]
     },
     "execution_count": 103,
     "metadata": {},
     "output_type": "execute_result"
    }
   ],
   "source": [
    "df = geemap.ee_to_pandas(points)\n",
    "df"
   ]
  },
  {
   "cell_type": "code",
   "execution_count": 104,
   "metadata": {},
   "outputs": [
    {
     "data": {
      "image/png": "[encoded data removed]",
      "text/plain": [
       "<Figure size 432x288 with 2 Axes>"
      ]
     },
     "metadata": {
      "needs_background": "light"
     },
     "output_type": "display_data"
    }
   ],
   "source": [
    "import pandas as pd\n",
    "import seaborn as sn\n",
    "import matplotlib.pyplot as plt\n",
    "\n",
    "corrMatrix = df.corr()\n",
    "sn.heatmap(corrMatrix, annot=True)\n",
    "plt.show()"
   ]
  },
  {
   "cell_type": "code",
   "execution_count": 105,
   "metadata": {
    "scrolled": true
   },
   "outputs": [
    {
     "data": {
      "text/plain": [
       "<matplotlib.axes._subplots.AxesSubplot at 0x7fd49a1183a0>"
      ]
     },
     "execution_count": 105,
     "metadata": {},
     "output_type": "execute_result"
    },
    {
     "data": {
      "image/png": "[encoded data removed]",
      "text/plain": [
       "<Figure size 432x288 with 1 Axes>"
      ]
     },
     "metadata": {
      "needs_background": "light"
     },
     "output_type": "display_data"
    }
   ],
   "source": [
    "df.corr()['NO2_column_number_density'].sort_values().plot(kind='bar')"
   ]
  },
  {
   "cell_type": "markdown",
   "metadata": {},
   "source": [
    "It looks like B1, B2, B3, B4, B10, B11, and sr-aerosol strongly correlate with the NO2 values. It will be good to see how do they perform in a fitted model."
   ]
  },
  {
   "cell_type": "markdown",
   "metadata": {},
   "source": [
    "## ! Notes to Toyon !\n",
    "\n",
    "- Can you run a multivariate regression model for this data, and document p-values?\n",
    "- Can you run a machine learning model (e.g random forest/GBM) to fit this data? Document the feature importance. You can divide the data into train and test to see how well it performs within the month. \n",
    "- Can you test it on a different month (September 2018)? To see the divergence.\n",
    "- Can you try generating the similar dataset for June 2018 using Sentinel-2 and Sentinel-5P data?\n",
    "- Side note: we may have to generate additional spatial and temporal values (month, day of week, etc.) in the future to develop more precise models."
   ]
  },
  {
   "cell_type": "code",
   "execution_count": 106,
   "metadata": {},
   "outputs": [
    {
     "data": {
      "text/html": [
       "\n",
       "        <iframe\n",
       "            width=\"100%\"\n",
       "            height=\"475\"\n",
       "            src=\"http://localhost:40000/dtale/iframe/3\"\n",
       "            frameborder=\"0\"\n",
       "            allowfullscreen\n",
       "        ></iframe>\n",
       "        "
      ],
      "text/plain": [
       "<IPython.lib.display.IFrame at 0x7fd495b33af0>"
      ]
     },
     "metadata": {},
     "output_type": "display_data"
    },
    {
     "data": {
      "text/plain": []
     },
     "execution_count": 106,
     "metadata": {},
     "output_type": "execute_result"
    }
   ],
   "source": [
    "dtale.show(df)"
   ]
  },
  {
   "cell_type": "code",
   "execution_count": 117,
   "metadata": {},
   "outputs": [
    {
     "name": "stdout",
     "output_type": "stream",
     "text": [
      "Executing shutdown due to inactivity...\n"
     ]
    },
    {
     "name": "stderr",
     "output_type": "stream",
     "text": [
      "2021-06-20 13:53:31,883 - INFO     - Executing shutdown due to inactivity...\n"
     ]
    },
    {
     "name": "stdout",
     "output_type": "stream",
     "text": [
      "Executing shutdown...\n"
     ]
    },
    {
     "name": "stderr",
     "output_type": "stream",
     "text": [
      "2021-06-20 13:53:31,904 - INFO     - Executing shutdown...\n"
     ]
    }
   ],
   "source": [
    "df.to_csv('df.csv')"
   ]
  },
  {
   "cell_type": "code",
   "execution_count": null,
   "metadata": {},
   "outputs": [],
   "source": []
  },
  {
   "cell_type": "code",
   "execution_count": 107,
   "metadata": {},
   "outputs": [
    {
     "data": {
      "text/plain": [
       "B1                           0\n",
       "B10                          0\n",
       "B11                          0\n",
       "B2                           0\n",
       "B3                           0\n",
       "B4                           0\n",
       "B5                           0\n",
       "B6                           0\n",
       "B7                           0\n",
       "NO2_column_number_density    0\n",
       "sr_aerosol                   0\n",
       "dtype: int64"
      ]
     },
     "execution_count": 107,
     "metadata": {},
     "output_type": "execute_result"
    }
   ],
   "source": [
    "df.isnull().sum()"
   ]
  },
  {
   "cell_type": "code",
   "execution_count": 108,
   "metadata": {},
   "outputs": [],
   "source": [
    "X=df.drop('B1',axis=1).values\n",
    "y=df['B1'].values\n",
    "\n",
    "X_train, X_test, y_train, y_test = train_test_split(X, y, test_size=0.30, random_state=42)\n",
    "scaler=MinMaxScaler()\n",
    "X_train=scaler.fit_transform(X_train)\n",
    "X_test=scaler.transform(X_test)"
   ]
  },
  {
   "cell_type": "code",
   "execution_count": 109,
   "metadata": {},
   "outputs": [
    {
     "name": "stdout",
     "output_type": "stream",
     "text": [
      "Epoch 1/100\n",
      "110/110 [==============================] - 0s 2ms/step - loss: 4501435.0000 - val_loss: 4758589.0000\n",
      "Epoch 2/100\n",
      "110/110 [==============================] - 0s 833us/step - loss: 4500076.5000 - val_loss: 4756881.0000\n",
      "Epoch 3/100\n",
      "110/110 [==============================] - 0s 1ms/step - loss: 4498317.5000 - val_loss: 4755095.0000\n",
      "Epoch 4/100\n",
      "110/110 [==============================] - 0s 1ms/step - loss: 4496655.0000 - val_loss: 4753413.0000\n",
      "Epoch 5/100\n",
      "110/110 [==============================] - 0s 869us/step - loss: 4495053.5000 - val_loss: 4751761.0000\n",
      "Epoch 6/100\n",
      "110/110 [==============================] - 0s 1ms/step - loss: 4493476.5000 - val_loss: 4750137.5000\n",
      "Epoch 7/100\n",
      "110/110 [==============================] - 0s 1ms/step - loss: 4491913.5000 - val_loss: 4748499.0000\n",
      "Epoch 8/100\n",
      "110/110 [==============================] - 0s 1ms/step - loss: 4490357.0000 - val_loss: 4746896.0000\n",
      "Epoch 9/100\n",
      "110/110 [==============================] - 0s 2ms/step - loss: 4488812.0000 - val_loss: 4745292.5000\n",
      "Epoch 10/100\n",
      "110/110 [==============================] - 0s 2ms/step - loss: 4487267.5000 - val_loss: 4743691.5000\n",
      "Epoch 11/100\n",
      "110/110 [==============================] - ETA: 0s - loss: 4443372.500 - 0s 2ms/step - loss: 4485729.5000 - val_loss: 4742101.5000\n",
      "Epoch 12/100\n",
      "110/110 [==============================] - 0s 1ms/step - loss: 4484197.0000 - val_loss: 4740503.0000\n",
      "Epoch 13/100\n",
      "110/110 [==============================] - 0s 1ms/step - loss: 4482670.5000 - val_loss: 4738916.5000\n",
      "Epoch 14/100\n",
      "110/110 [==============================] - 0s 1ms/step - loss: 4481144.0000 - val_loss: 4737323.0000\n",
      "Epoch 15/100\n",
      "110/110 [==============================] - 0s 1ms/step - loss: 4479618.0000 - val_loss: 4735737.0000\n",
      "Epoch 16/100\n",
      "110/110 [==============================] - 0s 1ms/step - loss: 4478094.5000 - val_loss: 4734155.0000\n",
      "Epoch 17/100\n",
      "110/110 [==============================] - 0s 1ms/step - loss: 4476575.5000 - val_loss: 4732584.5000\n",
      "Epoch 18/100\n",
      "110/110 [==============================] - 0s 1ms/step - loss: 4475054.5000 - val_loss: 4731015.0000\n",
      "Epoch 19/100\n",
      "110/110 [==============================] - 0s 1ms/step - loss: 4473539.0000 - val_loss: 4729427.0000\n",
      "Epoch 20/100\n",
      "110/110 [==============================] - 0s 1ms/step - loss: 4472020.5000 - val_loss: 4727845.5000\n",
      "Epoch 21/100\n",
      "110/110 [==============================] - 0s 1ms/step - loss: 4470505.0000 - val_loss: 4726271.0000\n",
      "Epoch 22/100\n",
      "110/110 [==============================] - 0s 1ms/step - loss: 4468995.0000 - val_loss: 4724689.0000\n",
      "Epoch 23/100\n",
      "110/110 [==============================] - 0s 1ms/step - loss: 4467478.0000 - val_loss: 4723128.0000\n",
      "Epoch 24/100\n",
      "110/110 [==============================] - 0s 1ms/step - loss: 4465969.0000 - val_loss: 4721548.0000\n",
      "Epoch 25/100\n",
      "110/110 [==============================] - 0s 1ms/step - loss: 4464459.0000 - val_loss: 4719993.0000\n",
      "Epoch 26/100\n",
      "110/110 [==============================] - 0s 1ms/step - loss: 4462953.5000 - val_loss: 4718419.5000\n",
      "Epoch 27/100\n",
      "110/110 [==============================] - 0s 1ms/step - loss: 4461440.5000 - val_loss: 4716850.5000\n",
      "Epoch 28/100\n",
      "110/110 [==============================] - 0s 1000us/step - loss: 4459935.0000 - val_loss: 4715280.0000\n",
      "Epoch 29/100\n",
      "110/110 [==============================] - 0s 996us/step - loss: 4458427.5000 - val_loss: 4713711.5000\n",
      "Epoch 30/100\n",
      "110/110 [==============================] - 0s 1ms/step - loss: 4456921.0000 - val_loss: 4712151.0000\n",
      "Epoch 31/100\n",
      "110/110 [==============================] - 0s 1ms/step - loss: 4455411.0000 - val_loss: 4710573.5000\n",
      "Epoch 32/100\n",
      "110/110 [==============================] - 0s 1ms/step - loss: 4453904.0000 - val_loss: 4709010.5000\n",
      "Epoch 33/100\n",
      "110/110 [==============================] - 0s 1ms/step - loss: 4452393.5000 - val_loss: 4707440.5000\n",
      "Epoch 34/100\n",
      "110/110 [==============================] - 0s 1ms/step - loss: 4450882.5000 - val_loss: 4705875.0000\n",
      "Epoch 35/100\n",
      "110/110 [==============================] - 0s 1ms/step - loss: 4449381.5000 - val_loss: 4704312.5000\n",
      "Epoch 36/100\n",
      "110/110 [==============================] - 0s 1ms/step - loss: 4447878.5000 - val_loss: 4702755.0000\n",
      "Epoch 37/100\n",
      "110/110 [==============================] - 0s 1ms/step - loss: 4446377.5000 - val_loss: 4701179.0000\n",
      "Epoch 38/100\n",
      "110/110 [==============================] - 0s 1ms/step - loss: 4444871.0000 - val_loss: 4699620.0000\n",
      "Epoch 39/100\n",
      "110/110 [==============================] - 0s 1ms/step - loss: 4443373.0000 - val_loss: 4698060.5000\n",
      "Epoch 40/100\n",
      "110/110 [==============================] - 0s 1ms/step - loss: 4441874.0000 - val_loss: 4696506.0000\n",
      "Epoch 41/100\n",
      "110/110 [==============================] - 0s 1ms/step - loss: 4440374.0000 - val_loss: 4694935.5000\n",
      "Epoch 42/100\n",
      "110/110 [==============================] - 0s 1ms/step - loss: 4438877.5000 - val_loss: 4693390.5000\n",
      "Epoch 43/100\n",
      "110/110 [==============================] - 0s 1ms/step - loss: 4437378.0000 - val_loss: 4691825.5000\n",
      "Epoch 44/100\n",
      "110/110 [==============================] - 0s 1ms/step - loss: 4435881.0000 - val_loss: 4690281.5000\n",
      "Epoch 45/100\n",
      "110/110 [==============================] - 0s 1ms/step - loss: 4434384.0000 - val_loss: 4688714.5000\n",
      "Epoch 46/100\n",
      "110/110 [==============================] - 0s 1ms/step - loss: 4432885.0000 - val_loss: 4687154.0000\n",
      "Epoch 47/100\n",
      "110/110 [==============================] - 0s 2ms/step - loss: 4431397.0000 - val_loss: 4685605.0000\n",
      "Epoch 48/100\n",
      "110/110 [==============================] - 0s 1ms/step - loss: 4429902.0000 - val_loss: 4684056.0000\n",
      "Epoch 49/100\n",
      "110/110 [==============================] - 0s 1ms/step - loss: 4428406.0000 - val_loss: 4682500.5000\n",
      "Epoch 50/100\n",
      "110/110 [==============================] - 0s 1ms/step - loss: 4426912.5000 - val_loss: 4680930.0000\n",
      "Epoch 51/100\n",
      "110/110 [==============================] - 0s 1ms/step - loss: 4425415.0000 - val_loss: 4679391.0000\n",
      "Epoch 52/100\n",
      "110/110 [==============================] - 0s 1ms/step - loss: 4423919.5000 - val_loss: 4677837.5000\n",
      "Epoch 53/100\n",
      "110/110 [==============================] - 0s 1ms/step - loss: 4422424.5000 - val_loss: 4676275.0000\n",
      "Epoch 54/100\n",
      "110/110 [==============================] - 0s 1ms/step - loss: 4420930.5000 - val_loss: 4674727.5000\n",
      "Epoch 55/100\n",
      "110/110 [==============================] - 0s 1ms/step - loss: 4419433.5000 - val_loss: 4673173.0000\n",
      "Epoch 56/100\n",
      "110/110 [==============================] - 0s 1ms/step - loss: 4417942.0000 - val_loss: 4671626.0000\n",
      "Epoch 57/100\n",
      "110/110 [==============================] - 0s 1ms/step - loss: 4416450.5000 - val_loss: 4670060.0000\n",
      "Epoch 58/100\n",
      "110/110 [==============================] - 0s 998us/step - loss: 4414961.0000 - val_loss: 4668518.5000\n",
      "Epoch 59/100\n",
      "110/110 [==============================] - 0s 1ms/step - loss: 4413475.5000 - val_loss: 4666971.0000\n",
      "Epoch 60/100\n",
      "110/110 [==============================] - 0s 1ms/step - loss: 4411989.0000 - val_loss: 4665437.0000\n",
      "Epoch 61/100\n",
      "110/110 [==============================] - 0s 1ms/step - loss: 4410499.5000 - val_loss: 4663890.0000\n",
      "Epoch 62/100\n",
      "110/110 [==============================] - 0s 1ms/step - loss: 4409010.0000 - val_loss: 4662331.0000\n",
      "Epoch 63/100\n",
      "110/110 [==============================] - 0s 1ms/step - loss: 4407525.0000 - val_loss: 4660792.5000\n",
      "Epoch 64/100\n",
      "110/110 [==============================] - 0s 1ms/step - loss: 4406035.0000 - val_loss: 4659238.5000\n",
      "Epoch 65/100\n",
      "110/110 [==============================] - 0s 1ms/step - loss: 4404552.5000 - val_loss: 4657699.5000\n",
      "Epoch 66/100\n",
      "110/110 [==============================] - 0s 1ms/step - loss: 4403070.5000 - val_loss: 4656152.5000\n",
      "Epoch 67/100\n",
      "110/110 [==============================] - 0s 1ms/step - loss: 4401584.5000 - val_loss: 4654616.5000\n",
      "Epoch 68/100\n",
      "110/110 [==============================] - 0s 1ms/step - loss: 4400098.0000 - val_loss: 4653059.0000\n",
      "Epoch 69/100\n",
      "110/110 [==============================] - 0s 1ms/step - loss: 4398614.5000 - val_loss: 4651513.0000\n",
      "Epoch 70/100\n",
      "110/110 [==============================] - 0s 954us/step - loss: 4397134.5000 - val_loss: 4649976.5000\n",
      "Epoch 71/100\n",
      "110/110 [==============================] - 0s 1ms/step - loss: 4395656.0000 - val_loss: 4648427.5000\n",
      "Epoch 72/100\n",
      "110/110 [==============================] - 0s 1ms/step - loss: 4394177.0000 - val_loss: 4646901.5000\n",
      "Epoch 73/100\n",
      "110/110 [==============================] - 0s 980us/step - loss: 4392694.0000 - val_loss: 4645359.5000\n",
      "Epoch 74/100\n",
      "110/110 [==============================] - 0s 995us/step - loss: 4391216.0000 - val_loss: 4643814.0000\n",
      "Epoch 75/100\n",
      "110/110 [==============================] - 0s 1ms/step - loss: 4389734.0000 - val_loss: 4642276.0000\n",
      "Epoch 76/100\n",
      "110/110 [==============================] - 0s 1ms/step - loss: 4388251.0000 - val_loss: 4640741.5000\n",
      "Epoch 77/100\n",
      "110/110 [==============================] - 0s 1ms/step - loss: 4386771.0000 - val_loss: 4639194.5000\n",
      "Epoch 78/100\n",
      "110/110 [==============================] - 0s 952us/step - loss: 4385293.0000 - val_loss: 4637653.0000\n",
      "Epoch 79/100\n",
      "110/110 [==============================] - 0s 919us/step - loss: 4383820.0000 - val_loss: 4636117.5000\n",
      "Epoch 80/100\n",
      "110/110 [==============================] - 0s 924us/step - loss: 4382344.0000 - val_loss: 4634588.5000\n",
      "Epoch 81/100\n",
      "110/110 [==============================] - 0s 982us/step - loss: 4380866.5000 - val_loss: 4633053.5000\n",
      "Epoch 82/100\n",
      "110/110 [==============================] - 0s 1ms/step - loss: 4379390.0000 - val_loss: 4631517.0000\n",
      "Epoch 83/100\n",
      "110/110 [==============================] - 0s 1ms/step - loss: 4377913.0000 - val_loss: 4629974.5000\n",
      "Epoch 84/100\n",
      "110/110 [==============================] - 0s 2ms/step - loss: 4376438.0000 - val_loss: 4628441.5000\n",
      "Epoch 85/100\n",
      "110/110 [==============================] - 0s 1ms/step - loss: 4374962.5000 - val_loss: 4626912.5000\n",
      "Epoch 86/100\n",
      "110/110 [==============================] - 0s 1ms/step - loss: 4373489.0000 - val_loss: 4625389.0000\n",
      "Epoch 87/100\n",
      "110/110 [==============================] - 0s 991us/step - loss: 4372015.0000 - val_loss: 4623840.5000\n",
      "Epoch 88/100\n",
      "110/110 [==============================] - 0s 988us/step - loss: 4370540.5000 - val_loss: 4622306.5000\n",
      "Epoch 89/100\n",
      "110/110 [==============================] - 0s 960us/step - loss: 4369065.0000 - val_loss: 4620777.0000\n",
      "Epoch 90/100\n",
      "110/110 [==============================] - 0s 966us/step - loss: 4367590.5000 - val_loss: 4619234.5000\n",
      "Epoch 91/100\n",
      "110/110 [==============================] - 0s 985us/step - loss: 4366115.0000 - val_loss: 4617706.0000\n",
      "Epoch 92/100\n",
      "110/110 [==============================] - 0s 1ms/step - loss: 4364643.5000 - val_loss: 4616183.0000\n",
      "Epoch 93/100\n",
      "110/110 [==============================] - 0s 1ms/step - loss: 4363169.5000 - val_loss: 4614648.5000\n",
      "Epoch 94/100\n",
      "110/110 [==============================] - 0s 1ms/step - loss: 4361690.5000 - val_loss: 4613103.5000\n",
      "Epoch 95/100\n",
      "110/110 [==============================] - 0s 1ms/step - loss: 4360222.0000 - val_loss: 4611589.0000\n",
      "Epoch 96/100\n",
      "110/110 [==============================] - 0s 1ms/step - loss: 4358751.5000 - val_loss: 4610036.0000\n",
      "Epoch 97/100\n",
      "110/110 [==============================] - 0s 1ms/step - loss: 4357283.0000 - val_loss: 4608513.5000\n",
      "Epoch 98/100\n",
      "110/110 [==============================] - 0s 1ms/step - loss: 4355819.5000 - val_loss: 4606993.5000\n",
      "Epoch 99/100\n",
      "110/110 [==============================] - 0s 1ms/step - loss: 4354351.5000 - val_loss: 4605475.5000\n",
      "Epoch 100/100\n",
      "110/110 [==============================] - 0s 1ms/step - loss: 4352885.5000 - val_loss: 4603950.0000\n"
     ]
    },
    {
     "data": {
      "text/plain": [
       "<tensorflow.python.keras.callbacks.History at 0x7fd49a2be370>"
      ]
     },
     "execution_count": 109,
     "metadata": {},
     "output_type": "execute_result"
    }
   ],
   "source": [
    "model=Sequential()\n",
    "model.add(Dense(10,activation='relu'))\n",
    "model.compile(loss='mse',optimizer='adam')\n",
    "model.fit(x=X_train,y=y_train, epochs=100,validation_data=(X_test,y_test))"
   ]
  },
  {
   "cell_type": "code",
   "execution_count": 110,
   "metadata": {},
   "outputs": [
    {
     "data": {
      "text/plain": [
       "Text(0, 0.5, 'Loss')"
      ]
     },
     "execution_count": 110,
     "metadata": {},
     "output_type": "execute_result"
    },
    {
     "data": {
      "image/png": "[encoded data removed]",
      "text/plain": [
       "<Figure size 432x288 with 1 Axes>"
      ]
     },
     "metadata": {
      "needs_background": "light"
     },
     "output_type": "display_data"
    }
   ],
   "source": [
    "losses=pd.DataFrame(model.history.history)\n",
    "losses.plot()\n",
    "plt.title('Model Losses')\n",
    "plt.xlabel('Epoch')\n",
    "plt.ylabel('Loss')"
   ]
  },
  {
   "cell_type": "code",
   "execution_count": 111,
   "metadata": {},
   "outputs": [
    {
     "data": {
      "text/plain": [
       "(3500, 10)"
      ]
     },
     "execution_count": 111,
     "metadata": {},
     "output_type": "execute_result"
    }
   ],
   "source": [
    "X_train.shape"
   ]
  },
  {
   "cell_type": "code",
   "execution_count": 112,
   "metadata": {},
   "outputs": [
    {
     "data": {
      "text/plain": [
       "(3500,)"
      ]
     },
     "execution_count": 112,
     "metadata": {},
     "output_type": "execute_result"
    }
   ],
   "source": [
    "y_train.shape"
   ]
  },
  {
   "cell_type": "code",
   "execution_count": 113,
   "metadata": {},
   "outputs": [],
   "source": [
    "prediction=model.predict(X_test)"
   ]
  },
  {
   "cell_type": "code",
   "execution_count": 114,
   "metadata": {},
   "outputs": [
    {
     "data": {
      "text/plain": [
       "(1500, 10)"
      ]
     },
     "execution_count": 114,
     "metadata": {},
     "output_type": "execute_result"
    }
   ],
   "source": [
    "prediction.shape"
   ]
  },
  {
   "cell_type": "code",
   "execution_count": 115,
   "metadata": {},
   "outputs": [
    {
     "ename": "ValueError",
     "evalue": "y_true and y_pred have different number of output (1!=10)",
     "output_type": "error",
     "traceback": [
      "\u001b[0;31m---------------------------------------------------------------------------\u001b[0m",
      "\u001b[0;31mValueError\u001b[0m                                Traceback (most recent call last)",
      "\u001b[0;32m<ipython-input-115-3ebe6b928db6>\u001b[0m in \u001b[0;36m<module>\u001b[0;34m\u001b[0m\n\u001b[1;32m      1\u001b[0m \u001b[0mprediction\u001b[0m\u001b[0;34m=\u001b[0m\u001b[0mmodel\u001b[0m\u001b[0;34m.\u001b[0m\u001b[0mpredict\u001b[0m\u001b[0;34m(\u001b[0m\u001b[0mX_test\u001b[0m\u001b[0;34m)\u001b[0m\u001b[0;34m\u001b[0m\u001b[0;34m\u001b[0m\u001b[0m\n\u001b[0;32m----> 2\u001b[0;31m \u001b[0mMSE\u001b[0m\u001b[0;34m=\u001b[0m\u001b[0mmean_squared_error\u001b[0m\u001b[0;34m(\u001b[0m\u001b[0my_test\u001b[0m\u001b[0;34m,\u001b[0m\u001b[0mprediction\u001b[0m\u001b[0;34m)\u001b[0m\u001b[0;34m\u001b[0m\u001b[0;34m\u001b[0m\u001b[0m\n\u001b[0m\u001b[1;32m      3\u001b[0m \u001b[0mprint\u001b[0m\u001b[0;34m(\u001b[0m\u001b[0;34m\"Mean Squared Error =\"\u001b[0m\u001b[0;34m,\u001b[0m\u001b[0mMSE\u001b[0m\u001b[0;34m)\u001b[0m\u001b[0;34m\u001b[0m\u001b[0;34m\u001b[0m\u001b[0m\n\u001b[1;32m      4\u001b[0m \u001b[0;34m\u001b[0m\u001b[0m\n\u001b[1;32m      5\u001b[0m \u001b[0mMAPE\u001b[0m\u001b[0;34m=\u001b[0m\u001b[0mmean_absolute_percentage_error\u001b[0m\u001b[0;34m(\u001b[0m\u001b[0my_test\u001b[0m\u001b[0;34m,\u001b[0m\u001b[0mprediction\u001b[0m\u001b[0;34m)\u001b[0m\u001b[0;34m\u001b[0m\u001b[0;34m\u001b[0m\u001b[0m\n",
      "\u001b[0;32m~/opt/anaconda3/lib/python3.8/site-packages/sklearn/utils/validation.py\u001b[0m in \u001b[0;36minner_f\u001b[0;34m(*args, **kwargs)\u001b[0m\n\u001b[1;32m     61\u001b[0m             \u001b[0mextra_args\u001b[0m \u001b[0;34m=\u001b[0m \u001b[0mlen\u001b[0m\u001b[0;34m(\u001b[0m\u001b[0margs\u001b[0m\u001b[0;34m)\u001b[0m \u001b[0;34m-\u001b[0m \u001b[0mlen\u001b[0m\u001b[0;34m(\u001b[0m\u001b[0mall_args\u001b[0m\u001b[0;34m)\u001b[0m\u001b[0;34m\u001b[0m\u001b[0;34m\u001b[0m\u001b[0m\n\u001b[1;32m     62\u001b[0m             \u001b[0;32mif\u001b[0m \u001b[0mextra_args\u001b[0m \u001b[0;34m<=\u001b[0m \u001b[0;36m0\u001b[0m\u001b[0;34m:\u001b[0m\u001b[0;34m\u001b[0m\u001b[0;34m\u001b[0m\u001b[0m\n\u001b[0;32m---> 63\u001b[0;31m                 \u001b[0;32mreturn\u001b[0m \u001b[0mf\u001b[0m\u001b[0;34m(\u001b[0m\u001b[0;34m*\u001b[0m\u001b[0margs\u001b[0m\u001b[0;34m,\u001b[0m \u001b[0;34m**\u001b[0m\u001b[0mkwargs\u001b[0m\u001b[0;34m)\u001b[0m\u001b[0;34m\u001b[0m\u001b[0;34m\u001b[0m\u001b[0m\n\u001b[0m\u001b[1;32m     64\u001b[0m \u001b[0;34m\u001b[0m\u001b[0m\n\u001b[1;32m     65\u001b[0m             \u001b[0;31m# extra_args > 0\u001b[0m\u001b[0;34m\u001b[0m\u001b[0;34m\u001b[0m\u001b[0;34m\u001b[0m\u001b[0m\n",
      "\u001b[0;32m~/opt/anaconda3/lib/python3.8/site-packages/sklearn/metrics/_regression.py\u001b[0m in \u001b[0;36mmean_squared_error\u001b[0;34m(y_true, y_pred, sample_weight, multioutput, squared)\u001b[0m\n\u001b[1;32m    333\u001b[0m     \u001b[0;36m0.825\u001b[0m\u001b[0;34m...\u001b[0m\u001b[0;34m\u001b[0m\u001b[0;34m\u001b[0m\u001b[0m\n\u001b[1;32m    334\u001b[0m     \"\"\"\n\u001b[0;32m--> 335\u001b[0;31m     y_type, y_true, y_pred, multioutput = _check_reg_targets(\n\u001b[0m\u001b[1;32m    336\u001b[0m         y_true, y_pred, multioutput)\n\u001b[1;32m    337\u001b[0m     \u001b[0mcheck_consistent_length\u001b[0m\u001b[0;34m(\u001b[0m\u001b[0my_true\u001b[0m\u001b[0;34m,\u001b[0m \u001b[0my_pred\u001b[0m\u001b[0;34m,\u001b[0m \u001b[0msample_weight\u001b[0m\u001b[0;34m)\u001b[0m\u001b[0;34m\u001b[0m\u001b[0;34m\u001b[0m\u001b[0m\n",
      "\u001b[0;32m~/opt/anaconda3/lib/python3.8/site-packages/sklearn/metrics/_regression.py\u001b[0m in \u001b[0;36m_check_reg_targets\u001b[0;34m(y_true, y_pred, multioutput, dtype)\u001b[0m\n\u001b[1;32m     97\u001b[0m \u001b[0;34m\u001b[0m\u001b[0m\n\u001b[1;32m     98\u001b[0m     \u001b[0;32mif\u001b[0m \u001b[0my_true\u001b[0m\u001b[0;34m.\u001b[0m\u001b[0mshape\u001b[0m\u001b[0;34m[\u001b[0m\u001b[0;36m1\u001b[0m\u001b[0;34m]\u001b[0m \u001b[0;34m!=\u001b[0m \u001b[0my_pred\u001b[0m\u001b[0;34m.\u001b[0m\u001b[0mshape\u001b[0m\u001b[0;34m[\u001b[0m\u001b[0;36m1\u001b[0m\u001b[0;34m]\u001b[0m\u001b[0;34m:\u001b[0m\u001b[0;34m\u001b[0m\u001b[0;34m\u001b[0m\u001b[0m\n\u001b[0;32m---> 99\u001b[0;31m         raise ValueError(\"y_true and y_pred have different number of output \"\n\u001b[0m\u001b[1;32m    100\u001b[0m                          \"({0}!={1})\".format(y_true.shape[1], y_pred.shape[1]))\n\u001b[1;32m    101\u001b[0m \u001b[0;34m\u001b[0m\u001b[0m\n",
      "\u001b[0;31mValueError\u001b[0m: y_true and y_pred have different number of output (1!=10)"
     ]
    }
   ],
   "source": [
    "prediction=model.predict(X_test)\n",
    "MSE=mean_squared_error(y_test,prediction)\n",
    "print(\"Mean Squared Error =\",MSE)\n",
    "\n",
    "MAPE=mean_absolute_percentage_error(y_test,prediction)\n",
    "print(\"Mean absolute percentage error =\",MAPE)\n",
    "\n",
    "\n",
    "fig = plt.figure(figsize=(14,6))\n",
    "plt.plot(y_test,marker=\"o\", ms = 8, mfc = 'b', linestyle='None',label='Actual')\n",
    "plt.plot(prediction,marker=\"v\", ms = 9,linestyle='None', mfc = 'g',label='Prediction')\n",
    "plt.title('Actual vs Predicted NO2_column_number_density on Test Data (Random Forest)')\n",
    "plt.legend(loc='best',prop={'size':14})\n",
    "plt.xlabel('Pixel')\n",
    "plt.ylim([-0.0001,0.00025])\n",
    "plt.ylabel('NO2_column_number_density')"
   ]
  },
  {
   "cell_type": "code",
   "execution_count": null,
   "metadata": {},
   "outputs": [],
   "source": [
    "prediction_sep=model.predict(X_test_sep)\n",
    "MSE=mean_squared_error(y_test_sep,prediction_sep)\n",
    "print(\"Mean Squared Error =\",MSE)\n",
    "\n",
    "MAPE=mean_absolute_percentage_error(y_test_sep,prediction_sep)\n",
    "print(\"Mean absolute percentage error =\",MAPE)\n",
    "\n",
    "\n",
    "fig = plt.figure(figsize=(14,6))\n",
    "plt.plot(y_test_sep,marker=\"o\", ms = 8, mfc = 'b', linestyle='None',label='Actual')\n",
    "plt.plot(prediction_sep,marker=\"v\", ms = 9,linestyle='None', mfc = 'g',label='Prediction')\n",
    "plt.title('Actual vs Predicted NO2_column_number_density on Unseen Data Sep (Random Forest)')\n",
    "plt.legend(loc='best',prop={'size':14})\n",
    "plt.xlabel('Pixel')\n",
    "plt.ylabel('NO2_column_number_density')"
   ]
  },
  {
   "cell_type": "code",
   "execution_count": null,
   "metadata": {},
   "outputs": [],
   "source": [
    "NO2_column_number_density=df['NO2_column_number_density']"
   ]
  },
  {
   "cell_type": "code",
   "execution_count": null,
   "metadata": {},
   "outputs": [],
   "source": [
    "X_all=scaler.transform(X)\n",
    "all_prediction=model.predict(X_all)"
   ]
  },
  {
   "cell_type": "code",
   "execution_count": null,
   "metadata": {},
   "outputs": [],
   "source": [
    "fig = plt.figure(figsize=(14,6))\n",
    "plt.plot(NO2_column_number_density,marker=\"o\", ms = 8, mfc = 'b', linestyle='None',label='Actual')\n",
    "plt.plot(all_prediction,marker=\"v\", ms = 9,linestyle='None', mfc = 'g',label='Prediction')\n",
    "plt.title('Actual vs Predicted NO2_column_number_density on Whole Data (Random Forest)')\n",
    "plt.legend(loc='best',prop={'size':14})\n",
    "plt.xlabel('Pixel')\n",
    "plt.ylabel('NO2_column_number_density')"
   ]
  },
  {
   "cell_type": "code",
   "execution_count": null,
   "metadata": {},
   "outputs": [],
   "source": [
    "#X.rename(index={0: \"B1\", 1: \"B10\", 2: \"B11\", 3: \"B2\",4: \"B3\", 5: \"B4\", 6: \"B5\", 7: \"B6\", 8: \"B7\"})"
   ]
  },
  {
   "cell_type": "code",
   "execution_count": null,
   "metadata": {},
   "outputs": [],
   "source": []
  },
  {
   "cell_type": "code",
   "execution_count": null,
   "metadata": {},
   "outputs": [],
   "source": [
    "display = plot_partial_dependence(\n",
    "       model, X, features=[0,1,2,3,4,5,6,7,8,9])\n",
    "\n",
    "display.figure_.suptitle('Partial dependence of No2, with Random Forest')\n",
    "display.figure_.subplots_adjust(hspace=0.5)"
   ]
  },
  {
   "cell_type": "code",
   "execution_count": null,
   "metadata": {},
   "outputs": [],
   "source": [
    "logit_model=sm.OLS(y_train,X_train)\n",
    "result=logit_model.fit()\n",
    "print(result.summary())"
   ]
  },
  {
   "cell_type": "markdown",
   "metadata": {},
   "source": [
    "## Start Mutlti-OutPut Regression Here! \n",
    "## With Target Output  \n",
    "## y=  ['NO2_column_number_density','tropospheric_NO2_column_number_density']"
   ]
  },
  {
   "cell_type": "code",
   "execution_count": null,
   "metadata": {},
   "outputs": [],
   "source": [
    "image_S5P = ee.ImageCollection(\"COPERNICUS/S5P/NRTI/L3_NO2\") \\\n",
    "    .filterBounds(roi) \\\n",
    "    .filterDate('2018-07-01', '2018-07-31') \\\n",
    "    .sort('ALGORITHM_VERSION') \\\n",
    "    .select('NO2_column_number_density','tropospheric_NO2_column_number_density') \\\n",
    "    .median() \\\n",
    "    .clip(roi)\n",
    "\n",
    "vis_params_S5P = {\n",
    "    'min': 0,\n",
    "    'max': 0.0002,\n",
    "    'bands': ['NO2_column_number_density'],\n",
    "    'palette': ['black', 'blue', 'purple', 'cyan', 'green', 'yellow', 'red']\n",
    "}\n",
    "\n",
    "Map_S5P.addLayer(image_S5P, vis_params_S5P, \"Sentinel-5P TROPOMI NO2\")"
   ]
  },
  {
   "cell_type": "code",
   "execution_count": null,
   "metadata": {},
   "outputs": [],
   "source": [
    "ground_truth= image_LANDSAT8.addBands(image_S5P)"
   ]
  },
  {
   "cell_type": "code",
   "execution_count": null,
   "metadata": {},
   "outputs": [],
   "source": [
    "# Make the training dataset.\n",
    "points = ground_truth.sample(**{\n",
    "    'region': ground_truth.geometry(),\n",
    "    'scale': 30,\n",
    "    'numPixels': 20000,\n",
    "    'seed': 0,\n",
    "    'geometries': True  # Set this to False to ignore geometries\n",
    "})\n",
    "\n",
    "Map_S5P.addLayer(points, {}, 'training', False)"
   ]
  },
  {
   "cell_type": "code",
   "execution_count": null,
   "metadata": {},
   "outputs": [],
   "source": [
    "print(points.size().getInfo())"
   ]
  },
  {
   "cell_type": "code",
   "execution_count": null,
   "metadata": {
    "scrolled": true
   },
   "outputs": [],
   "source": [
    "print(points.first().getInfo())"
   ]
  },
  {
   "cell_type": "code",
   "execution_count": null,
   "metadata": {},
   "outputs": [],
   "source": [
    "df = geemap.ee_to_pandas(points)\n",
    "df"
   ]
  },
  {
   "cell_type": "code",
   "execution_count": null,
   "metadata": {},
   "outputs": [],
   "source": [
    "import pandas as pd\n",
    "import seaborn as sn\n",
    "import matplotlib.pyplot as plt\n",
    "\n",
    "corrMatrix = df.corr()\n",
    "sn.heatmap(corrMatrix, annot=True)\n",
    "plt.show()"
   ]
  },
  {
   "cell_type": "code",
   "execution_count": null,
   "metadata": {
    "scrolled": true
   },
   "outputs": [],
   "source": [
    "df.corr()['NO2_column_number_density'].sort_values().plot(kind='bar')"
   ]
  },
  {
   "cell_type": "code",
   "execution_count": null,
   "metadata": {},
   "outputs": [],
   "source": [
    "X=df.drop(['NO2_column_number_density','tropospheric_NO2_column_number_density'],axis=1).values\n",
    "y=df[['NO2_column_number_density','tropospheric_NO2_column_number_density']].values\n"
   ]
  },
  {
   "cell_type": "code",
   "execution_count": null,
   "metadata": {},
   "outputs": [],
   "source": [
    "X_train, X_test, y_train, y_test = train_test_split(X, y, test_size=0.30, random_state=42)\n",
    "scaler=MinMaxScaler()\n",
    "X_train=scaler.fit_transform(X_train)\n",
    "X_test=scaler.transform(X_test)"
   ]
  },
  {
   "cell_type": "markdown",
   "metadata": {},
   "source": [
    "# Linear Regression for Multioutput Regression"
   ]
  },
  {
   "cell_type": "code",
   "execution_count": null,
   "metadata": {},
   "outputs": [],
   "source": [
    "# defining LinearRegression model\n",
    "model = LinearRegression()\n",
    "# fit model\n",
    "model.fit(X_train,y_train)\n",
    "# make a prediction\n",
    "prediction=model.predict(X_test)\n",
    "# summarize prediction\n",
    "print(prediction[0,0])\n",
    "\n",
    "##\n",
    "MSE=mean_squared_error(y_test[:,0],prediction[:,0])\n",
    "print(\"Mean Squared Error =\",MSE)\n",
    "MAPE=mean_absolute_percentage_error(y_test[:,0],prediction[:,0])\n",
    "print(\"Mean absolute percentage error =\",MAPE)\n",
    "\n",
    "\n",
    "fig = plt.figure(figsize=(14,6))\n",
    "plt.plot(y_test[:,0],marker=\"o\", ms = 8, mfc = 'b', linestyle='None',label='Actual')\n",
    "plt.plot(prediction[:,0],marker=\"v\", ms = 9,linestyle='None', mfc = 'g',label='Prediction')\n",
    "plt.title('Actual vs Predicted NO2_column_number_density on Test Data (Linear Regression)')\n",
    "plt.legend(loc='best',prop={'size':14})\n",
    "plt.xlabel('Pixel')\n",
    "plt.ylabel('NO2_column_number_density')\n",
    "\n",
    "fig = plt.figure(figsize=(14,6))\n",
    "plt.plot(y_test[:,1],marker=\"o\", ms = 8, mfc = 'b', linestyle='None',label='Actual')\n",
    "plt.plot(prediction[:,1],marker=\"v\", ms = 9,linestyle='None', mfc = 'g',label='Prediction')\n",
    "plt.title('Actual vs Predicted tropospheric_NO2_column_number_density on Test Data (Linear Regression)')\n",
    "plt.legend(loc='best',prop={'size':14})\n",
    "plt.xlabel('Pixel')\n",
    "plt.ylabel('Ntropospheric_NO2_column_number_density')\n",
    "\n",
    "logit_model=sm.OLS(y_train[:,0],X_train)\n",
    "result=logit_model.fit()\n",
    "print(result.summary())"
   ]
  },
  {
   "cell_type": "code",
   "execution_count": null,
   "metadata": {},
   "outputs": [],
   "source": []
  },
  {
   "cell_type": "markdown",
   "metadata": {},
   "source": [
    "# k-Nearest Neighbors for Multioutput Regression"
   ]
  },
  {
   "cell_type": "code",
   "execution_count": null,
   "metadata": {},
   "outputs": [],
   "source": [
    "# define model\n",
    "model = KNeighborsRegressor()\n",
    "# fit model\n",
    "model.fit(X_train,y_train)\n",
    "# make a prediction\n",
    "prediction=model.predict(X_test)\n",
    "# summarize prediction\n",
    "print(prediction[0,0])\n",
    "\n",
    "MSE=mean_squared_error(y_test[:,0],prediction[:,0])\n",
    "print(\"Mean Squared Error =\",MSE)\n",
    "MAPE=mean_absolute_percentage_error(y_test[:,0],prediction[:,0])\n",
    "print(\"Mean absolute percentage error =\",MAPE)\n",
    "\n",
    "fig = plt.figure(figsize=(14,6))\n",
    "plt.plot(y_test[:,0],marker=\"o\", ms = 8, mfc = 'b', linestyle='None',label='Actual')\n",
    "plt.plot(prediction[:,0],marker=\"v\", ms = 9,linestyle='None', mfc = 'g',label='Prediction')\n",
    "plt.title('Actual vs Predicted NO2_column_number_density on Test Data (k-Nearest Neighbors)')\n",
    "plt.legend(loc='best',prop={'size':14})\n",
    "plt.xlabel('Pixel')\n",
    "plt.ylabel('NO2_column_number_density')\n",
    "\n",
    "logit_model=sm.OLS(y_train[:,0],X_train)\n",
    "result=logit_model.fit()\n",
    "print(result.summary())"
   ]
  },
  {
   "cell_type": "markdown",
   "metadata": {},
   "source": [
    "# Decision Tree for Multioutput Regression"
   ]
  },
  {
   "cell_type": "code",
   "execution_count": null,
   "metadata": {},
   "outputs": [],
   "source": [
    "# define model\n",
    "model = DecisionTreeRegressor()\n",
    "# fit model\n",
    "model.fit(X_train,y_train)\n",
    "# make a prediction\n",
    "prediction=model.predict(X_test)\n",
    "# summarize prediction\n",
    "print(prediction[0,0])\n",
    "\n",
    "MSE=mean_squared_error(y_test[:,0],prediction[:,0])\n",
    "print(\"Mean Squared Error =\",MSE)\n",
    "MAPE=mean_absolute_percentage_error(y_test[:,0],prediction[:,0])\n",
    "print(\"Mean absolute percentage error =\",MAPE)\n",
    "\n",
    "fig = plt.figure(figsize=(14,6))\n",
    "plt.plot(y_test[:,0],marker=\"o\", ms = 8, mfc = 'b', linestyle='None',label='Actual')\n",
    "plt.plot(prediction[:,0],marker=\"v\", ms = 9,linestyle='None', mfc = 'g',label='Prediction')\n",
    "plt.title('Actual vs Predicted NO2_column_number_density on Test Data (Decision Tree)')\n",
    "plt.legend(loc='best',prop={'size':14})\n",
    "plt.xlabel('Pixel')\n",
    "plt.ylabel('NO2_column_number_density')\n",
    "\n",
    "logit_model=sm.OLS(y_train[:,0],X_train)\n",
    "result=logit_model.fit()\n",
    "print(result.summary())"
   ]
  },
  {
   "cell_type": "code",
   "execution_count": null,
   "metadata": {},
   "outputs": [],
   "source": [
    "prediction.shape"
   ]
  },
  {
   "cell_type": "code",
   "execution_count": null,
   "metadata": {},
   "outputs": [],
   "source": [
    "y_test.shape"
   ]
  },
  {
   "cell_type": "code",
   "execution_count": null,
   "metadata": {},
   "outputs": [],
   "source": []
  }
 ],
 "metadata": {
  "kernelspec": {
   "display_name": "Python 3",
   "language": "python",
   "name": "python3"
  },
  "language_info": {
   "codemirror_mode": {
    "name": "ipython",
    "version": 3
   },
   "file_extension": ".py",
   "mimetype": "text/x-python",
   "name": "python",
   "nbconvert_exporter": "python",
   "pygments_lexer": "ipython3",
   "version": "3.8.5"
  },
  "latex_envs": {
   "LaTeX_envs_menu_present": true,
   "autoclose": false,
   "autocomplete": true,
   "bibliofile": "biblio.bib",
   "cite_by": "apalike",
   "current_citInitial": 1,
   "eqLabelWithNumbers": true,
   "eqNumInitial": 1,
   "hotkeys": {
    "equation": "Ctrl-E",
    "itemize": "Ctrl-I"
   },
   "labels_anchors": false,
   "latex_user_defs": false,
   "report_style_numbering": false,
   "user_envs_cfg": false
  }
 },
 "nbformat": 4,
 "nbformat_minor": 5
}
